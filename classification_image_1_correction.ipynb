{
  "nbformat": 4,
  "nbformat_minor": 0,
  "metadata": {
    "colab": {
      "name": "classification_image_1_correction.ipynb",
      "provenance": [],
      "collapsed_sections": [],
      "include_colab_link": true
    },
    "kernelspec": {
      "name": "python3",
      "display_name": "Python 3"
    },
    "accelerator": "GPU"
  },
  "cells": [
    {
      "cell_type": "markdown",
      "metadata": {
        "id": "view-in-github",
        "colab_type": "text"
      },
      "source": [
        "<a href=\"https://colab.research.google.com/github/hbaflast/deep-learning-tutorial-fr/blob/main/classification_image_1_correction.ipynb\" target=\"_parent\"><img src=\"https://colab.research.google.com/assets/colab-badge.svg\" alt=\"Open In Colab\"/></a>"
      ]
    },
    {
      "cell_type": "markdown",
      "metadata": {
        "id": "mdtELs-8HC87"
      },
      "source": [
        "#**Classification d'images - MNIST**\n",
        "\n",
        "\n",
        "Dans cet exercice vous apprenez à utiliser des réseaux de neurones convolutifs afin de classifier des images de chiffres.\n",
        "\n",
        "Pour cela on utilise la librairie de deep learning Keras, et la base de données MNIST qui est une base de données très connue dans le monde du deep learning, car c'est un des premiers cas d'usage. Cette base de données contient des images de chiffres allant de 0 à 9, nous sommes donc dans le cas d'une classification multi classes."
      ]
    },
    {
      "cell_type": "markdown",
      "metadata": {
        "id": "tPjcNwGhIwzr"
      },
      "source": [
        "## **1 - Importation de module**"
      ]
    },
    {
      "cell_type": "markdown",
      "metadata": {
        "id": "s-KhoA8HE7AI"
      },
      "source": [
        "**Importer les modules Tensorflow, Numpy, Matplotlib et pylot de Matplotlib**"
      ]
    },
    {
      "cell_type": "code",
      "metadata": {
        "id": "aRc_qlZuzBQO"
      },
      "source": [
        "import numpy as np\n",
        "import matplotlib as mpl\n",
        "\n",
        "import tensorflow as tf\n",
        "\n",
        "import matplotlib.pyplot as plt"
      ],
      "execution_count": null,
      "outputs": []
    },
    {
      "cell_type": "code",
      "metadata": {
        "id": "qUJUIntRPap4"
      },
      "source": [
        "mpl.rcParams['axes.grid'] = False # On enlève les grilles des figure matplotlib pour le style"
      ],
      "execution_count": null,
      "outputs": []
    },
    {
      "cell_type": "markdown",
      "metadata": {
        "id": "wW2-HGuoJAmN"
      },
      "source": [
        "## 2 - Information sur la machine"
      ]
    },
    {
      "cell_type": "markdown",
      "metadata": {
        "id": "OCdgfHi0MNZj"
      },
      "source": [
        "**Test de l'activation du GPU**\n",
        "\n",
        "On vient tester si le GPU de la machine est bien activé et surtout si tensorflow utilise bien le GPU."
      ]
    },
    {
      "cell_type": "code",
      "metadata": {
        "id": "tpcczGzHGOxS",
        "outputId": "5b1af3e9-fefb-4237-9d64-88dced6d9cec",
        "colab": {
          "base_uri": "https://localhost:8080/",
          "height": 35
        }
      },
      "source": [
        "device_name = tf.test.gpu_device_name()\n",
        "if device_name != '/device:GPU:0':\n",
        "  raise SystemError('Working on CPU')\n",
        "print('Working on GPU : {}'.format(device_name))"
      ],
      "execution_count": null,
      "outputs": [
        {
          "output_type": "stream",
          "text": [
            "Working on GPU : /device:GPU:0\n"
          ],
          "name": "stdout"
        }
      ]
    },
    {
      "cell_type": "markdown",
      "metadata": {
        "id": "m5xDuHAtI8TL"
      },
      "source": [
        "Plus d'information sur le GPU via cette méthode et sur les différents devices qu'utilise tensorflow."
      ]
    },
    {
      "cell_type": "code",
      "metadata": {
        "id": "LMmdKB1utbw8",
        "outputId": "18d7bfb9-c6e0-4648-8639-85917e3b8d2c",
        "colab": {
          "base_uri": "https://localhost:8080/",
          "height": 508
        }
      },
      "source": [
        "from tensorflow.python.client import device_lib\n",
        "device_lib.list_local_devices()"
      ],
      "execution_count": null,
      "outputs": [
        {
          "output_type": "execute_result",
          "data": {
            "text/plain": [
              "[name: \"/device:CPU:0\"\n",
              " device_type: \"CPU\"\n",
              " memory_limit: 268435456\n",
              " locality {\n",
              " }\n",
              " incarnation: 13501964880137854686, name: \"/device:XLA_CPU:0\"\n",
              " device_type: \"XLA_CPU\"\n",
              " memory_limit: 17179869184\n",
              " locality {\n",
              " }\n",
              " incarnation: 15502447088586180225\n",
              " physical_device_desc: \"device: XLA_CPU device\", name: \"/device:XLA_GPU:0\"\n",
              " device_type: \"XLA_GPU\"\n",
              " memory_limit: 17179869184\n",
              " locality {\n",
              " }\n",
              " incarnation: 2133239085652133846\n",
              " physical_device_desc: \"device: XLA_GPU device\", name: \"/device:GPU:0\"\n",
              " device_type: \"GPU\"\n",
              " memory_limit: 15695549568\n",
              " locality {\n",
              "   bus_id: 1\n",
              "   links {\n",
              "   }\n",
              " }\n",
              " incarnation: 7049069446390956004\n",
              " physical_device_desc: \"device: 0, name: Tesla P100-PCIE-16GB, pci bus id: 0000:00:04.0, compute capability: 6.0\"]"
            ]
          },
          "metadata": {
            "tags": []
          },
          "execution_count": 144
        }
      ]
    },
    {
      "cell_type": "markdown",
      "metadata": {
        "id": "G2anhc2PJKCV"
      },
      "source": [
        "**Afficher les informations concernant le CPU de la machine**"
      ]
    },
    {
      "cell_type": "code",
      "metadata": {
        "id": "OIOHaAayzPb8",
        "outputId": "93866689-3e15-4dd2-e264-0c4216c6685f",
        "colab": {
          "base_uri": "https://localhost:8080/",
          "height": 440
        }
      },
      "source": [
        "! lscpu"
      ],
      "execution_count": null,
      "outputs": [
        {
          "output_type": "stream",
          "text": [
            "Architecture:        x86_64\n",
            "CPU op-mode(s):      32-bit, 64-bit\n",
            "Byte Order:          Little Endian\n",
            "CPU(s):              2\n",
            "On-line CPU(s) list: 0,1\n",
            "Thread(s) per core:  2\n",
            "Core(s) per socket:  1\n",
            "Socket(s):           1\n",
            "NUMA node(s):        1\n",
            "Vendor ID:           GenuineIntel\n",
            "CPU family:          6\n",
            "Model:               85\n",
            "Model name:          Intel(R) Xeon(R) CPU @ 2.00GHz\n",
            "Stepping:            3\n",
            "CPU MHz:             2000.168\n",
            "BogoMIPS:            4000.33\n",
            "Hypervisor vendor:   KVM\n",
            "Virtualization type: full\n",
            "L1d cache:           32K\n",
            "L1i cache:           32K\n",
            "L2 cache:            1024K\n",
            "L3 cache:            39424K\n",
            "NUMA node0 CPU(s):   0,1\n",
            "Flags:               fpu vme de pse tsc msr pae mce cx8 apic sep mtrr pge mca cmov pat pse36 clflush mmx fxsr sse sse2 ss ht syscall nx pdpe1gb rdtscp lm constant_tsc rep_good nopl xtopology nonstop_tsc cpuid tsc_known_freq pni pclmulqdq ssse3 fma cx16 pcid sse4_1 sse4_2 x2apic movbe popcnt aes xsave avx f16c rdrand hypervisor lahf_lm abm 3dnowprefetch invpcid_single ssbd ibrs ibpb stibp fsgsbase tsc_adjust bmi1 hle avx2 smep bmi2 erms invpcid rtm mpx avx512f avx512dq rdseed adx smap clflushopt clwb avx512cd avx512bw avx512vl xsaveopt xsavec xgetbv1 xsaves arat md_clear arch_capabilities\n"
          ],
          "name": "stdout"
        }
      ]
    },
    {
      "cell_type": "markdown",
      "metadata": {
        "id": "yqFeiiEKJ1eh"
      },
      "source": [
        "**Afficher les informations concernant le GPU**"
      ]
    },
    {
      "cell_type": "code",
      "metadata": {
        "id": "i4E1-gklthKM",
        "outputId": "b587674c-479e-4fb5-d113-7c4c2907df70",
        "colab": {
          "base_uri": "https://localhost:8080/",
          "height": 381
        }
      },
      "source": [
        "! nvidia-smi"
      ],
      "execution_count": null,
      "outputs": [
        {
          "output_type": "stream",
          "text": [
            "Wed Oct 28 11:50:37 2020       \n",
            "+-----------------------------------------------------------------------------+\n",
            "| NVIDIA-SMI 455.23.05    Driver Version: 418.67       CUDA Version: 10.1     |\n",
            "|-------------------------------+----------------------+----------------------+\n",
            "| GPU  Name        Persistence-M| Bus-Id        Disp.A | Volatile Uncorr. ECC |\n",
            "| Fan  Temp  Perf  Pwr:Usage/Cap|         Memory-Usage | GPU-Util  Compute M. |\n",
            "|                               |                      |               MIG M. |\n",
            "|===============================+======================+======================|\n",
            "|   0  Tesla P100-PCIE...  Off  | 00000000:00:04.0 Off |                    0 |\n",
            "| N/A   36C    P0    34W / 250W |    359MiB / 16280MiB |      0%      Default |\n",
            "|                               |                      |                 ERR! |\n",
            "+-------------------------------+----------------------+----------------------+\n",
            "                                                                               \n",
            "+-----------------------------------------------------------------------------+\n",
            "| Processes:                                                                  |\n",
            "|  GPU   GI   CI        PID   Type   Process name                  GPU Memory |\n",
            "|        ID   ID                                                   Usage      |\n",
            "|=============================================================================|\n",
            "|  No running processes found                                                 |\n",
            "+-----------------------------------------------------------------------------+\n"
          ],
          "name": "stdout"
        }
      ]
    },
    {
      "cell_type": "markdown",
      "metadata": {
        "id": "pvqD2d3jMGzK"
      },
      "source": [
        "**Afficher les informations concernant la RAM**\n",
        "\n",
        "Avec la commande cat"
      ]
    },
    {
      "cell_type": "code",
      "metadata": {
        "id": "3_-lDqL5GLFR",
        "outputId": "986a452d-d957-4ef9-b4ea-1398666e459a",
        "colab": {
          "base_uri": "https://localhost:8080/",
          "height": 872
        }
      },
      "source": [
        "!cat /proc/meminfo"
      ],
      "execution_count": null,
      "outputs": [
        {
          "output_type": "stream",
          "text": [
            "MemTotal:       13333536 kB\n",
            "MemFree:         9599856 kB\n",
            "MemAvailable:   11984692 kB\n",
            "Buffers:           76548 kB\n",
            "Cached:          2338036 kB\n",
            "SwapCached:            0 kB\n",
            "Active:          1082296 kB\n",
            "Inactive:        2242688 kB\n",
            "Active(anon):     753244 kB\n",
            "Inactive(anon):     8544 kB\n",
            "Active(file):     329052 kB\n",
            "Inactive(file):  2234144 kB\n",
            "Unevictable:           0 kB\n",
            "Mlocked:               0 kB\n",
            "SwapTotal:             0 kB\n",
            "SwapFree:              0 kB\n",
            "Dirty:               992 kB\n",
            "Writeback:             0 kB\n",
            "AnonPages:        910416 kB\n",
            "Mapped:           557440 kB\n",
            "Shmem:              9148 kB\n",
            "Slab:             170880 kB\n",
            "SReclaimable:     125140 kB\n",
            "SUnreclaim:        45740 kB\n",
            "KernelStack:        3892 kB\n",
            "PageTables:         7880 kB\n",
            "NFS_Unstable:          0 kB\n",
            "Bounce:                0 kB\n",
            "WritebackTmp:          0 kB\n",
            "CommitLimit:     6666768 kB\n",
            "Committed_AS:    3141464 kB\n",
            "VmallocTotal:   34359738367 kB\n",
            "VmallocUsed:           0 kB\n",
            "VmallocChunk:          0 kB\n",
            "Percpu:              944 kB\n",
            "AnonHugePages:         0 kB\n",
            "ShmemHugePages:        0 kB\n",
            "ShmemPmdMapped:        0 kB\n",
            "HugePages_Total:       0\n",
            "HugePages_Free:        0\n",
            "HugePages_Rsvd:        0\n",
            "HugePages_Surp:        0\n",
            "Hugepagesize:       2048 kB\n",
            "Hugetlb:               0 kB\n",
            "DirectMap4k:      195772 kB\n",
            "DirectMap2M:     6094848 kB\n",
            "DirectMap1G:     9437184 kB\n"
          ],
          "name": "stdout"
        }
      ]
    },
    {
      "cell_type": "markdown",
      "metadata": {
        "id": "hxJeOeWHK2Al"
      },
      "source": [
        "Sans la commande cat"
      ]
    },
    {
      "cell_type": "code",
      "metadata": {
        "id": "ziMvvsVF-sKl",
        "outputId": "3ef181ba-9436-4c4a-9c36-49f4ada9e3dd",
        "colab": {
          "base_uri": "https://localhost:8080/",
          "height": 72
        }
      },
      "source": [
        "! free -h"
      ],
      "execution_count": null,
      "outputs": [
        {
          "output_type": "stream",
          "text": [
            "              total        used        free      shared  buff/cache   available\n",
            "Mem:            12G        1.1G        9.2G        8.9M        2.4G         11G\n",
            "Swap:            0B          0B          0B\n"
          ],
          "name": "stdout"
        }
      ]
    },
    {
      "cell_type": "markdown",
      "metadata": {
        "id": "tB36Tcf3K7OL"
      },
      "source": [
        "**Afficher les informations sur le Disque Dur**"
      ]
    },
    {
      "cell_type": "code",
      "metadata": {
        "id": "RU7sqfSjtpuT",
        "outputId": "f9b2dc88-1500-47f7-c91b-8f6ca295a7a9",
        "colab": {
          "base_uri": "https://localhost:8080/",
          "height": 199
        }
      },
      "source": [
        "! df -h"
      ],
      "execution_count": null,
      "outputs": [
        {
          "output_type": "stream",
          "text": [
            "Filesystem      Size  Used Avail Use% Mounted on\n",
            "overlay          69G   31G   35G  47% /\n",
            "tmpfs            64M     0   64M   0% /dev\n",
            "tmpfs           6.4G     0  6.4G   0% /sys/fs/cgroup\n",
            "shm             5.8G     0  5.8G   0% /dev/shm\n",
            "/dev/sda1        75G   32G   44G  43% /opt/bin\n",
            "tmpfs           6.4G   12K  6.4G   1% /var/colab\n",
            "tmpfs           6.4G     0  6.4G   0% /proc/acpi\n",
            "tmpfs           6.4G     0  6.4G   0% /proc/scsi\n",
            "tmpfs           6.4G     0  6.4G   0% /sys/firmware\n"
          ],
          "name": "stdout"
        }
      ]
    },
    {
      "cell_type": "markdown",
      "metadata": {
        "id": "JI5vEeXNM7fN"
      },
      "source": [
        "## 3 - **Importation et Exploration des données**"
      ]
    },
    {
      "cell_type": "markdown",
      "metadata": {
        "id": "_kjio_iDLOTE"
      },
      "source": [
        "**Importer le jeu de données depuis Keras**\n",
        "\n",
        "Le jeu de données MNIST est directement téléchargable via Keras, car comme dit précédement il fait parti des jeu de données les plus connus en reconnaisance d'images."
      ]
    },
    {
      "cell_type": "code",
      "metadata": {
        "id": "F-ele5DYEN2E"
      },
      "source": [
        "from tensorflow.keras.datasets import mnist\n",
        "\n",
        "(x_train, y_train), (x_test, y_test) = mnist.load_data()"
      ],
      "execution_count": null,
      "outputs": []
    },
    {
      "cell_type": "markdown",
      "metadata": {
        "id": "LOcre2OkMf2W"
      },
      "source": [
        "**Afficher de quel type sont les données et leurs labels**"
      ]
    },
    {
      "cell_type": "code",
      "metadata": {
        "id": "KdVqTkqyM6uX",
        "outputId": "b06d5954-de70-400c-c5fc-7357d5ebeba8",
        "colab": {
          "base_uri": "https://localhost:8080/",
          "height": 54
        }
      },
      "source": [
        "print(\"Les données sont de type :\", type(x_train))\n",
        "print(\"Les labels sont de type :\", type(y_train))"
      ],
      "execution_count": null,
      "outputs": [
        {
          "output_type": "stream",
          "text": [
            "Les données sont de type : <class 'numpy.ndarray'>\n",
            "Les labels sont de type : <class 'numpy.ndarray'>\n"
          ],
          "name": "stdout"
        }
      ]
    },
    {
      "cell_type": "markdown",
      "metadata": {
        "id": "gAE9wchxNx6I"
      },
      "source": [
        "**Afficher les dimensions des données et de leurs labels**\n",
        "\n",
        "Du jeu d'entrainement"
      ]
    },
    {
      "cell_type": "code",
      "metadata": {
        "id": "QGedtTu6EOAA",
        "outputId": "0160b19c-796c-4082-de4a-c6259c79575c",
        "colab": {
          "base_uri": "https://localhost:8080/",
          "height": 35
        }
      },
      "source": [
        "x_train.shape, y_train.shape"
      ],
      "execution_count": null,
      "outputs": [
        {
          "output_type": "execute_result",
          "data": {
            "text/plain": [
              "((60000, 28, 28), (60000,))"
            ]
          },
          "metadata": {
            "tags": []
          },
          "execution_count": 148
        }
      ]
    },
    {
      "cell_type": "markdown",
      "metadata": {
        "id": "qlQP36KHN-mM"
      },
      "source": [
        "Du jeu de test"
      ]
    },
    {
      "cell_type": "code",
      "metadata": {
        "id": "rR9NTOR5N0Xt",
        "outputId": "3bf11e24-7ded-4c7d-f224-c52fc50cffc3",
        "colab": {
          "base_uri": "https://localhost:8080/",
          "height": 35
        }
      },
      "source": [
        "x_test.shape, y_test.shape"
      ],
      "execution_count": null,
      "outputs": [
        {
          "output_type": "execute_result",
          "data": {
            "text/plain": [
              "((10000, 28, 28), (10000,))"
            ]
          },
          "metadata": {
            "tags": []
          },
          "execution_count": 13
        }
      ]
    },
    {
      "cell_type": "markdown",
      "metadata": {
        "id": "5GmWFMnxOCHr"
      },
      "source": [
        "**Quelle est la résolution des images ?**\n",
        "\n",
        "---\n",
        "\n"
      ]
    },
    {
      "cell_type": "markdown",
      "metadata": {
        "id": "ZjqGicaXOGL_"
      },
      "source": [
        "*Les images sont de résolution 28x28 pixels*"
      ]
    },
    {
      "cell_type": "markdown",
      "metadata": {
        "id": "GpIjKQ9LOhdi"
      },
      "source": [
        "**Visualiser une image**"
      ]
    },
    {
      "cell_type": "code",
      "metadata": {
        "id": "KZdTxGp-EOCo",
        "outputId": "d5cc6f78-907e-4676-ddc7-409878fa0957",
        "colab": {
          "base_uri": "https://localhost:8080/",
          "height": 265
        }
      },
      "source": [
        "plt.imshow(x_train[9], cmap='gray');"
      ],
      "execution_count": null,
      "outputs": [
        {
          "output_type": "display_data",
          "data": {
            "image/png": "[encoded data removed]",
            "text/plain": [
              "<Figure size 432x288 with 1 Axes>"
            ]
          },
          "metadata": {
            "tags": [],
            "needs_background": "light"
          }
        }
      ]
    },
    {
      "cell_type": "markdown",
      "metadata": {
        "id": "N11CPK0iVyIc"
      },
      "source": [
        "**Visualiser cette image sous son format de matrice**"
      ]
    },
    {
      "cell_type": "code",
      "metadata": {
        "id": "pH0hUHraToAO",
        "outputId": "3d5589b6-8a32-4542-cc39-1723ed133b94",
        "colab": {
          "base_uri": "https://localhost:8080/",
          "height": 1000
        }
      },
      "source": [
        "x_train[9]"
      ],
      "execution_count": null,
      "outputs": [
        {
          "output_type": "execute_result",
          "data": {
            "text/plain": [
              "array([[  0,   0,   0,   0,   0,   0,   0,   0,   0,   0,   0,   0,   0,\n",
              "          0,   0,   0,   0,   0,   0,   0,   0,   0,   0,   0,   0,   0,\n",
              "          0,   0],\n",
              "       [  0,   0,   0,   0,   0,   0,   0,   0,   0,   0,   0,   0,   0,\n",
              "          0,   0,   0,   0,   0,   0,   0,   0,   0,   0,   0,   0,   0,\n",
              "          0,   0],\n",
              "       [  0,   0,   0,   0,   0,   0,   0,   0,   0,   0,   0,   0,   0,\n",
              "          0,   0,   0,   0,   0,   0,   0,   0,   0,   0,   0,   0,   0,\n",
              "          0,   0],\n",
              "       [  0,   0,   0,   0,   0,   0,   0,   0,   0,   0,   0,   0,   0,\n",
              "          0,   0,   0,   0,   0,   0,   0,   0,   0,   0,   0,   0,   0,\n",
              "          0,   0],\n",
              "       [  0,   0,   0,   0,   0,   0,   0,   0,   0,   0,   0,   0,   0,\n",
              "          0,   0,   0,   0,   0,   0,   0,   0,   0, 189, 190,   0,   0,\n",
              "          0,   0],\n",
              "       [  0,   0,   0,   0,   0,   0,   0,   0,   0,   0,   0,   0,   0,\n",
              "          0,   0,   0,   0,   0,   0,   0,   0, 143, 247, 153,   0,   0,\n",
              "          0,   0],\n",
              "       [  0,   0,   0,   0,   0,   0,   0,   0,   0,   0,   0,   0,   0,\n",
              "          0,   0,   0,   0,   0,   0,   0, 136, 247, 242,  86,   0,   0,\n",
              "          0,   0],\n",
              "       [  0,   0,   0,   0,   0,   0,   0,   0,   0,   0,   0,   0,   0,\n",
              "          0,   0,   0,   0,   0,   0,   0, 192, 252, 187,   0,   0,   0,\n",
              "          0,   0],\n",
              "       [  0,   0,   0,   0,   0,   0,   0,   0,   0,   0,   0,   0,  62,\n",
              "        185,  18,   0,   0,   0,   0,  89, 236, 217,  47,   0,   0,   0,\n",
              "          0,   0],\n",
              "       [  0,   0,   0,   0,   0,   0,   0,   0,   0,   0,   0,   0, 216,\n",
              "        253,  60,   0,   0,   0,   0, 212, 255,  81,   0,   0,   0,   0,\n",
              "          0,   0],\n",
              "       [  0,   0,   0,   0,   0,   0,   0,   0,   0,   0,   0,   0, 206,\n",
              "        252,  68,   0,   0,   0,  48, 242, 253,  89,   0,   0,   0,   0,\n",
              "          0,   0],\n",
              "       [  0,   0,   0,   0,   0,   0,   0,   0,   0,   0,   0, 131, 251,\n",
              "        212,  21,   0,   0,  11, 167, 252, 197,   5,   0,   0,   0,   0,\n",
              "          0,   0],\n",
              "       [  0,   0,   0,   0,   0,   0,   0,   0,   0,   0,  29, 232, 247,\n",
              "         63,   0,   0,   0, 153, 252, 226,   0,   0,   0,   0,   0,   0,\n",
              "          0,   0],\n",
              "       [  0,   0,   0,   0,   0,   0,   0,   0,   0,  45, 219, 252, 143,\n",
              "          0,   0,   0, 116, 249, 252, 103,   0,   0,   0,   0,   0,   0,\n",
              "          0,   0],\n",
              "       [  0,   0,   0,   0,   0,   0,   0,   4,  96, 253, 255, 253, 200,\n",
              "        122,   7,  25, 201, 250, 158,   0,   0,   0,   0,   0,   0,   0,\n",
              "          0,   0],\n",
              "       [  0,   0,   0,   0,   0,   0,   0,  92, 252, 252, 253, 217, 252,\n",
              "        252, 200, 227, 252, 231,   0,   0,   0,   0,   0,   0,   0,   0,\n",
              "          0,   0],\n",
              "       [  0,   0,   0,   0,   0,   0,  87, 251, 247, 231,  65,  48, 189,\n",
              "        252, 252, 253, 252, 251, 227,  35,   0,   0,   0,   0,   0,   0,\n",
              "          0,   0],\n",
              "       [  0,   0,   0,   0,   0,   0, 190, 221,  98,   0,   0,   0,  42,\n",
              "        196, 252, 253, 252, 252, 162,   0,   0,   0,   0,   0,   0,   0,\n",
              "          0,   0],\n",
              "       [  0,   0,   0,   0,   0,   0, 111,  29,   0,   0,   0,   0,  62,\n",
              "        239, 252,  86,  42,  42,  14,   0,   0,   0,   0,   0,   0,   0,\n",
              "          0,   0],\n",
              "       [  0,   0,   0,   0,   0,   0,   0,   0,   0,   0,   0,  15, 148,\n",
              "        253, 218,   0,   0,   0,   0,   0,   0,   0,   0,   0,   0,   0,\n",
              "          0,   0],\n",
              "       [  0,   0,   0,   0,   0,   0,   0,   0,   0,   0,   0, 121, 252,\n",
              "        231,  28,   0,   0,   0,   0,   0,   0,   0,   0,   0,   0,   0,\n",
              "          0,   0],\n",
              "       [  0,   0,   0,   0,   0,   0,   0,   0,   0,   0,  31, 221, 251,\n",
              "        129,   0,   0,   0,   0,   0,   0,   0,   0,   0,   0,   0,   0,\n",
              "          0,   0],\n",
              "       [  0,   0,   0,   0,   0,   0,   0,   0,   0,   0, 218, 252, 160,\n",
              "          0,   0,   0,   0,   0,   0,   0,   0,   0,   0,   0,   0,   0,\n",
              "          0,   0],\n",
              "       [  0,   0,   0,   0,   0,   0,   0,   0,   0,   0, 122, 252,  82,\n",
              "          0,   0,   0,   0,   0,   0,   0,   0,   0,   0,   0,   0,   0,\n",
              "          0,   0],\n",
              "       [  0,   0,   0,   0,   0,   0,   0,   0,   0,   0,   0,   0,   0,\n",
              "          0,   0,   0,   0,   0,   0,   0,   0,   0,   0,   0,   0,   0,\n",
              "          0,   0],\n",
              "       [  0,   0,   0,   0,   0,   0,   0,   0,   0,   0,   0,   0,   0,\n",
              "          0,   0,   0,   0,   0,   0,   0,   0,   0,   0,   0,   0,   0,\n",
              "          0,   0],\n",
              "       [  0,   0,   0,   0,   0,   0,   0,   0,   0,   0,   0,   0,   0,\n",
              "          0,   0,   0,   0,   0,   0,   0,   0,   0,   0,   0,   0,   0,\n",
              "          0,   0],\n",
              "       [  0,   0,   0,   0,   0,   0,   0,   0,   0,   0,   0,   0,   0,\n",
              "          0,   0,   0,   0,   0,   0,   0,   0,   0,   0,   0,   0,   0,\n",
              "          0,   0]], dtype=uint8)"
            ]
          },
          "metadata": {
            "tags": []
          },
          "execution_count": 15
        }
      ]
    },
    {
      "cell_type": "markdown",
      "metadata": {
        "id": "HpEaMSFg8i5H"
      },
      "source": [
        "**Afficher la liste des labels**"
      ]
    },
    {
      "cell_type": "code",
      "metadata": {
        "id": "rpbzJxHd81C5",
        "outputId": "f4fd52d5-1386-4c88-e329-a84a978ee468",
        "colab": {
          "base_uri": "https://localhost:8080/",
          "height": 35
        }
      },
      "source": [
        "np.unique(y_train)"
      ],
      "execution_count": null,
      "outputs": [
        {
          "output_type": "execute_result",
          "data": {
            "text/plain": [
              "array([0, 1, 2, 3, 4, 5, 6, 7, 8, 9], dtype=uint8)"
            ]
          },
          "metadata": {
            "tags": []
          },
          "execution_count": 149
        }
      ]
    },
    {
      "cell_type": "markdown",
      "metadata": {
        "id": "CcJHPCzePnuV"
      },
      "source": [
        "**Afficher la distribution des labels**\n",
        "\n",
        "Du jeu d'entrainement"
      ]
    },
    {
      "cell_type": "code",
      "metadata": {
        "id": "Nk1aQgoq7DCl",
        "outputId": "3da01e8e-8382-421c-b477-f3db101879dd",
        "colab": {
          "base_uri": "https://localhost:8080/",
          "height": 267
        }
      },
      "source": [
        "plt.hist(y_train, edgecolor = 'black');"
      ],
      "execution_count": null,
      "outputs": [
        {
          "output_type": "display_data",
          "data": {
            "image/png": "[encoded data removed]",
            "text/plain": [
              "<Figure size 432x288 with 1 Axes>"
            ]
          },
          "metadata": {
            "tags": [],
            "needs_background": "light"
          }
        }
      ]
    },
    {
      "cell_type": "markdown",
      "metadata": {
        "id": "BvJ51iMUP1Ip"
      },
      "source": [
        "Du jeu de test"
      ]
    },
    {
      "cell_type": "code",
      "metadata": {
        "id": "fCP9zUgM8ZJ0",
        "outputId": "8466f8d1-e49b-4bce-d79d-c8b68d335aff",
        "colab": {
          "base_uri": "https://localhost:8080/",
          "height": 265
        }
      },
      "source": [
        "plt.hist(y_test, edgecolor = 'black');"
      ],
      "execution_count": null,
      "outputs": [
        {
          "output_type": "display_data",
          "data": {
            "image/png": "[encoded data removed]",
            "text/plain": [
              "<Figure size 432x288 with 1 Axes>"
            ]
          },
          "metadata": {
            "tags": [],
            "needs_background": "light"
          }
        }
      ]
    },
    {
      "cell_type": "markdown",
      "metadata": {
        "id": "t0Yq9MqEG_pm"
      },
      "source": [
        "**Que remarque-t-on ?**\n",
        "\n",
        "---\n",
        "\n"
      ]
    },
    {
      "cell_type": "markdown",
      "metadata": {
        "id": "ZFdnOGkFG_vK"
      },
      "source": [
        "*Les données sont bien balancées*"
      ]
    },
    {
      "cell_type": "markdown",
      "metadata": {
        "id": "0XFjKVgcV9Ga"
      },
      "source": [
        "**Afficher pour chaque classe du jeu de données une image lui correspondant**"
      ]
    },
    {
      "cell_type": "code",
      "metadata": {
        "id": "c5zmP8VwRc96",
        "outputId": "27ff804b-b281-44bc-832e-e91ae5018a1b",
        "colab": {
          "base_uri": "https://localhost:8080/",
          "height": 536
        }
      },
      "source": [
        "plt.figure(figsize=(9,9))\n",
        "for classe in range(10):\n",
        "  plt.subplot(4, 3, classe+1) \n",
        "  ix = np.random.choice(np.where(y_train == classe)[0])\n",
        "  plt.imshow(x_train[ix])\n",
        "  plt.axis('off')\n",
        "  plt.title(classe)"
      ],
      "execution_count": null,
      "outputs": [
        {
          "output_type": "display_data",
          "data": {
            "image/png": "[encoded data removed]",
            "text/plain": [
              "<Figure size 648x648 with 10 Axes>"
            ]
          },
          "metadata": {
            "tags": [],
            "needs_background": "light"
          }
        }
      ]
    },
    {
      "cell_type": "markdown",
      "metadata": {
        "id": "llk9Ya3wGfeE"
      },
      "source": [
        "## **4 - Préparation des données**"
      ]
    },
    {
      "cell_type": "markdown",
      "metadata": {
        "id": "MzmNnoDvR3_z"
      },
      "source": [
        "**Changer le data type des arrays en float32**"
      ]
    },
    {
      "cell_type": "code",
      "metadata": {
        "id": "jyYoGkPvR52W"
      },
      "source": [
        "X_train = x_train.astype('float32')\n",
        "X_test = x_test.astype('float32')"
      ],
      "execution_count": null,
      "outputs": []
    },
    {
      "cell_type": "markdown",
      "metadata": {
        "id": "8uqGlfeSR5D7"
      },
      "source": [
        "**Normaliser les données afin que les pixels soient compris entre 0 et 1**"
      ]
    },
    {
      "cell_type": "code",
      "metadata": {
        "id": "2h49Sx34R6Xb"
      },
      "source": [
        "X_train /= 255.0\n",
        "X_test /= 255.0"
      ],
      "execution_count": null,
      "outputs": []
    },
    {
      "cell_type": "markdown",
      "metadata": {
        "id": "YHbv9L6kR5Lq"
      },
      "source": [
        "**Changer les dimensions des jeux de données afin d'avoir 4 dimensions**"
      ]
    },
    {
      "cell_type": "code",
      "metadata": {
        "id": "CHStjgcnR6wD"
      },
      "source": [
        "X_train = X_train.reshape(X_train.shape[0], X_train.shape[1], X_train.shape[2], 1)\n",
        "X_test = X_test.reshape(X_test.shape[0], X_test.shape[1], X_test.shape[2], 1)"
      ],
      "execution_count": null,
      "outputs": []
    },
    {
      "cell_type": "markdown",
      "metadata": {
        "id": "rqvqURbOT7-O"
      },
      "source": [
        "**Effectuer un One-hot encodage des labels**\n",
        "\n",
        "On a besoin d'encoder nos labels afin d'en obtenir une meilleure représentation et de ne pas avoir de notion d'ordre\n",
        "\n",
        "On utilise pour cela une fonction de la librairie de machine learning scikit-learn"
      ]
    },
    {
      "cell_type": "code",
      "metadata": {
        "id": "G6zae0NWHEoQ"
      },
      "source": [
        "from sklearn.preprocessing import OneHotEncoder"
      ],
      "execution_count": null,
      "outputs": []
    },
    {
      "cell_type": "code",
      "metadata": {
        "id": "kpHsPslcHHJX"
      },
      "source": [
        "enc = OneHotEncoder()"
      ],
      "execution_count": null,
      "outputs": []
    },
    {
      "cell_type": "code",
      "metadata": {
        "id": "1ggrn7IUG2hr"
      },
      "source": [
        "Y_train = enc.fit_transform(np.vstack(y_train)).toarray()\n",
        "Y_test = enc.fit_transform(np.vstack(y_test)).toarray()"
      ],
      "execution_count": null,
      "outputs": []
    },
    {
      "cell_type": "markdown",
      "metadata": {
        "id": "l6Swss1qUjuq"
      },
      "source": [
        "**Afficher maintenant les dimensions des labels**"
      ]
    },
    {
      "cell_type": "code",
      "metadata": {
        "id": "Xe4Ngw0FHf_6",
        "outputId": "6384bd74-a14f-4334-cf78-e00c702ca415",
        "colab": {
          "base_uri": "https://localhost:8080/",
          "height": 35
        }
      },
      "source": [
        "Y_train.shape, Y_test.shape"
      ],
      "execution_count": null,
      "outputs": [
        {
          "output_type": "execute_result",
          "data": {
            "text/plain": [
              "((60000, 10), (10000, 10))"
            ]
          },
          "metadata": {
            "tags": []
          },
          "execution_count": 166
        }
      ]
    },
    {
      "cell_type": "markdown",
      "metadata": {
        "id": "DU9IyW0WU2lI"
      },
      "source": [
        "**Que remarque t'on ?**\n",
        "\n",
        "---\n",
        "\n"
      ]
    },
    {
      "cell_type": "markdown",
      "metadata": {
        "id": "scD8833CU7W2"
      },
      "source": [
        "*Les arrays des labels ont maintenant 2 dimensions*"
      ]
    },
    {
      "cell_type": "markdown",
      "metadata": {
        "id": "pTJwA9wJUzVZ"
      },
      "source": [
        "**Afficher un label non encodé et son équivalent encodé**"
      ]
    },
    {
      "cell_type": "code",
      "metadata": {
        "id": "3cW979MkH_5s",
        "outputId": "06298de5-0a9a-4ece-beb0-8bf9b32380ed",
        "colab": {
          "base_uri": "https://localhost:8080/",
          "height": 54
        }
      },
      "source": [
        "print(\"Label non encodé :\", y_train[0])\n",
        "print('Label encodé :', Y_train[0])"
      ],
      "execution_count": null,
      "outputs": [
        {
          "output_type": "stream",
          "text": [
            "Label non encodé : 5\n",
            "Label encodé : [0. 0. 0. 0. 0. 1. 0. 0. 0. 0.]\n"
          ],
          "name": "stdout"
        }
      ]
    },
    {
      "cell_type": "markdown",
      "metadata": {
        "id": "1CrGQhEWEP3K"
      },
      "source": [
        "## **5 - Definition du modèle**\n",
        "\n"
      ]
    },
    {
      "cell_type": "markdown",
      "metadata": {
        "id": "trRHQ0oPVTrz"
      },
      "source": [
        "**Importer les classes et fonctions nécessaires à la construction d'un modèle**"
      ]
    },
    {
      "cell_type": "code",
      "metadata": {
        "id": "5baSJgmnE0xC"
      },
      "source": [
        "from tensorflow.keras.models import Sequential\n",
        "from tensorflow.keras.layers import Conv2D, MaxPooling2D, Dense, Flatten, Dropout\n",
        "from tensorflow.keras.optimizers import Adam"
      ],
      "execution_count": null,
      "outputs": []
    },
    {
      "cell_type": "markdown",
      "metadata": {
        "id": "lLUsa9QCVlWj"
      },
      "source": [
        "**Faire une fonction permettant de créer un modèle**\n",
        "\n",
        "Nous sommes ici dans un cas de classification multi classes il faut donc choisir la fonction de coût et la fonction d'activation de la dernière couche qui correspond au problème."
      ]
    },
    {
      "cell_type": "code",
      "metadata": {
        "id": "XeYtO5HhB7-K"
      },
      "source": [
        "def create_model():\n",
        "  \n",
        "  model = Sequential()\n",
        "  model.add(Conv2D(32, (3, 3), activation='relu', padding='same', input_shape=(28, 28, 1)))\n",
        "  model.add(MaxPooling2D(pool_size=(2, 2)))\n",
        "\n",
        "  model.add(Conv2D(64, (3, 3), activation='relu', padding='same'))\n",
        "  model.add(MaxPooling2D(pool_size=(2, 2)))\n",
        "\n",
        "  model.add(Flatten())\n",
        "  model.add(Dense(10, activation='softmax'))\n",
        "  \n",
        "  opt = Adam(lr=0.001)\n",
        "  \n",
        "  model.compile(loss='categorical_crossentropy',\n",
        "                optimizer=opt,\n",
        "                metrics=['accuracy'])\n",
        "  \n",
        "  return model"
      ],
      "execution_count": null,
      "outputs": []
    },
    {
      "cell_type": "markdown",
      "metadata": {
        "id": "Fe99fCgVYRWY"
      },
      "source": [
        "**Afficher un résumé de votre modèle**"
      ]
    },
    {
      "cell_type": "code",
      "metadata": {
        "id": "ctKos7G0FZ4J",
        "outputId": "a77c4b1a-806f-4273-972b-04b8b52f0329",
        "colab": {
          "base_uri": "https://localhost:8080/",
          "height": 381
        }
      },
      "source": [
        "model = create_model()\n",
        "model.summary()"
      ],
      "execution_count": null,
      "outputs": [
        {
          "output_type": "stream",
          "text": [
            "Model: \"sequential_2\"\n",
            "_________________________________________________________________\n",
            "Layer (type)                 Output Shape              Param #   \n",
            "=================================================================\n",
            "conv2d_4 (Conv2D)            (None, 28, 28, 32)        320       \n",
            "_________________________________________________________________\n",
            "max_pooling2d_4 (MaxPooling2 (None, 14, 14, 32)        0         \n",
            "_________________________________________________________________\n",
            "conv2d_5 (Conv2D)            (None, 14, 14, 64)        18496     \n",
            "_________________________________________________________________\n",
            "max_pooling2d_5 (MaxPooling2 (None, 7, 7, 64)          0         \n",
            "_________________________________________________________________\n",
            "flatten_2 (Flatten)          (None, 3136)              0         \n",
            "_________________________________________________________________\n",
            "dense_2 (Dense)              (None, 10)                31370     \n",
            "=================================================================\n",
            "Total params: 50,186\n",
            "Trainable params: 50,186\n",
            "Non-trainable params: 0\n",
            "_________________________________________________________________\n"
          ],
          "name": "stdout"
        }
      ]
    },
    {
      "cell_type": "markdown",
      "metadata": {
        "id": "m-olaELBYW6r"
      },
      "source": [
        "**Entrainer le modèle**\n",
        "\n",
        "On conserve l'historique de l'entrainement du modèle afin d'evaluer sa progression par la suite.\n",
        "\n",
        "On utilisera un jeu de validation correspondant à un cinquième du jeu d'entrainement."
      ]
    },
    {
      "cell_type": "code",
      "metadata": {
        "id": "fNehuJl3RdA6",
        "outputId": "db5362cc-c189-4328-b379-7cdf8a00bd6c",
        "colab": {
          "base_uri": "https://localhost:8080/",
          "height": 381
        }
      },
      "source": [
        "history = model.fit(X_train, Y_train,\n",
        "                    batch_size=16,\n",
        "                    epochs=10,\n",
        "                    validation_split=0.2,\n",
        "                    shuffle=True)"
      ],
      "execution_count": null,
      "outputs": [
        {
          "output_type": "stream",
          "text": [
            "Epoch 1/10\n",
            "3000/3000 [==============================] - 8s 3ms/step - loss: 0.1421 - accuracy: 0.9560 - val_loss: 0.0553 - val_accuracy: 0.9827\n",
            "Epoch 2/10\n",
            "3000/3000 [==============================] - 8s 3ms/step - loss: 0.0490 - accuracy: 0.9847 - val_loss: 0.0488 - val_accuracy: 0.9852\n",
            "Epoch 3/10\n",
            "3000/3000 [==============================] - 8s 3ms/step - loss: 0.0332 - accuracy: 0.9896 - val_loss: 0.0414 - val_accuracy: 0.9887\n",
            "Epoch 4/10\n",
            "3000/3000 [==============================] - 9s 3ms/step - loss: 0.0257 - accuracy: 0.9917 - val_loss: 0.0376 - val_accuracy: 0.9889\n",
            "Epoch 5/10\n",
            "3000/3000 [==============================] - 8s 3ms/step - loss: 0.0199 - accuracy: 0.9937 - val_loss: 0.0393 - val_accuracy: 0.9880\n",
            "Epoch 6/10\n",
            "3000/3000 [==============================] - 8s 3ms/step - loss: 0.0147 - accuracy: 0.9952 - val_loss: 0.0458 - val_accuracy: 0.9893\n",
            "Epoch 7/10\n",
            "3000/3000 [==============================] - 8s 3ms/step - loss: 0.0118 - accuracy: 0.9963 - val_loss: 0.0394 - val_accuracy: 0.9902\n",
            "Epoch 8/10\n",
            "3000/3000 [==============================] - 8s 3ms/step - loss: 0.0104 - accuracy: 0.9965 - val_loss: 0.0451 - val_accuracy: 0.9902\n",
            "Epoch 9/10\n",
            "3000/3000 [==============================] - 8s 3ms/step - loss: 0.0080 - accuracy: 0.9972 - val_loss: 0.0608 - val_accuracy: 0.9885\n",
            "Epoch 10/10\n",
            "3000/3000 [==============================] - 8s 3ms/step - loss: 0.0071 - accuracy: 0.9975 - val_loss: 0.0649 - val_accuracy: 0.9866\n"
          ],
          "name": "stdout"
        }
      ]
    },
    {
      "cell_type": "markdown",
      "metadata": {
        "id": "I970IdQuIzOF"
      },
      "source": [
        "**Evaluer le modèle sur le jeu de test**\n",
        "\n",
        "Afficher la loss et l'accuracy du modèle"
      ]
    },
    {
      "cell_type": "code",
      "metadata": {
        "id": "gVWHCN20Ivfi",
        "outputId": "5fad7249-5230-47ee-f5ff-63be1ee6e2a8",
        "colab": {
          "base_uri": "https://localhost:8080/",
          "height": 72
        }
      },
      "source": [
        "scores = model.evaluate(X_test, Y_test, verbose=1)\n",
        "print('Test loss:', scores[0])\n",
        "print('Test accuracy:', scores[1])"
      ],
      "execution_count": null,
      "outputs": [
        {
          "output_type": "stream",
          "text": [
            "750/750 [==============================] - 1s 2ms/step - loss: 0.0534 - accuracy: 0.9869\n",
            "Test loss: 0.053440969437360764\n",
            "Test accuracy: 0.9869166612625122\n"
          ],
          "name": "stdout"
        }
      ]
    },
    {
      "cell_type": "markdown",
      "metadata": {
        "id": "RJYTv5nTlnx3"
      },
      "source": [
        "**Quelle accuracy obtenez-vous ?**\n",
        "\n",
        "---\n"
      ]
    },
    {
      "cell_type": "markdown",
      "metadata": {
        "id": "iQnfoP2Kln6N"
      },
      "source": [
        "*99% d'accuracy*"
      ]
    },
    {
      "cell_type": "markdown",
      "metadata": {
        "id": "qt1I_wmEHCql"
      },
      "source": [
        "**Afficher les courbes d'accuracy**"
      ]
    },
    {
      "cell_type": "code",
      "metadata": {
        "id": "H0YpHB_oHC1o",
        "outputId": "bc00c161-6a21-40ac-880a-3807c95fbc0e",
        "colab": {
          "base_uri": "https://localhost:8080/",
          "height": 279
        }
      },
      "source": [
        "plt.plot(history.history['accuracy'], label='accuracy')\n",
        "plt.plot(history.history['val_accuracy'], label='val_accuracy')\n",
        "plt.xlabel('epoch')\n",
        "plt.ylabel('accuracy')\n",
        "plt.legend();"
      ],
      "execution_count": null,
      "outputs": [
        {
          "output_type": "display_data",
          "data": {
            "image/png": "[encoded data removed]",
            "text/plain": [
              "<Figure size 432x288 with 1 Axes>"
            ]
          },
          "metadata": {
            "tags": [],
            "needs_background": "light"
          }
        }
      ]
    },
    {
      "cell_type": "markdown",
      "metadata": {
        "id": "a1MNYnh-PDVf"
      },
      "source": [
        "## **6 - Visualisation des prédictions**"
      ]
    },
    {
      "cell_type": "markdown",
      "metadata": {
        "id": "YHRbpvF3cHOp"
      },
      "source": [
        "**Effectuer les prédictions du modèle sur le jeu de test**"
      ]
    },
    {
      "cell_type": "code",
      "metadata": {
        "id": "XmAqe5WmPDbw",
        "outputId": "a966fbfb-a024-447f-d94a-374f53eb3495",
        "colab": {
          "base_uri": "https://localhost:8080/",
          "height": 35
        }
      },
      "source": [
        "Y_pred = model.predict(X_test, verbose=1)"
      ],
      "execution_count": null,
      "outputs": [
        {
          "output_type": "stream",
          "text": [
            "313/313 [==============================] - 0s 1ms/step\n"
          ],
          "name": "stdout"
        }
      ]
    },
    {
      "cell_type": "markdown",
      "metadata": {
        "id": "4urPc2RbcZZ0"
      },
      "source": [
        "**Afficher les prédictions**"
      ]
    },
    {
      "cell_type": "code",
      "metadata": {
        "id": "rJ55EGbRPYEN",
        "outputId": "b935a271-615b-4ee9-bfaa-0856ce7a8781",
        "colab": {
          "base_uri": "https://localhost:8080/",
          "height": 254
        }
      },
      "source": [
        "Y_pred"
      ],
      "execution_count": null,
      "outputs": [
        {
          "output_type": "execute_result",
          "data": {
            "text/plain": [
              "array([[2.2188621e-20, 1.5495986e-15, 4.8687266e-11, ..., 1.0000000e+00,\n",
              "        1.3029281e-15, 6.6732958e-10],\n",
              "       [5.2389538e-12, 3.4843071e-09, 1.0000000e+00, ..., 4.4196220e-21,\n",
              "        4.0636143e-15, 1.5714377e-17],\n",
              "       [7.3019398e-15, 1.0000000e+00, 2.1025568e-12, ..., 4.5822438e-10,\n",
              "        4.8945858e-10, 9.6835415e-15],\n",
              "       ...,\n",
              "       [4.3480713e-26, 1.4021489e-13, 5.5660732e-23, ..., 7.6521959e-14,\n",
              "        6.9051602e-17, 6.2087892e-15],\n",
              "       [2.0350065e-14, 2.0385509e-20, 2.4375041e-17, ..., 7.8928519e-19,\n",
              "        3.7136365e-07, 4.5992304e-17],\n",
              "       [2.7540475e-10, 9.8964541e-20, 6.2524329e-13, ..., 9.5723336e-22,\n",
              "        7.2444398e-11, 2.0723642e-17]], dtype=float32)"
            ]
          },
          "metadata": {
            "tags": []
          },
          "execution_count": 176
        }
      ]
    },
    {
      "cell_type": "markdown",
      "metadata": {
        "id": "JA10524DckTn"
      },
      "source": [
        "**Afficher les dimensions de l'array des précisions**"
      ]
    },
    {
      "cell_type": "code",
      "metadata": {
        "id": "Oye0a3hUcrVl",
        "outputId": "5eba0789-b0e4-40cb-c93d-c65eb4ec6bac",
        "colab": {
          "base_uri": "https://localhost:8080/",
          "height": 35
        }
      },
      "source": [
        "Y_pred.shape"
      ],
      "execution_count": null,
      "outputs": [
        {
          "output_type": "execute_result",
          "data": {
            "text/plain": [
              "(10000, 10)"
            ]
          },
          "metadata": {
            "tags": []
          },
          "execution_count": 177
        }
      ]
    },
    {
      "cell_type": "markdown",
      "metadata": {
        "id": "0whVrHUgcuVA"
      },
      "source": [
        "**Que remarque-t-on ?**\n",
        "\n",
        "---\n",
        "\n"
      ]
    },
    {
      "cell_type": "markdown",
      "metadata": {
        "id": "ByByYBtpcxWw"
      },
      "source": [
        "*On obtient les probabilités pour chaque chiffres*"
      ]
    },
    {
      "cell_type": "markdown",
      "metadata": {
        "id": "W4SYWcJBcuYr"
      },
      "source": [
        "**Transformer les précisions**\n",
        "\n",
        "Afin d'obternir le chiffre que le modèle prédit"
      ]
    },
    {
      "cell_type": "code",
      "metadata": {
        "id": "HpkM3CFQPYG2"
      },
      "source": [
        "y_pred = np.argmax(Y_pred, axis=1)"
      ],
      "execution_count": null,
      "outputs": []
    },
    {
      "cell_type": "markdown",
      "metadata": {
        "id": "uoOYSl59dJGW"
      },
      "source": [
        "**Afficher les prédictions transformées**"
      ]
    },
    {
      "cell_type": "code",
      "metadata": {
        "id": "PyYT0McwPrma",
        "outputId": "077a9d50-5eb6-4781-9549-b700c6a3d642",
        "colab": {
          "base_uri": "https://localhost:8080/",
          "height": 35
        }
      },
      "source": [
        "y_pred"
      ],
      "execution_count": null,
      "outputs": [
        {
          "output_type": "execute_result",
          "data": {
            "text/plain": [
              "array([7, 2, 1, ..., 4, 5, 6])"
            ]
          },
          "metadata": {
            "tags": []
          },
          "execution_count": 179
        }
      ]
    },
    {
      "cell_type": "markdown",
      "metadata": {
        "id": "VifesUJadn8Y"
      },
      "source": [
        "**Afficher 10 predictions où le modèle s'est trompé**\n",
        "\n",
        "Afficher les images, leurs labels et leurs prédictions"
      ]
    },
    {
      "cell_type": "code",
      "metadata": {
        "id": "_JyHiNl0Prpo"
      },
      "source": [
        "ix_wrong_pred = np.where(y_pred != y_test)[0]"
      ],
      "execution_count": null,
      "outputs": []
    },
    {
      "cell_type": "code",
      "metadata": {
        "id": "FqgjoyGhVeXf",
        "outputId": "8603e47e-dc35-4f4c-8d35-6ee9c1dc6d7e",
        "colab": {
          "base_uri": "https://localhost:8080/",
          "height": 35
        }
      },
      "source": [
        "ix_wrong_pred.shape"
      ],
      "execution_count": null,
      "outputs": [
        {
          "output_type": "execute_result",
          "data": {
            "text/plain": [
              "(137,)"
            ]
          },
          "metadata": {
            "tags": []
          },
          "execution_count": 181
        }
      ]
    },
    {
      "cell_type": "code",
      "metadata": {
        "id": "PosMtAYgR2Im",
        "outputId": "c28008cd-a45b-447f-c69e-234a6ca143bc",
        "colab": {
          "base_uri": "https://localhost:8080/",
          "height": 591
        }
      },
      "source": [
        "plt.figure(figsize=(10,10))\n",
        "for i in range(10):\n",
        "  plt.subplot(4, 3, i+1) \n",
        "  ix = np.random.choice(ix_wrong_pred)\n",
        "  plt.imshow(x_test[ix])\n",
        "  plt.axis('off')\n",
        "  plt.title('Ground truth : ' + str(y_test[ix]) + ' - '+ \n",
        "            'Prediction : ' + str(y_pred[ix]))"
      ],
      "execution_count": null,
      "outputs": [
        {
          "output_type": "display_data",
          "data": {
            "image/png": "[encoded data removed]",
            "text/plain": [
              "<Figure size 720x720 with 10 Axes>"
            ]
          },
          "metadata": {
            "tags": [],
            "needs_background": "light"
          }
        }
      ]
    },
    {
      "cell_type": "markdown",
      "metadata": {
        "id": "dV9-q4WdAv1r"
      },
      "source": [
        "## **7 - Prediction sur une nouvelle image**\n",
        "\n",
        "\n",
        "On utilise la librairie PIL afin de traiter nos images"
      ]
    },
    {
      "cell_type": "markdown",
      "metadata": {
        "id": "j9T8pCSDne1G"
      },
      "source": [
        "**Import le module Image de la librairie PIL**"
      ]
    },
    {
      "cell_type": "code",
      "metadata": {
        "id": "ZU74LC8X9iD1"
      },
      "source": [
        "from PIL import Image, ImageFilter"
      ],
      "execution_count": null,
      "outputs": []
    },
    {
      "cell_type": "markdown",
      "metadata": {
        "id": "qfwx7JAvfNob"
      },
      "source": [
        "**Lire l'image importée**"
      ]
    },
    {
      "cell_type": "code",
      "metadata": {
        "id": "Rs6d0VFECiPd"
      },
      "source": [
        "img = Image.open('0_2.jpg')"
      ],
      "execution_count": null,
      "outputs": []
    },
    {
      "cell_type": "markdown",
      "metadata": {
        "id": "8oATHDEhgR6X"
      },
      "source": [
        "**Afficher l'image**"
      ]
    },
    {
      "cell_type": "code",
      "metadata": {
        "id": "HURIgcIvCiSp",
        "outputId": "3aff0ea3-c916-40c9-d1de-c25c9a792875",
        "colab": {
          "base_uri": "https://localhost:8080/",
          "height": 323
        }
      },
      "source": [
        "plt.figure(figsize=(5,5))\n",
        "plt.imshow(img);"
      ],
      "execution_count": null,
      "outputs": [
        {
          "output_type": "display_data",
          "data": {
            "image/png": "[encoded data removed]",
            "text/plain": [
              "<Figure size 360x360 with 1 Axes>"
            ]
          },
          "metadata": {
            "tags": [],
            "needs_background": "light"
          }
        }
      ]
    },
    {
      "cell_type": "markdown",
      "metadata": {
        "id": "BIBWBrZLgWfW"
      },
      "source": [
        "**Définir une fonction permetant de faire une prédiction sur une image**"
      ]
    },
    {
      "cell_type": "code",
      "metadata": {
        "id": "lD8nWbp1CyLz"
      },
      "source": [
        "def prediction(image):\n",
        "  \n",
        "  image = np.array(image.resize((28,28)).convert('L')) # convertir en noir et blanc\n",
        "  image = image / 255.0\n",
        "  image = image.reshape(1,28,28,1)\n",
        "  \n",
        "  pred = model.predict(image)[0]\n",
        "  pred= np.argmax(pred)\n",
        " \n",
        "  return pred"
      ],
      "execution_count": null,
      "outputs": []
    },
    {
      "cell_type": "markdown",
      "metadata": {
        "id": "LDI3xJ7mgjsI"
      },
      "source": [
        "**Effectuer une prédiction de l'image**"
      ]
    },
    {
      "cell_type": "code",
      "metadata": {
        "id": "TO0p8ggnCyOu",
        "outputId": "589b7f08-21c4-4bfc-c79f-18f32cf205a6",
        "colab": {
          "base_uri": "https://localhost:8080/",
          "height": 34
        }
      },
      "source": [
        "print(\"Prediction de l'image :\", prediction(img))"
      ],
      "execution_count": null,
      "outputs": [
        {
          "output_type": "stream",
          "text": [
            "Prediction de l'image : 3\n"
          ],
          "name": "stdout"
        }
      ]
    },
    {
      "cell_type": "markdown",
      "metadata": {
        "id": "hC_4tzq1gvPh"
      },
      "source": [
        "**Que remarque-t-on ?**\n",
        "\n",
        "---\n",
        "\n"
      ]
    },
    {
      "cell_type": "markdown",
      "metadata": {
        "id": "4FCBfmQvgzg9"
      },
      "source": [
        "La prédiction est éronée.\n",
        "\n",
        "Car l'image est trop différente de notre jeu de données."
      ]
    },
    {
      "cell_type": "markdown",
      "metadata": {
        "id": "INurObYaowV9"
      },
      "source": [
        "# Fin"
      ]
    }
  ]
}