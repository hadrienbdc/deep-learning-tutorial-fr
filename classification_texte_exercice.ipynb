{
  "nbformat": 4,
  "nbformat_minor": 0,
  "metadata": {
    "colab": {
      "name": "classification_texte_exercice.ipynb",
      "provenance": [],
      "collapsed_sections": [],
      "include_colab_link": true
    },
    "kernelspec": {
      "name": "python3",
      "display_name": "Python 3"
    },
    "accelerator": "GPU"
  },
  "cells": [
    {
      "cell_type": "markdown",
      "metadata": {
        "id": "view-in-github",
        "colab_type": "text"
      },
      "source": [
        "<a href=\"https://colab.research.google.com/github/hbaflast/deep-learning-tutorial-fr/blob/main/classification_texte_exercice.ipynb\" target=\"_parent\"><img src=\"https://colab.research.google.com/assets/colab-badge.svg\" alt=\"Open In Colab\"/></a>"
      ]
    },
    {
      "cell_type": "markdown",
      "metadata": {
        "id": "DK_OJex3Qt9T"
      },
      "source": [
        "# **Classification de texte - IMBD**\n"
      ]
    },
    {
      "cell_type": "markdown",
      "metadata": {
        "id": "NHXLRv3t6hJc"
      },
      "source": [
        "Dans cet exercice vous allez mettre en place un réseau de neurones étant capable de classifier des critiques de cinéma selon si elles sont bonnes ou mauvaises. C'est un exemple classique de classification binaire, un problème que l'on rencontre très souvent en machine learning.\n",
        "\n",
        "On utilise pour cela le jeu de données [IMBD](https://www.imdb.com/) qui contient 50.000 critiques de films."
      ]
    },
    {
      "cell_type": "markdown",
      "metadata": {
        "id": "A3lab13MjDjF"
      },
      "source": [
        "## 1 - **Importation de module**"
      ]
    },
    {
      "cell_type": "markdown",
      "metadata": {
        "id": "i9AVsaW6RMfT"
      },
      "source": [
        "**Importer les modules Tensorflow, Numpy et pylot de Matplotlib**\n",
        "\n",
        "Nous allons traiter cet excercice avec la bibliotèque de deep learning Keras"
      ]
    },
    {
      "cell_type": "code",
      "metadata": {
        "id": "-ZIAK_qqQic3"
      },
      "source": [
        "# import ..."
      ],
      "execution_count": null,
      "outputs": []
    },
    {
      "cell_type": "markdown",
      "metadata": {
        "id": "1ajyybuJRbYt"
      },
      "source": [
        " **Afficher le GPU de la machine**\n",
        " \n",
        " Vérifions que le GPU de l'environnement de travail est bien activé"
      ]
    },
    {
      "cell_type": "code",
      "metadata": {
        "id": "7RvCGcGQ1qRb"
      },
      "source": [
        "# ! ..."
      ],
      "execution_count": null,
      "outputs": []
    },
    {
      "cell_type": "markdown",
      "metadata": {
        "id": "cs-tHITB1k9E"
      },
      "source": [
        "## 2 - **Importation et Exploration des données**"
      ]
    },
    {
      "cell_type": "markdown",
      "metadata": {
        "id": "gN0KArwuR5MY"
      },
      "source": [
        "**Importer le jeu de données de puis Keras**\n",
        "\n",
        "Le jeu de données IMDB est directement contenu dans Keras, car c'est un jeu de données très populaire sur lequel est effectué un grand nombre de benchmark d'algorithme.\n",
        "\n",
        "Importer seulement les 10.000 mots les plus fréquents avec l'argument \"num_words\"\n"
      ]
    },
    {
      "cell_type": "code",
      "metadata": {
        "id": "BmTJKxfu1ZFr"
      },
      "source": [
        "# from tensorflow.keras.datasets ...."
      ],
      "execution_count": null,
      "outputs": []
    },
    {
      "cell_type": "markdown",
      "metadata": {
        "id": "AB9eNajbSmN8"
      },
      "source": [
        "**Afficher le jeu de données**\n",
        "\n",
        "Affichons les données du jeu d'entrainement"
      ]
    },
    {
      "cell_type": "code",
      "metadata": {
        "id": "COG_PIn8TDXI"
      },
      "source": [
        "# ..."
      ],
      "execution_count": null,
      "outputs": []
    },
    {
      "cell_type": "markdown",
      "metadata": {
        "id": "5nFafuY5HG3K"
      },
      "source": [
        "Puis les labels du jeu d'entrainement"
      ]
    },
    {
      "cell_type": "code",
      "metadata": {
        "id": "OAOglZEgHPct"
      },
      "source": [
        "# ..."
      ],
      "execution_count": null,
      "outputs": []
    },
    {
      "cell_type": "markdown",
      "metadata": {
        "id": "BHH_3DrGHRMT"
      },
      "source": [
        "**Que remarque-t-on ?**\n",
        "\n",
        "**De quels types sont les données et leurs labels ?**\n",
        "\n",
        "---\n",
        "\n"
      ]
    },
    {
      "cell_type": "markdown",
      "metadata": {
        "id": "5m9_Sho-qZqk"
      },
      "source": [
        "*Réponse : ...*"
      ]
    },
    {
      "cell_type": "markdown",
      "metadata": {
        "id": "x5vFgbTTSJKp"
      },
      "source": [
        "**Afficher la taille du jeu de données**\n",
        "\n",
        "Affichons la taille du jeu d'entrainement dans un premier temps\n",
        "\n"
      ]
    },
    {
      "cell_type": "code",
      "metadata": {
        "id": "_HxgnfpW3M4d"
      },
      "source": [
        "# ..."
      ],
      "execution_count": null,
      "outputs": []
    },
    {
      "cell_type": "markdown",
      "metadata": {
        "id": "oA6iFh2wFnEP"
      },
      "source": [
        "Puis la taille du jeu de test dans un second temps"
      ]
    },
    {
      "cell_type": "code",
      "metadata": {
        "id": "C6ZzlmR78ntL"
      },
      "source": [
        "# ..."
      ],
      "execution_count": null,
      "outputs": []
    },
    {
      "cell_type": "markdown",
      "metadata": {
        "id": "7ohZNPVbSw9f"
      },
      "source": [
        "**Afficher la distribution des labels**\n",
        "\n",
        "Faisons un graphe de la distribution des labels du jeu d'entrainement"
      ]
    },
    {
      "cell_type": "code",
      "metadata": {
        "id": "_VZbi45875tO"
      },
      "source": [
        "# ..."
      ],
      "execution_count": null,
      "outputs": []
    },
    {
      "cell_type": "markdown",
      "metadata": {
        "id": "UzW0LpeOIaXI"
      },
      "source": [
        "Et des labels du jeu de test"
      ]
    },
    {
      "cell_type": "code",
      "metadata": {
        "id": "VO9P0EjC76MJ"
      },
      "source": [
        "# ..."
      ],
      "execution_count": null,
      "outputs": []
    },
    {
      "cell_type": "markdown",
      "metadata": {
        "id": "8X_NImycIiwf"
      },
      "source": [
        "**Que remarque-t-on ?**\n",
        "\n",
        "---\n",
        "\n"
      ]
    },
    {
      "cell_type": "markdown",
      "metadata": {
        "id": "pt85KsuyrL2d"
      },
      "source": [
        "*Réponse : ...*"
      ]
    },
    {
      "cell_type": "markdown",
      "metadata": {
        "id": "cEYy5Mo6TKv1"
      },
      "source": [
        "**Afficher la taille de la première et de la deuxième phrase**"
      ]
    },
    {
      "cell_type": "code",
      "metadata": {
        "id": "DoMHb7bX3YJK"
      },
      "source": [
        "# print(\"Taille de la première phrase ...\n",
        "# print(\"Taille de la deuxième phrase ..."
      ],
      "execution_count": null,
      "outputs": []
    },
    {
      "cell_type": "markdown",
      "metadata": {
        "id": "DDW_dECTI8aZ"
      },
      "source": [
        "**Que remarque-t-on ?**\n",
        "\n",
        "---\n",
        "\n"
      ]
    },
    {
      "cell_type": "markdown",
      "metadata": {
        "id": "CDPJeZqzrMrK"
      },
      "source": [
        "*Réponse : ...*"
      ]
    },
    {
      "cell_type": "markdown",
      "metadata": {
        "id": "3koNKemnTo5y"
      },
      "source": [
        "** Faire une fonction permettant d'afficher la distribution de la longueur des phrases du jeu de données**"
      ]
    },
    {
      "cell_type": "code",
      "metadata": {
        "id": "u6rmC9589y5n"
      },
      "source": [
        "# def plot_len_distribution(dataset):\n",
        "#   ..."
      ],
      "execution_count": null,
      "outputs": []
    },
    {
      "cell_type": "code",
      "metadata": {
        "id": "p_JiTHna-MlU"
      },
      "source": [
        "# plot_len_distribution(x_train)\n",
        "# plot_len_distribution(x_test)"
      ],
      "execution_count": null,
      "outputs": []
    },
    {
      "cell_type": "markdown",
      "metadata": {
        "id": "v9Jio8rm5LZG"
      },
      "source": [
        " **Décodage des vecteurs**\n",
        "\n",
        "On a pu observer que le jeu de données a été processé.\n",
        "Une critique est ici une liste d'entiers qui représente un mot.\n",
        "\n",
        "En ce qui concerne les labels : 0 repésente une critique négative et 1 une critique positive\n",
        "\n",
        "Il peut être intéressant de reconvertir les nombres en phrases\n",
        "\n"
      ]
    },
    {
      "cell_type": "markdown",
      "metadata": {
        "id": "Vso-TdH0MHmM"
      },
      "source": [
        "**Importer l'index des mots avec la méthode get_word_index de la classe imbd**"
      ]
    },
    {
      "cell_type": "code",
      "metadata": {
        "id": "fxYeadUz3Yil"
      },
      "source": [
        "# word_index = imdb."
      ],
      "execution_count": null,
      "outputs": []
    },
    {
      "cell_type": "markdown",
      "metadata": {
        "id": "G75cY5XmUQyY"
      },
      "source": [
        "**Afficher l'index des mots**"
      ]
    },
    {
      "cell_type": "code",
      "metadata": {
        "id": "CdEPV8Hy_YWl"
      },
      "source": [
        "# ..."
      ],
      "execution_count": null,
      "outputs": []
    },
    {
      "cell_type": "markdown",
      "metadata": {
        "id": "xouFVPW7GBE_"
      },
      "source": [
        "Ici on vient ajouter des items à notre dictionnaire afin de gérer la reconversion en phrases"
      ]
    },
    {
      "cell_type": "code",
      "metadata": {
        "id": "lJJIc41a3YlS"
      },
      "source": [
        "word_index = {k:(v+3) for k,v in word_index.items()} \n",
        "word_index[\"<PAD>\"] = 0\n",
        "word_index[\"<START>\"] = 1\n",
        "word_index[\"<UNK>\"] = 2\n",
        "word_index[\"<UNUSED>\"] = 3"
      ],
      "execution_count": null,
      "outputs": []
    },
    {
      "cell_type": "markdown",
      "metadata": {
        "id": "4QKrCdNPHL8H"
      },
      "source": [
        "**Créer un dictionaire qui est l'inverse de celui là afin de reconvertir les nombres en phrases**"
      ]
    },
    {
      "cell_type": "code",
      "metadata": {
        "id": "A9sJwY4I5RWU"
      },
      "source": [
        "# reverse_word_index = ..."
      ],
      "execution_count": null,
      "outputs": []
    },
    {
      "cell_type": "markdown",
      "metadata": {
        "id": "4CIqCjwNHnVP"
      },
      "source": [
        "**Créer une fonction qui permet de décoder une phrase**"
      ]
    },
    {
      "cell_type": "code",
      "metadata": {
        "id": "_0WQT9-m5RZE"
      },
      "source": [
        "# def decode_review(text):\n",
        "#    ..."
      ],
      "execution_count": null,
      "outputs": []
    },
    {
      "cell_type": "markdown",
      "metadata": {
        "id": "sKg79eatI-Eh"
      },
      "source": [
        "**Décoder la première phrase**"
      ]
    },
    {
      "cell_type": "code",
      "metadata": {
        "id": "d42ma4xO5RcH"
      },
      "source": [
        "# ..."
      ],
      "execution_count": null,
      "outputs": []
    },
    {
      "cell_type": "markdown",
      "metadata": {
        "id": "vKSHjXN-7UiF"
      },
      "source": [
        "## **3 - Préparation des données**"
      ]
    },
    {
      "cell_type": "markdown",
      "metadata": {
        "id": "ZpGBaurWJuUX"
      },
      "source": [
        "Les phrases doivent toutes être de la même longueur en entrée du réseau de neurones.\n",
        "\n",
        "Pour cela nous utilisons la fonction pad_sequences provenant du sous modules preprocessing.sequence de keras"
      ]
    },
    {
      "cell_type": "markdown",
      "metadata": {
        "id": "gyClWA6QMXl2"
      },
      "source": [
        "**Importer la fonction pad_sequences**"
      ]
    },
    {
      "cell_type": "code",
      "metadata": {
        "id": "FuV9e9hZ7bA7"
      },
      "source": [
        "# from tensorflow.keras. ..."
      ],
      "execution_count": null,
      "outputs": []
    },
    {
      "cell_type": "markdown",
      "metadata": {
        "id": "ZPLG-bbyMce7"
      },
      "source": [
        "**Utiliser la fonction afin de transformer le jeu d'entrainement et le jeu de test**\n",
        "\n",
        "On veut avoir une taille max des arrays de 256 et rajouter des 0 à la fin si la phrase est plus courte"
      ]
    },
    {
      "cell_type": "code",
      "metadata": {
        "id": "CwRtspVj7bD7"
      },
      "source": [
        "# X_train = ...\n",
        "\n",
        "# X_test = ..."
      ],
      "execution_count": null,
      "outputs": []
    },
    {
      "cell_type": "markdown",
      "metadata": {
        "id": "hwEsrTq6Nkzy"
      },
      "source": [
        "**Afficher la taille du jeu d'entrainement **"
      ]
    },
    {
      "cell_type": "code",
      "metadata": {
        "id": "JVnx0pnS7bHl"
      },
      "source": [
        "# ..."
      ],
      "execution_count": null,
      "outputs": []
    },
    {
      "cell_type": "markdown",
      "metadata": {
        "id": "E-mvakkDN12g"
      },
      "source": [
        "**Que remarque-t-on ?**\n",
        "\n",
        "---\n",
        "\n"
      ]
    },
    {
      "cell_type": "markdown",
      "metadata": {
        "id": "9-ZbHRlqrOna"
      },
      "source": [
        "*Réponse : ...*"
      ]
    },
    {
      "cell_type": "markdown",
      "metadata": {
        "id": "gvSYuPYmOCxC"
      },
      "source": [
        "**Afficher maintenant la première phrase**"
      ]
    },
    {
      "cell_type": "code",
      "metadata": {
        "id": "6_8M38iM_4J9"
      },
      "source": [
        "# ..."
      ],
      "execution_count": null,
      "outputs": []
    },
    {
      "cell_type": "markdown",
      "metadata": {
        "id": "MsLTOmLPOH7Q"
      },
      "source": [
        "**Que remarque-t-on ?**\n",
        "\n",
        "---\n",
        "\n"
      ]
    },
    {
      "cell_type": "markdown",
      "metadata": {
        "id": "ydI_kzB4rPWT"
      },
      "source": [
        "*Réponse : ...*"
      ]
    },
    {
      "cell_type": "markdown",
      "metadata": {
        "id": "J6LWjGbeALUA"
      },
      "source": [
        "## **4 - Definition du model**"
      ]
    },
    {
      "cell_type": "markdown",
      "metadata": {
        "id": "T6-GIygoO2JB"
      },
      "source": [
        "**Importer les classes et fonctions nécessaire à la construction d'un modèle**"
      ]
    },
    {
      "cell_type": "code",
      "metadata": {
        "id": "ReKE_TjXBAu8"
      },
      "source": [
        "# from tensorflow.keras.models import ...\n",
        "# from tensorflow.keras.layers import ...\n",
        "# from tensorflow.keras.optimizers import .."
      ],
      "execution_count": null,
      "outputs": []
    },
    {
      "cell_type": "markdown",
      "metadata": {
        "id": "azFr-7TcPzAG"
      },
      "source": [
        "**Faire une fonction permetant de créer un modèle**\n",
        "\n",
        "Nous sommes ici dans un cas de classification binaire il faut donc choisir la fonction de coût et la fonction d'activation de la dernière couche qui correspond au problème."
      ]
    },
    {
      "cell_type": "code",
      "metadata": {
        "id": "KiaI_RPnBDQj"
      },
      "source": [
        "# def create_model():\n",
        "#   ..."
      ],
      "execution_count": null,
      "outputs": []
    },
    {
      "cell_type": "markdown",
      "metadata": {
        "id": "QgfsiH1yQb5B"
      },
      "source": [
        "**Afficher un résumé de votre modèle**"
      ]
    },
    {
      "cell_type": "code",
      "metadata": {
        "id": "3mtZSMT4_6bM"
      },
      "source": [
        "# ..."
      ],
      "execution_count": null,
      "outputs": []
    },
    {
      "cell_type": "markdown",
      "metadata": {
        "id": "q1znN_MsQxz7"
      },
      "source": [
        "**Entrainer le modèle**\n",
        "\n",
        "On conserver l'historique de l'entrainement du modèle afin d'evaluer sa progression par la suite.\n",
        "\n",
        "On utilisera un jeu de validation correspondant à la moitié du jeu d'entrainement."
      ]
    },
    {
      "cell_type": "code",
      "metadata": {
        "id": "ScyUL7laDsup"
      },
      "source": [
        "# history = ..."
      ],
      "execution_count": null,
      "outputs": []
    },
    {
      "cell_type": "markdown",
      "metadata": {
        "id": "TRrElNhaG1vT"
      },
      "source": [
        "**Evaluer le modèle sur le jeu de test**\n",
        "\n",
        "Afficher la loss et l'accuracy du modèle"
      ]
    },
    {
      "cell_type": "code",
      "metadata": {
        "id": "SdR2hnHUGy7B"
      },
      "source": [
        "# scores = ...\n",
        "# print(...)\n",
        "# print(...)"
      ],
      "execution_count": null,
      "outputs": []
    },
    {
      "cell_type": "markdown",
      "metadata": {
        "id": "V7t3wB2KRxcx"
      },
      "source": [
        "**Quelle accuracy obtenez-vous ?**\n",
        "\n",
        "---\n",
        "\n"
      ]
    },
    {
      "cell_type": "markdown",
      "metadata": {
        "id": "BdptuswfrQoC"
      },
      "source": [
        "*Réponse : ...*"
      ]
    },
    {
      "cell_type": "markdown",
      "metadata": {
        "id": "_Lyote3uHP5H"
      },
      "source": [
        "**Afficher les courbes de loss**"
      ]
    },
    {
      "cell_type": "code",
      "metadata": {
        "id": "5mONGLu8G_nK"
      },
      "source": [
        "# plt.plot( ...\n",
        "# plt.plot( ..."
      ],
      "execution_count": null,
      "outputs": []
    },
    {
      "cell_type": "markdown",
      "metadata": {
        "id": "el8AkguIHKZm"
      },
      "source": [
        "## **5 - Visualisation des prédictions**"
      ]
    },
    {
      "cell_type": "markdown",
      "metadata": {
        "id": "mX9dSOahlAT7"
      },
      "source": [
        "**Effectuer les prédictions du modèle sur le jeu de test**"
      ]
    },
    {
      "cell_type": "code",
      "metadata": {
        "id": "-UP6-i8iHJ5C"
      },
      "source": [
        "# y_pred = ..."
      ],
      "execution_count": null,
      "outputs": []
    },
    {
      "cell_type": "markdown",
      "metadata": {
        "id": "fCg2BA6olQSL"
      },
      "source": [
        "**Afficher les prédictions**"
      ]
    },
    {
      "cell_type": "code",
      "metadata": {
        "id": "2-s05Hz8HJ8C"
      },
      "source": [
        "# ..."
      ],
      "execution_count": null,
      "outputs": []
    },
    {
      "cell_type": "markdown",
      "metadata": {
        "id": "4IZpOkZGmEyx"
      },
      "source": [
        "**Que remarque-t-on ?**\n",
        "\n",
        "---\n",
        "\n"
      ]
    },
    {
      "cell_type": "markdown",
      "metadata": {
        "id": "ikW9Fse5lhv8"
      },
      "source": [
        "**Transformer les prédicitions**"
      ]
    },
    {
      "cell_type": "markdown",
      "metadata": {
        "id": "Mik3Oj0nmDNh"
      },
      "source": [
        "Transformons les prédictions afin de ne plus avoir la probabilité mais si un commentaire est bon ou mauvais"
      ]
    },
    {
      "cell_type": "code",
      "metadata": {
        "id": "77L0TjetHJ_a"
      },
      "source": [
        "# ..."
      ],
      "execution_count": null,
      "outputs": []
    },
    {
      "cell_type": "markdown",
      "metadata": {
        "id": "_hxpXg2IlkxO"
      },
      "source": [
        "**Afficher 10 predictions aléatoirement choisies**\n",
        "\n",
        "Affichons les 10 phrases et la prédiction pour chacune"
      ]
    },
    {
      "cell_type": "code",
      "metadata": {
        "id": "N_AuQHOcJEOF"
      },
      "source": [
        "# for i in range(10):\n",
        "#   ..."
      ],
      "execution_count": null,
      "outputs": []
    },
    {
      "cell_type": "markdown",
      "metadata": {
        "id": "U15PG_NhNGNg"
      },
      "source": [
        "**Afficher 10 predictions où le modèle s'est trompé**\n",
        "\n",
        "Affichons 10 phrases et la prédiction pour chacune"
      ]
    },
    {
      "cell_type": "code",
      "metadata": {
        "id": "GewGmoyY8bff"
      },
      "source": [
        "# ..."
      ],
      "execution_count": null,
      "outputs": []
    },
    {
      "cell_type": "code",
      "metadata": {
        "id": "r1tuD4IkItgI"
      },
      "source": [
        "# ..."
      ],
      "execution_count": null,
      "outputs": []
    },
    {
      "cell_type": "code",
      "metadata": {
        "id": "teElzlIMNYh9"
      },
      "source": [
        "# ..."
      ],
      "execution_count": null,
      "outputs": []
    },
    {
      "cell_type": "code",
      "metadata": {
        "id": "4Fn5jJ20ItjT"
      },
      "source": [
        "# for i in range(10):\n",
        "#   ..."
      ],
      "execution_count": null,
      "outputs": []
    },
    {
      "cell_type": "markdown",
      "metadata": {
        "id": "JUW9d5shmI6V"
      },
      "source": [
        "# Fin"
      ]
    }
  ]
}