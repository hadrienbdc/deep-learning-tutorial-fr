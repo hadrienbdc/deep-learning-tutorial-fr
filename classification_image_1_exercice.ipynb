{
  "nbformat": 4,
  "nbformat_minor": 0,
  "metadata": {
    "colab": {
      "name": "classification_image_1_exercice.ipynb",
      "provenance": [],
      "collapsed_sections": [],
      "include_colab_link": true
    },
    "kernelspec": {
      "name": "python3",
      "display_name": "Python 3"
    },
    "accelerator": "GPU"
  },
  "cells": [
    {
      "cell_type": "markdown",
      "metadata": {
        "id": "view-in-github",
        "colab_type": "text"
      },
      "source": [
        "<a href=\"https://colab.research.google.com/github/hbaflast/deep-learning-tutorial-fr/blob/main/classification_image_1_exercice.ipynb\" target=\"_parent\"><img src=\"https://colab.research.google.com/assets/colab-badge.svg\" alt=\"Open In Colab\"/></a>"
      ]
    },
    {
      "cell_type": "markdown",
      "metadata": {
        "id": "mdtELs-8HC87"
      },
      "source": [
        "#**Classification d'images - MNIST**\n",
        "\n",
        "\n",
        "Dans cet exercice vous apprenez à utiliser des réseaux de neurones convolutifs afin de classifier des images de chiffres.\n",
        "\n",
        "Pour cela on utilise la librairie de deep learning Keras, et la base de données MNIST qui est une base de données très connue dans le monde du deep learning, car c'est un des premiers cas d'usage. Cette base de données contient des images de chiffres allant de 0 à 9, nous sommes donc dans le cas d'une classification multi classes."
      ]
    },
    {
      "cell_type": "markdown",
      "metadata": {
        "id": "tPjcNwGhIwzr"
      },
      "source": [
        "## **1 - Importation de module**"
      ]
    },
    {
      "cell_type": "markdown",
      "metadata": {
        "id": "s-KhoA8HE7AI"
      },
      "source": [
        "**Importer les modules Tensorflow, Numpy, Matplotlib et pylot de Matplotlib**"
      ]
    },
    {
      "cell_type": "code",
      "metadata": {
        "id": "aRc_qlZuzBQO"
      },
      "source": [
        "# import ..."
      ],
      "execution_count": null,
      "outputs": []
    },
    {
      "cell_type": "code",
      "metadata": {
        "id": "qUJUIntRPap4"
      },
      "source": [
        "mpl.rcParams['axes.grid'] = False # On enlève les grilles des figure matplotlib pour le style"
      ],
      "execution_count": null,
      "outputs": []
    },
    {
      "cell_type": "markdown",
      "metadata": {
        "id": "wW2-HGuoJAmN"
      },
      "source": [
        "## **2 - Information sur la machine**"
      ]
    },
    {
      "cell_type": "markdown",
      "metadata": {
        "id": "OCdgfHi0MNZj"
      },
      "source": [
        "**Test de l'activation du GPU**\n",
        "\n",
        "On vient tester si le GPU de la machine est bien activé et surtout si tensorflow utilise bien le GPU."
      ]
    },
    {
      "cell_type": "code",
      "metadata": {
        "id": "tpcczGzHGOxS"
      },
      "source": [
        "device_name = tf.test.gpu_device_name()\n",
        "if device_name != '/device:GPU:0':\n",
        "  raise SystemError('Working on CPU')\n",
        "print('Working on GPU : {}'.format(device_name))"
      ],
      "execution_count": null,
      "outputs": []
    },
    {
      "cell_type": "markdown",
      "metadata": {
        "id": "m5xDuHAtI8TL"
      },
      "source": [
        "Plus d'information sur le GPU via cette méthode et sur les différents devices qu'utilise tensorflow."
      ]
    },
    {
      "cell_type": "code",
      "metadata": {
        "id": "LMmdKB1utbw8"
      },
      "source": [
        "from tensorflow.python.client import device_lib\n",
        "device_lib.list_local_devices()"
      ],
      "execution_count": null,
      "outputs": []
    },
    {
      "cell_type": "markdown",
      "metadata": {
        "id": "G2anhc2PJKCV"
      },
      "source": [
        "**Afficher les informations concernant le CPU de la machine**"
      ]
    },
    {
      "cell_type": "code",
      "metadata": {
        "id": "OIOHaAayzPb8"
      },
      "source": [
        "# ! ..."
      ],
      "execution_count": null,
      "outputs": []
    },
    {
      "cell_type": "markdown",
      "metadata": {
        "id": "yqFeiiEKJ1eh"
      },
      "source": [
        "**Afficher les informations concernant le GPU**"
      ]
    },
    {
      "cell_type": "code",
      "metadata": {
        "id": "i4E1-gklthKM"
      },
      "source": [
        "# ! ..."
      ],
      "execution_count": null,
      "outputs": []
    },
    {
      "cell_type": "markdown",
      "metadata": {
        "id": "pvqD2d3jMGzK"
      },
      "source": [
        "**Afficher les informations concernant la RAM**\n",
        "\n",
        "Avec la commande cat"
      ]
    },
    {
      "cell_type": "code",
      "metadata": {
        "id": "3_-lDqL5GLFR"
      },
      "source": [
        "# !cat ..."
      ],
      "execution_count": null,
      "outputs": []
    },
    {
      "cell_type": "markdown",
      "metadata": {
        "id": "hxJeOeWHK2Al"
      },
      "source": [
        "Sans la commande cat"
      ]
    },
    {
      "cell_type": "code",
      "metadata": {
        "id": "ziMvvsVF-sKl"
      },
      "source": [
        "# ! ..."
      ],
      "execution_count": null,
      "outputs": []
    },
    {
      "cell_type": "markdown",
      "metadata": {
        "id": "tB36Tcf3K7OL"
      },
      "source": [
        "**Afficher les informations sur le Disque Dur**"
      ]
    },
    {
      "cell_type": "code",
      "metadata": {
        "id": "RU7sqfSjtpuT"
      },
      "source": [
        "# ! ..."
      ],
      "execution_count": null,
      "outputs": []
    },
    {
      "cell_type": "markdown",
      "metadata": {
        "id": "JI5vEeXNM7fN"
      },
      "source": [
        "## 3 - **Importation et Exploration des données**"
      ]
    },
    {
      "cell_type": "markdown",
      "metadata": {
        "id": "_kjio_iDLOTE"
      },
      "source": [
        "**Importer le jeu de données depuis Keras**\n",
        "\n",
        "Le jeu de données MNIST est directement téléchargable via Keras, car comme dit précédement il fait parti des jeu de données les plus connus en reconnaisance d'images."
      ]
    },
    {
      "cell_type": "code",
      "metadata": {
        "id": "F-ele5DYEN2E"
      },
      "source": [
        "# from tensorflow.keras.datasets ..."
      ],
      "execution_count": null,
      "outputs": []
    },
    {
      "cell_type": "markdown",
      "metadata": {
        "id": "LOcre2OkMf2W"
      },
      "source": [
        "**Afficher de quel type sont les données et leurs labels**"
      ]
    },
    {
      "cell_type": "code",
      "metadata": {
        "id": "KdVqTkqyM6uX"
      },
      "source": [
        "# print(\"Les données sont de type ...\n",
        "# print(\"Les labels sont de type ..."
      ],
      "execution_count": null,
      "outputs": []
    },
    {
      "cell_type": "markdown",
      "metadata": {
        "id": "gAE9wchxNx6I"
      },
      "source": [
        "**Afficher les dimensions des données et de leurs labels**\n",
        "\n",
        "Du jeu d'entrainement"
      ]
    },
    {
      "cell_type": "code",
      "metadata": {
        "id": "QGedtTu6EOAA"
      },
      "source": [
        "# ..."
      ],
      "execution_count": null,
      "outputs": []
    },
    {
      "cell_type": "markdown",
      "metadata": {
        "id": "qlQP36KHN-mM"
      },
      "source": [
        "Du jeu de test"
      ]
    },
    {
      "cell_type": "code",
      "metadata": {
        "id": "rR9NTOR5N0Xt"
      },
      "source": [
        "# ..."
      ],
      "execution_count": null,
      "outputs": []
    },
    {
      "cell_type": "markdown",
      "metadata": {
        "id": "5GmWFMnxOCHr"
      },
      "source": [
        "**Quelle est la résolution des images ?**\n",
        "\n",
        "---\n",
        "\n"
      ]
    },
    {
      "cell_type": "markdown",
      "metadata": {
        "id": "ZjqGicaXOGL_"
      },
      "source": [
        "*Réponse : ...*"
      ]
    },
    {
      "cell_type": "markdown",
      "metadata": {
        "id": "GpIjKQ9LOhdi"
      },
      "source": [
        "**Visualiser une image**"
      ]
    },
    {
      "cell_type": "code",
      "metadata": {
        "id": "KZdTxGp-EOCo"
      },
      "source": [
        "# plt. ..."
      ],
      "execution_count": null,
      "outputs": []
    },
    {
      "cell_type": "markdown",
      "metadata": {
        "id": "N11CPK0iVyIc"
      },
      "source": [
        "**Visualiser cette image sous son format de matrice**"
      ]
    },
    {
      "cell_type": "code",
      "metadata": {
        "id": "pH0hUHraToAO"
      },
      "source": [
        "# ..."
      ],
      "execution_count": null,
      "outputs": []
    },
    {
      "cell_type": "markdown",
      "metadata": {
        "id": "HpEaMSFg8i5H"
      },
      "source": [
        "**Afficher la liste des labels**"
      ]
    },
    {
      "cell_type": "code",
      "metadata": {
        "id": "rpbzJxHd81C5"
      },
      "source": [
        "# ..."
      ],
      "execution_count": null,
      "outputs": []
    },
    {
      "cell_type": "markdown",
      "metadata": {
        "id": "CcJHPCzePnuV"
      },
      "source": [
        "**Afficher la distribution des labels**\n",
        "\n",
        "Du jeu d'entrainement"
      ]
    },
    {
      "cell_type": "code",
      "metadata": {
        "id": "Nk1aQgoq7DCl"
      },
      "source": [
        "# plt. ..."
      ],
      "execution_count": null,
      "outputs": []
    },
    {
      "cell_type": "markdown",
      "metadata": {
        "id": "BvJ51iMUP1Ip"
      },
      "source": [
        "Du jeu de test"
      ]
    },
    {
      "cell_type": "code",
      "metadata": {
        "id": "fCP9zUgM8ZJ0"
      },
      "source": [
        "# ..."
      ],
      "execution_count": null,
      "outputs": []
    },
    {
      "cell_type": "markdown",
      "metadata": {
        "id": "mtvtFJf4HHce"
      },
      "source": [
        "**Que remarque-t-on ?**\n",
        "\n",
        "---\n",
        "\n"
      ]
    },
    {
      "cell_type": "markdown",
      "metadata": {
        "id": "JOj6krgCHHfT"
      },
      "source": [
        "*Réponse : ...*"
      ]
    },
    {
      "cell_type": "markdown",
      "metadata": {
        "id": "0XFjKVgcV9Ga"
      },
      "source": [
        "**Afficher pour chaque classe du jeu de données une image lui correspondant**"
      ]
    },
    {
      "cell_type": "code",
      "metadata": {
        "id": "c5zmP8VwRc96"
      },
      "source": [
        "# for i in range(10):\n",
        "#   ..."
      ],
      "execution_count": null,
      "outputs": []
    },
    {
      "cell_type": "markdown",
      "metadata": {
        "id": "llk9Ya3wGfeE"
      },
      "source": [
        "## **4 - Préparation des données**"
      ]
    },
    {
      "cell_type": "markdown",
      "metadata": {
        "id": "MzmNnoDvR3_z"
      },
      "source": [
        "**Changer le data type des arrays en float32**"
      ]
    },
    {
      "cell_type": "code",
      "metadata": {
        "id": "jyYoGkPvR52W"
      },
      "source": [
        "# X_train = ...\n",
        "# X_test = ..."
      ],
      "execution_count": null,
      "outputs": []
    },
    {
      "cell_type": "markdown",
      "metadata": {
        "id": "8uqGlfeSR5D7"
      },
      "source": [
        "**Normaliser les données afin que les pixels soient compris entre 0 et 1**"
      ]
    },
    {
      "cell_type": "code",
      "metadata": {
        "id": "2h49Sx34R6Xb"
      },
      "source": [
        "# ...\n",
        "# ..."
      ],
      "execution_count": null,
      "outputs": []
    },
    {
      "cell_type": "markdown",
      "metadata": {
        "id": "YHbv9L6kR5Lq"
      },
      "source": [
        "**Changer les dimensions des jeux de données afin d'avoir 4 dimensions**"
      ]
    },
    {
      "cell_type": "code",
      "metadata": {
        "id": "CHStjgcnR6wD"
      },
      "source": [
        "# ...\n",
        "# ..."
      ],
      "execution_count": null,
      "outputs": []
    },
    {
      "cell_type": "markdown",
      "metadata": {
        "id": "rqvqURbOT7-O"
      },
      "source": [
        "**Effectuer un One-hot encodage des labels**\n",
        "\n",
        "On a besoin d'encoder nos labels afin d'en obtenir une meilleure représentation et de ne pas avoir de notion d'ordre\n",
        "\n",
        "On utilise pour cela une fonction de la librairie de machine learning scikit-learn"
      ]
    },
    {
      "cell_type": "code",
      "metadata": {
        "id": "G6zae0NWHEoQ"
      },
      "source": [
        "# from sklearn.preprocessing ..."
      ],
      "execution_count": null,
      "outputs": []
    },
    {
      "cell_type": "code",
      "metadata": {
        "id": "kpHsPslcHHJX"
      },
      "source": [
        "# enc = ..."
      ],
      "execution_count": null,
      "outputs": []
    },
    {
      "cell_type": "code",
      "metadata": {
        "id": "1ggrn7IUG2hr"
      },
      "source": [
        "# Y_train = ...\n",
        "# Y_test = ..."
      ],
      "execution_count": null,
      "outputs": []
    },
    {
      "cell_type": "markdown",
      "metadata": {
        "id": "l6Swss1qUjuq"
      },
      "source": [
        "**Afficher maintenant les dimensions des labels**"
      ]
    },
    {
      "cell_type": "code",
      "metadata": {
        "id": "Xe4Ngw0FHf_6"
      },
      "source": [
        "# ..."
      ],
      "execution_count": null,
      "outputs": []
    },
    {
      "cell_type": "markdown",
      "metadata": {
        "id": "DU9IyW0WU2lI"
      },
      "source": [
        "**Que remarque-t-on ?**\n",
        "\n",
        "---\n",
        "\n"
      ]
    },
    {
      "cell_type": "markdown",
      "metadata": {
        "id": "scD8833CU7W2"
      },
      "source": [
        "*Réponse : ... *"
      ]
    },
    {
      "cell_type": "markdown",
      "metadata": {
        "id": "pTJwA9wJUzVZ"
      },
      "source": [
        "**Afficher un label non encodé et son équivalent encodé**"
      ]
    },
    {
      "cell_type": "code",
      "metadata": {
        "id": "3cW979MkH_5s"
      },
      "source": [
        "# print(\"Label non encodé ...\n",
        "# print('Label encodé ..."
      ],
      "execution_count": null,
      "outputs": []
    },
    {
      "cell_type": "markdown",
      "metadata": {
        "id": "1CrGQhEWEP3K"
      },
      "source": [
        "## **5 - Definition du modèle**\n",
        "\n"
      ]
    },
    {
      "cell_type": "markdown",
      "metadata": {
        "id": "trRHQ0oPVTrz"
      },
      "source": [
        "**Importer les classes et fonctions nécessaires à la construction d'un modèle**"
      ]
    },
    {
      "cell_type": "code",
      "metadata": {
        "id": "5baSJgmnE0xC"
      },
      "source": [
        "# from tensorflow.keras.models import ...\n",
        "# from tensorflow.keras.layers import ...\n",
        "# from tensorflow.keras.optimizers import .."
      ],
      "execution_count": null,
      "outputs": []
    },
    {
      "cell_type": "markdown",
      "metadata": {
        "id": "lLUsa9QCVlWj"
      },
      "source": [
        "**Faire une fonction permettant de créer un modèle**\n",
        "\n",
        "Nous sommes ici dans un cas de classification multi classes il faut donc choisir la fonction de coût et la fonction d'activation de la dernière couche qui correspond au problème."
      ]
    },
    {
      "cell_type": "code",
      "metadata": {
        "id": "XeYtO5HhB7-K"
      },
      "source": [
        "# def create_model():\n",
        "#   ..."
      ],
      "execution_count": null,
      "outputs": []
    },
    {
      "cell_type": "markdown",
      "metadata": {
        "id": "Fe99fCgVYRWY"
      },
      "source": [
        "**Afficher un résumé de votre modèle**"
      ]
    },
    {
      "cell_type": "code",
      "metadata": {
        "id": "ctKos7G0FZ4J"
      },
      "source": [
        "# ..."
      ],
      "execution_count": null,
      "outputs": []
    },
    {
      "cell_type": "markdown",
      "metadata": {
        "id": "m-olaELBYW6r"
      },
      "source": [
        "**Entrainer le modèle**\n",
        "\n",
        "On conserve l'historique de l'entrainement du modèle afin d'evaluer sa progression par la suite.\n",
        "\n",
        "On utilisera un jeu de validation correspondant à un cinquième du jeu d'entrainement."
      ]
    },
    {
      "cell_type": "code",
      "metadata": {
        "id": "fNehuJl3RdA6"
      },
      "source": [
        "# history = ..."
      ],
      "execution_count": null,
      "outputs": []
    },
    {
      "cell_type": "markdown",
      "metadata": {
        "id": "I970IdQuIzOF"
      },
      "source": [
        "**Evaluer le modèle sur le jeu de test**\n",
        "\n",
        "Afficher la loss et l'accuracy du modèle"
      ]
    },
    {
      "cell_type": "code",
      "metadata": {
        "id": "gVWHCN20Ivfi"
      },
      "source": [
        "# scores = ...\n",
        "# print(...)\n",
        "# print(...)"
      ],
      "execution_count": null,
      "outputs": []
    },
    {
      "cell_type": "markdown",
      "metadata": {
        "id": "EwWASE1AlPv3"
      },
      "source": [
        "**Quelle accuracy obtenez-vous ?**\n",
        "\n",
        "---\n",
        "\n"
      ]
    },
    {
      "cell_type": "markdown",
      "metadata": {
        "id": "45NWkWWNlPyz"
      },
      "source": [
        "*Réponse : ...*"
      ]
    },
    {
      "cell_type": "markdown",
      "metadata": {
        "id": "qt1I_wmEHCql"
      },
      "source": [
        "**Afficher les courbes d'accuracy**"
      ]
    },
    {
      "cell_type": "code",
      "metadata": {
        "id": "H0YpHB_oHC1o"
      },
      "source": [
        "# plt.plot( ...\n",
        "# plt.plot( ..."
      ],
      "execution_count": null,
      "outputs": []
    },
    {
      "cell_type": "markdown",
      "metadata": {
        "id": "a1MNYnh-PDVf"
      },
      "source": [
        "## **6 - Visualisation des prédictions**"
      ]
    },
    {
      "cell_type": "markdown",
      "metadata": {
        "id": "YHRbpvF3cHOp"
      },
      "source": [
        "**Effectuer les prédictions du modèle sur le jeu de test**"
      ]
    },
    {
      "cell_type": "code",
      "metadata": {
        "id": "XmAqe5WmPDbw"
      },
      "source": [
        "# Y_pred = ..."
      ],
      "execution_count": null,
      "outputs": []
    },
    {
      "cell_type": "markdown",
      "metadata": {
        "id": "4urPc2RbcZZ0"
      },
      "source": [
        "**Afficher les prédictions**"
      ]
    },
    {
      "cell_type": "code",
      "metadata": {
        "id": "rJ55EGbRPYEN"
      },
      "source": [
        "# ..."
      ],
      "execution_count": null,
      "outputs": []
    },
    {
      "cell_type": "markdown",
      "metadata": {
        "id": "JA10524DckTn"
      },
      "source": [
        "**Afficher les dimensions de l'array des précisions**"
      ]
    },
    {
      "cell_type": "code",
      "metadata": {
        "id": "Oye0a3hUcrVl"
      },
      "source": [
        "# ..."
      ],
      "execution_count": null,
      "outputs": []
    },
    {
      "cell_type": "markdown",
      "metadata": {
        "id": "0whVrHUgcuVA"
      },
      "source": [
        "**Que remarque-t-on ?**\n",
        "\n",
        "---\n",
        "\n"
      ]
    },
    {
      "cell_type": "markdown",
      "metadata": {
        "id": "ByByYBtpcxWw"
      },
      "source": [
        "*Réponse : ...*"
      ]
    },
    {
      "cell_type": "markdown",
      "metadata": {
        "id": "W4SYWcJBcuYr"
      },
      "source": [
        "**Transformer les précisions**\n",
        "\n",
        "Afin d'obternir le chiffre que le modèle prédit"
      ]
    },
    {
      "cell_type": "code",
      "metadata": {
        "id": "HpkM3CFQPYG2"
      },
      "source": [
        "# y_pred = ..."
      ],
      "execution_count": null,
      "outputs": []
    },
    {
      "cell_type": "markdown",
      "metadata": {
        "id": "uoOYSl59dJGW"
      },
      "source": [
        "**Afficher les prédictions transformées**"
      ]
    },
    {
      "cell_type": "code",
      "metadata": {
        "id": "PyYT0McwPrma"
      },
      "source": [
        "# ..."
      ],
      "execution_count": null,
      "outputs": []
    },
    {
      "cell_type": "markdown",
      "metadata": {
        "id": "VifesUJadn8Y"
      },
      "source": [
        "**Afficher 10 predictions où le modèle s'est trompé**\n",
        "\n",
        "Afficher les images, leurs labels et leurs prédictions"
      ]
    },
    {
      "cell_type": "code",
      "metadata": {
        "id": "_JyHiNl0Prpo"
      },
      "source": [
        "# ..."
      ],
      "execution_count": null,
      "outputs": []
    },
    {
      "cell_type": "code",
      "metadata": {
        "id": "FqgjoyGhVeXf"
      },
      "source": [
        "# ..."
      ],
      "execution_count": null,
      "outputs": []
    },
    {
      "cell_type": "code",
      "metadata": {
        "id": "PosMtAYgR2Im"
      },
      "source": [
        "# for i in range(10):\n",
        "#   ..."
      ],
      "execution_count": null,
      "outputs": []
    },
    {
      "cell_type": "markdown",
      "metadata": {
        "id": "dV9-q4WdAv1r"
      },
      "source": [
        "## **7 - Prediction sur une nouvelle image**\n",
        "\n",
        "\n",
        "On utilise la librairie PIL afin de traiter nos images"
      ]
    },
    {
      "cell_type": "markdown",
      "metadata": {
        "id": "5QChsIPrnEjf"
      },
      "source": [
        "**Import la classe Image de la librairie PIL**"
      ]
    },
    {
      "cell_type": "code",
      "metadata": {
        "id": "ZU74LC8X9iD1"
      },
      "source": [
        "# from PIL "
      ],
      "execution_count": null,
      "outputs": []
    },
    {
      "cell_type": "markdown",
      "metadata": {
        "id": "qfwx7JAvfNob"
      },
      "source": [
        "**Lire l'image importée**"
      ]
    },
    {
      "cell_type": "code",
      "metadata": {
        "id": "Rs6d0VFECiPd"
      },
      "source": [
        "# img = ..."
      ],
      "execution_count": null,
      "outputs": []
    },
    {
      "cell_type": "markdown",
      "metadata": {
        "id": "8oATHDEhgR6X"
      },
      "source": [
        "**Afficher l'image**"
      ]
    },
    {
      "cell_type": "code",
      "metadata": {
        "id": "HURIgcIvCiSp"
      },
      "source": [
        "# plt. ..."
      ],
      "execution_count": null,
      "outputs": []
    },
    {
      "cell_type": "markdown",
      "metadata": {
        "id": "BIBWBrZLgWfW"
      },
      "source": [
        "**Définir une fonction permetant de faire une prédiction sur une image**"
      ]
    },
    {
      "cell_type": "code",
      "metadata": {
        "id": "lD8nWbp1CyLz"
      },
      "source": [
        "#def prediction(image):\n",
        "#  ..."
      ],
      "execution_count": null,
      "outputs": []
    },
    {
      "cell_type": "markdown",
      "metadata": {
        "id": "LDI3xJ7mgjsI"
      },
      "source": [
        "**Effectuer une prédiction de l'image**"
      ]
    },
    {
      "cell_type": "code",
      "metadata": {
        "id": "TO0p8ggnCyOu"
      },
      "source": [
        "# print(\"Prediction de l'image ..."
      ],
      "execution_count": null,
      "outputs": []
    },
    {
      "cell_type": "markdown",
      "metadata": {
        "id": "hC_4tzq1gvPh"
      },
      "source": [
        "**Que remarque-t-on ?**"
      ]
    },
    {
      "cell_type": "markdown",
      "metadata": {
        "id": "4FCBfmQvgzg9"
      },
      "source": [
        "*Réponse : ...*"
      ]
    },
    {
      "cell_type": "markdown",
      "metadata": {
        "id": "fHIx5V_joMXD"
      },
      "source": [
        "# Fin"
      ]
    }
  ]
}