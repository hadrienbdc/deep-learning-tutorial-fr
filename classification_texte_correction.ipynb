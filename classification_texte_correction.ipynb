{
  "nbformat": 4,
  "nbformat_minor": 0,
  "metadata": {
    "colab": {
      "name": "classification_texte_correction.ipynb",
      "provenance": [],
      "collapsed_sections": [],
      "include_colab_link": true
    },
    "kernelspec": {
      "name": "python3",
      "display_name": "Python 3"
    },
    "accelerator": "GPU"
  },
  "cells": [
    {
      "cell_type": "markdown",
      "metadata": {
        "id": "view-in-github",
        "colab_type": "text"
      },
      "source": [
        "<a href=\"https://colab.research.google.com/github/hbaflast/deep-learning-tutorial-fr/blob/main/classification_texte_correction.ipynb\" target=\"_parent\"><img src=\"https://colab.research.google.com/assets/colab-badge.svg\" alt=\"Open In Colab\"/></a>"
      ]
    },
    {
      "cell_type": "markdown",
      "metadata": {
        "id": "DK_OJex3Qt9T"
      },
      "source": [
        "# **Classification de texte - IMBD**\n"
      ]
    },
    {
      "cell_type": "markdown",
      "metadata": {
        "id": "NHXLRv3t6hJc"
      },
      "source": [
        "Dans cet exercice vous allez mettre en place un réseau de neurones étant capable de classifier des critiques de cinéma selon si elles sont bonnes ou mauvaises. C'est un exemple classique de classification binaire, un problème que l'on rencontre très souvent en machine learning.\n",
        "\n",
        "On utilise pour cela le jeu de données [IMBD](https://www.imdb.com/) qui contient 50.000 critiques de films."
      ]
    },
    {
      "cell_type": "markdown",
      "metadata": {
        "id": "A3lab13MjDjF"
      },
      "source": [
        "## 1 - **Importation de module**"
      ]
    },
    {
      "cell_type": "markdown",
      "metadata": {
        "id": "i9AVsaW6RMfT"
      },
      "source": [
        "**Importer les modules Tensorflow, Numpy et pylot de Matplotlib**\n",
        "\n",
        "Nous allons traiter cet excercice avec la bibliotèque de deep learning Keras"
      ]
    },
    {
      "cell_type": "code",
      "metadata": {
        "id": "-ZIAK_qqQic3",
        "outputId": "b99cd4d5-8a69-42c8-f8ba-a119a305fa07",
        "colab": {
          "base_uri": "https://localhost:8080/",
          "height": 34
        }
      },
      "source": [
        "import numpy as np\n",
        "\n",
        "import tensorflow as tf\n",
        "\n",
        "import matplotlib.pyplot as plt"
      ],
      "execution_count": null,
      "outputs": [
        {
          "output_type": "stream",
          "text": [
            "Using TensorFlow backend.\n"
          ],
          "name": "stderr"
        }
      ]
    },
    {
      "cell_type": "markdown",
      "metadata": {
        "id": "1ajyybuJRbYt"
      },
      "source": [
        " **Afficher le GPU de la machine**\n",
        " \n",
        " Vérifions que le GPU de l'environnement de travail est bien activé"
      ]
    },
    {
      "cell_type": "code",
      "metadata": {
        "id": "7RvCGcGQ1qRb",
        "outputId": "5ecafbef-4ab2-4189-a40f-e42a89bf4641",
        "colab": {
          "base_uri": "https://localhost:8080/",
          "height": 306
        }
      },
      "source": [
        "! nvidia-smi"
      ],
      "execution_count": null,
      "outputs": [
        {
          "output_type": "stream",
          "text": [
            "Thu Sep  6 16:15:10 2018       \r\n",
            "+-----------------------------------------------------------------------------+\r\n",
            "| NVIDIA-SMI 384.111                Driver Version: 384.111                   |\r\n",
            "|-------------------------------+----------------------+----------------------+\r\n",
            "| GPU  Name        Persistence-M| Bus-Id        Disp.A | Volatile Uncorr. ECC |\r\n",
            "| Fan  Temp  Perf  Pwr:Usage/Cap|         Memory-Usage | GPU-Util  Compute M. |\r\n",
            "|===============================+======================+======================|\r\n",
            "|   0  Tesla K80           Off  | 00000000:00:04.0 Off |                    0 |\r\n",
            "| N/A   35C    P8    25W / 149W |      0MiB / 11439MiB |      0%      Default |\r\n",
            "+-------------------------------+----------------------+----------------------+\r\n",
            "                                                                               \r\n",
            "+-----------------------------------------------------------------------------+\r\n",
            "| Processes:                                                       GPU Memory |\r\n",
            "|  GPU       PID   Type   Process name                             Usage      |\r\n",
            "|=============================================================================|\r\n",
            "|  No running processes found                                                 |\r\n",
            "+-----------------------------------------------------------------------------+\r\n"
          ],
          "name": "stdout"
        }
      ]
    },
    {
      "cell_type": "markdown",
      "metadata": {
        "id": "cs-tHITB1k9E"
      },
      "source": [
        "## 2 - **Importation et Exploration des données**"
      ]
    },
    {
      "cell_type": "markdown",
      "metadata": {
        "id": "gN0KArwuR5MY"
      },
      "source": [
        "**Importer le jeu de données de puis Keras**\n",
        "\n",
        "Le jeu de données IMDB est directement contenu dans Keras, car c'est un jeu de données très populaire sur lequel est effectué un grand nombre de benchmark d'algorithme.\n",
        "\n",
        "Importer seulement les 10.000 mots les plus fréquents avec l'argument \"num_words\"\n"
      ]
    },
    {
      "cell_type": "code",
      "metadata": {
        "id": "BmTJKxfu1ZFr",
        "outputId": "08f80008-920d-4116-e03d-277942919b41",
        "colab": {
          "base_uri": "https://localhost:8080/",
          "height": 51
        }
      },
      "source": [
        "from tensorflow.keras.datasets import imdb\n",
        "\n",
        "(x_train, y_train), (x_test, y_test) = imdb.load_data(num_words=10000)"
      ],
      "execution_count": null,
      "outputs": [
        {
          "output_type": "stream",
          "text": [
            "Downloading data from https://s3.amazonaws.com/text-datasets/imdb.npz\n",
            "17465344/17464789 [==============================] - 4s 0us/step\n"
          ],
          "name": "stdout"
        }
      ]
    },
    {
      "cell_type": "markdown",
      "metadata": {
        "id": "AB9eNajbSmN8"
      },
      "source": [
        "**Afficher le jeu de données**\n",
        "\n",
        "Affichons les données du jeu d'entrainement"
      ]
    },
    {
      "cell_type": "code",
      "metadata": {
        "id": "COG_PIn8TDXI",
        "outputId": "cbc60445-bc56-412c-b74e-4baebf5e0a31",
        "colab": {
          "base_uri": "https://localhost:8080/",
          "height": 173
        }
      },
      "source": [
        "x_train"
      ],
      "execution_count": null,
      "outputs": [
        {
          "output_type": "execute_result",
          "data": {
            "text/plain": [
              "array([list([1, 14, 22, 16, 43, 530, 973, 1622, 1385, 65, 458, 4468, 66, 3941, 4, 173, 36, 256, 5, 25, 100, 43, 838, 112, 50, 670, 2, 9, 35, 480, 284, 5, 150, 4, 172, 112, 167, 2, 336, 385, 39, 4, 172, 4536, 1111, 17, 546, 38, 13, 447, 4, 192, 50, 16, 6, 147, 2025, 19, 14, 22, 4, 1920, 4613, 469, 4, 22, 71, 87, 12, 16, 43, 530, 38, 76, 15, 13, 1247, 4, 22, 17, 515, 17, 12, 16, 626, 18, 2, 5, 62, 386, 12, 8, 316, 8, 106, 5, 4, 2223, 5244, 16, 480, 66, 3785, 33, 4, 130, 12, 16, 38, 619, 5, 25, 124, 51, 36, 135, 48, 25, 1415, 33, 6, 22, 12, 215, 28, 77, 52, 5, 14, 407, 16, 82, 2, 8, 4, 107, 117, 5952, 15, 256, 4, 2, 7, 3766, 5, 723, 36, 71, 43, 530, 476, 26, 400, 317, 46, 7, 4, 2, 1029, 13, 104, 88, 4, 381, 15, 297, 98, 32, 2071, 56, 26, 141, 6, 194, 7486, 18, 4, 226, 22, 21, 134, 476, 26, 480, 5, 144, 30, 5535, 18, 51, 36, 28, 224, 92, 25, 104, 4, 226, 65, 16, 38, 1334, 88, 12, 16, 283, 5, 16, 4472, 113, 103, 32, 15, 16, 5345, 19, 178, 32]),\n",
              "       list([1, 194, 1153, 194, 8255, 78, 228, 5, 6, 1463, 4369, 5012, 134, 26, 4, 715, 8, 118, 1634, 14, 394, 20, 13, 119, 954, 189, 102, 5, 207, 110, 3103, 21, 14, 69, 188, 8, 30, 23, 7, 4, 249, 126, 93, 4, 114, 9, 2300, 1523, 5, 647, 4, 116, 9, 35, 8163, 4, 229, 9, 340, 1322, 4, 118, 9, 4, 130, 4901, 19, 4, 1002, 5, 89, 29, 952, 46, 37, 4, 455, 9, 45, 43, 38, 1543, 1905, 398, 4, 1649, 26, 6853, 5, 163, 11, 3215, 2, 4, 1153, 9, 194, 775, 7, 8255, 2, 349, 2637, 148, 605, 2, 8003, 15, 123, 125, 68, 2, 6853, 15, 349, 165, 4362, 98, 5, 4, 228, 9, 43, 2, 1157, 15, 299, 120, 5, 120, 174, 11, 220, 175, 136, 50, 9, 4373, 228, 8255, 5, 2, 656, 245, 2350, 5, 4, 9837, 131, 152, 491, 18, 2, 32, 7464, 1212, 14, 9, 6, 371, 78, 22, 625, 64, 1382, 9, 8, 168, 145, 23, 4, 1690, 15, 16, 4, 1355, 5, 28, 6, 52, 154, 462, 33, 89, 78, 285, 16, 145, 95]),\n",
              "       list([1, 14, 47, 8, 30, 31, 7, 4, 249, 108, 7, 4, 5974, 54, 61, 369, 13, 71, 149, 14, 22, 112, 4, 2401, 311, 12, 16, 3711, 33, 75, 43, 1829, 296, 4, 86, 320, 35, 534, 19, 263, 4821, 1301, 4, 1873, 33, 89, 78, 12, 66, 16, 4, 360, 7, 4, 58, 316, 334, 11, 4, 1716, 43, 645, 662, 8, 257, 85, 1200, 42, 1228, 2578, 83, 68, 3912, 15, 36, 165, 1539, 278, 36, 69, 2, 780, 8, 106, 14, 6905, 1338, 18, 6, 22, 12, 215, 28, 610, 40, 6, 87, 326, 23, 2300, 21, 23, 22, 12, 272, 40, 57, 31, 11, 4, 22, 47, 6, 2307, 51, 9, 170, 23, 595, 116, 595, 1352, 13, 191, 79, 638, 89, 2, 14, 9, 8, 106, 607, 624, 35, 534, 6, 227, 7, 129, 113]),\n",
              "       ...,\n",
              "       list([1, 11, 6, 230, 245, 6401, 9, 6, 1225, 446, 2, 45, 2174, 84, 8322, 4007, 21, 4, 912, 84, 2, 325, 725, 134, 2, 1715, 84, 5, 36, 28, 57, 1099, 21, 8, 140, 8, 703, 5, 2, 84, 56, 18, 1644, 14, 9, 31, 7, 4, 9406, 1209, 2295, 2, 1008, 18, 6, 20, 207, 110, 563, 12, 8, 2901, 2, 8, 97, 6, 20, 53, 4767, 74, 4, 460, 364, 1273, 29, 270, 11, 960, 108, 45, 40, 29, 2961, 395, 11, 6, 4065, 500, 7, 2, 89, 364, 70, 29, 140, 4, 64, 4780, 11, 4, 2678, 26, 178, 4, 529, 443, 2, 5, 27, 710, 117, 2, 8123, 165, 47, 84, 37, 131, 818, 14, 595, 10, 10, 61, 1242, 1209, 10, 10, 288, 2260, 1702, 34, 2901, 2, 4, 65, 496, 4, 231, 7, 790, 5, 6, 320, 234, 2766, 234, 1119, 1574, 7, 496, 4, 139, 929, 2901, 2, 7750, 5, 4241, 18, 4, 8497, 2, 250, 11, 1818, 7561, 4, 4217, 5408, 747, 1115, 372, 1890, 1006, 541, 9303, 7, 4, 59, 2, 4, 3586, 2]),\n",
              "       list([1, 1446, 7079, 69, 72, 3305, 13, 610, 930, 8, 12, 582, 23, 5, 16, 484, 685, 54, 349, 11, 4120, 2959, 45, 58, 1466, 13, 197, 12, 16, 43, 23, 2, 5, 62, 30, 145, 402, 11, 4131, 51, 575, 32, 61, 369, 71, 66, 770, 12, 1054, 75, 100, 2198, 8, 4, 105, 37, 69, 147, 712, 75, 3543, 44, 257, 390, 5, 69, 263, 514, 105, 50, 286, 1814, 23, 4, 123, 13, 161, 40, 5, 421, 4, 116, 16, 897, 13, 2, 40, 319, 5872, 112, 6700, 11, 4803, 121, 25, 70, 3468, 4, 719, 3798, 13, 18, 31, 62, 40, 8, 7200, 4, 2, 7, 14, 123, 5, 942, 25, 8, 721, 12, 145, 5, 202, 12, 160, 580, 202, 12, 6, 52, 58, 2, 92, 401, 728, 12, 39, 14, 251, 8, 15, 251, 5, 2, 12, 38, 84, 80, 124, 12, 9, 23]),\n",
              "       list([1, 17, 6, 194, 337, 7, 4, 204, 22, 45, 254, 8, 106, 14, 123, 4, 2, 270, 2, 5, 2, 2, 732, 2098, 101, 405, 39, 14, 1034, 4, 1310, 9, 115, 50, 305, 12, 47, 4, 168, 5, 235, 7, 38, 111, 699, 102, 7, 4, 4039, 9245, 9, 24, 6, 78, 1099, 17, 2345, 2, 21, 27, 9685, 6139, 5, 2, 1603, 92, 1183, 4, 1310, 7, 4, 204, 42, 97, 90, 35, 221, 109, 29, 127, 27, 118, 8, 97, 12, 157, 21, 6789, 2, 9, 6, 66, 78, 1099, 4, 631, 1191, 5, 2642, 272, 191, 1070, 6, 7585, 8, 2197, 2, 2, 544, 5, 383, 1271, 848, 1468, 2, 497, 2, 8, 1597, 8778, 2, 21, 60, 27, 239, 9, 43, 8368, 209, 405, 10, 10, 12, 764, 40, 4, 248, 20, 12, 16, 5, 174, 1791, 72, 7, 51, 6, 1739, 22, 4, 204, 131, 9])],\n",
              "      dtype=object)"
            ]
          },
          "metadata": {
            "tags": []
          },
          "execution_count": 4
        }
      ]
    },
    {
      "cell_type": "markdown",
      "metadata": {
        "id": "5nFafuY5HG3K"
      },
      "source": [
        "Puis les labels du jeu d'entrainement"
      ]
    },
    {
      "cell_type": "code",
      "metadata": {
        "id": "OAOglZEgHPct",
        "outputId": "350e296a-0292-4748-b403-4cd986b024f6",
        "colab": {
          "base_uri": "https://localhost:8080/",
          "height": 34
        }
      },
      "source": [
        "y_train"
      ],
      "execution_count": null,
      "outputs": [
        {
          "output_type": "execute_result",
          "data": {
            "text/plain": [
              "array([1, 0, 0, ..., 0, 1, 0])"
            ]
          },
          "metadata": {
            "tags": []
          },
          "execution_count": 5
        }
      ]
    },
    {
      "cell_type": "markdown",
      "metadata": {
        "id": "BHH_3DrGHRMT"
      },
      "source": [
        "**Que remarque-t-on ?**\n",
        "\n",
        "**De quels types sont les données et leurs labels ?**\n",
        "\n",
        "---\n",
        "\n"
      ]
    },
    {
      "cell_type": "markdown",
      "metadata": {
        "id": "3QYyxWJEqY0o"
      },
      "source": [
        "*Les données sont déjà processées.*\n",
        "\n",
        "*Les données sont un array de listes d'entier et les labels un array d'entier.*"
      ]
    },
    {
      "cell_type": "markdown",
      "metadata": {
        "id": "x5vFgbTTSJKp"
      },
      "source": [
        "**Afficher la taille du jeu de données**\n",
        "\n",
        "Affichons la taille du jeu d'entrainement dans un premier temps\n",
        "\n"
      ]
    },
    {
      "cell_type": "code",
      "metadata": {
        "id": "_HxgnfpW3M4d",
        "outputId": "a39239c9-c9a8-4d1b-8dd3-e3dc773ef969",
        "colab": {
          "base_uri": "https://localhost:8080/",
          "height": 34
        }
      },
      "source": [
        "x_train.shape"
      ],
      "execution_count": null,
      "outputs": [
        {
          "output_type": "execute_result",
          "data": {
            "text/plain": [
              "(25000,)"
            ]
          },
          "metadata": {
            "tags": []
          },
          "execution_count": 6
        }
      ]
    },
    {
      "cell_type": "markdown",
      "metadata": {
        "id": "oA6iFh2wFnEP"
      },
      "source": [
        "Puis la taille du jeu de test dans un second temps"
      ]
    },
    {
      "cell_type": "code",
      "metadata": {
        "id": "C6ZzlmR78ntL",
        "outputId": "b299d267-acee-4941-c633-96fda70330b8",
        "colab": {
          "base_uri": "https://localhost:8080/",
          "height": 34
        }
      },
      "source": [
        "x_test.shape"
      ],
      "execution_count": null,
      "outputs": [
        {
          "output_type": "execute_result",
          "data": {
            "text/plain": [
              "(25000,)"
            ]
          },
          "metadata": {
            "tags": []
          },
          "execution_count": 7
        }
      ]
    },
    {
      "cell_type": "markdown",
      "metadata": {
        "id": "7ohZNPVbSw9f"
      },
      "source": [
        "**Afficher la distribution des labels**\n",
        "\n",
        "Faisons un graphe de la distribution des labels du jeu d'entrainement"
      ]
    },
    {
      "cell_type": "code",
      "metadata": {
        "id": "_VZbi45875tO",
        "outputId": "69bd9f13-c904-43e8-e611-112b2cf2806a",
        "colab": {
          "base_uri": "https://localhost:8080/",
          "height": 347
        }
      },
      "source": [
        "plt.hist(y_train);"
      ],
      "execution_count": null,
      "outputs": [
        {
          "output_type": "display_data",
          "data": {
            "image/png": "[encoded data removed]",
            "text/plain": [
              "<matplotlib.figure.Figure at 0x7fbe71e74320>"
            ]
          },
          "metadata": {
            "tags": []
          }
        }
      ]
    },
    {
      "cell_type": "markdown",
      "metadata": {
        "id": "UzW0LpeOIaXI"
      },
      "source": [
        "Et des labels du jeu de test"
      ]
    },
    {
      "cell_type": "code",
      "metadata": {
        "id": "VO9P0EjC76MJ",
        "outputId": "051b59df-eaaa-4813-c75f-459ac2213cc9",
        "colab": {
          "base_uri": "https://localhost:8080/",
          "height": 347
        }
      },
      "source": [
        "plt.hist(y_test);"
      ],
      "execution_count": null,
      "outputs": [
        {
          "output_type": "display_data",
          "data": {
            "image/png": "[encoded data removed]",
            "text/plain": [
              "<matplotlib.figure.Figure at 0x7fbe2048f080>"
            ]
          },
          "metadata": {
            "tags": []
          }
        }
      ]
    },
    {
      "cell_type": "markdown",
      "metadata": {
        "id": "8X_NImycIiwf"
      },
      "source": [
        "**Que remarque-t-on ?**\n",
        "\n",
        "---\n",
        "\n"
      ]
    },
    {
      "cell_type": "markdown",
      "metadata": {
        "id": "Hdx7wyxJrqou"
      },
      "source": [
        "*Les données sont parfaitement balancées*"
      ]
    },
    {
      "cell_type": "markdown",
      "metadata": {
        "id": "cEYy5Mo6TKv1"
      },
      "source": [
        "**Afficher la taille de la première et de la deuxième phrase**"
      ]
    },
    {
      "cell_type": "code",
      "metadata": {
        "id": "DoMHb7bX3YJK",
        "outputId": "03df3a54-81b5-484c-da88-b48e85b76337",
        "colab": {
          "base_uri": "https://localhost:8080/",
          "height": 51
        }
      },
      "source": [
        "print(\"Taille de la première phrase : \" + str(len(x_train[0])))\n",
        "print(\"Taille de la deuxième phrase : \" + str(len(x_train[1])))"
      ],
      "execution_count": null,
      "outputs": [
        {
          "output_type": "stream",
          "text": [
            "Taille de la première phrase : 218\n",
            "Taille de la deuxième phrase : 189\n"
          ],
          "name": "stdout"
        }
      ]
    },
    {
      "cell_type": "markdown",
      "metadata": {
        "id": "DDW_dECTI8aZ"
      },
      "source": [
        "**Que remarque-t-on ?**\n",
        "\n",
        "---\n",
        "\n"
      ]
    },
    {
      "cell_type": "markdown",
      "metadata": {
        "id": "VabNrONorx8y"
      },
      "source": [
        "*Les phrases ne sont pas de la même longueur. *"
      ]
    },
    {
      "cell_type": "markdown",
      "metadata": {
        "id": "3koNKemnTo5y"
      },
      "source": [
        "** Faire une fonction permettant d'afficher la distribution de la longueur des phrases du jeu de données**"
      ]
    },
    {
      "cell_type": "code",
      "metadata": {
        "id": "u6rmC9589y5n"
      },
      "source": [
        "def plot_len_distribution(dataset):\n",
        "  len_list = []\n",
        "  for list_ in dataset:\n",
        "    len_ = len(list_)\n",
        "    len_list.append(len_)\n",
        "  plt.hist(len_list);"
      ],
      "execution_count": null,
      "outputs": []
    },
    {
      "cell_type": "code",
      "metadata": {
        "id": "p_JiTHna-MlU",
        "outputId": "e333fff9-c217-4c3a-a085-a074404fbb50",
        "colab": {
          "base_uri": "https://localhost:8080/",
          "height": 347
        }
      },
      "source": [
        "plot_len_distribution(x_train)\n",
        "plot_len_distribution(x_test)"
      ],
      "execution_count": null,
      "outputs": [
        {
          "output_type": "display_data",
          "data": {
            "image/png": "[encoded data removed]",
            "text/plain": [
              "<matplotlib.figure.Figure at 0x7fbe1b0fea20>"
            ]
          },
          "metadata": {
            "tags": []
          }
        }
      ]
    },
    {
      "cell_type": "markdown",
      "metadata": {
        "id": "v9Jio8rm5LZG"
      },
      "source": [
        " **Décodage des vecteurs**\n",
        "\n",
        "On a pu observer que le jeu de données a été processé.\n",
        "Une critique est ici une liste d'entiers qui représente un mot.\n",
        "\n",
        "En ce qui concerne les labels : 0 repésente une critique négative et 1 une critique positive\n",
        "\n",
        "Il peut être intéressant de reconvertir les nombres en phrases\n",
        "\n"
      ]
    },
    {
      "cell_type": "markdown",
      "metadata": {
        "id": "Vso-TdH0MHmM"
      },
      "source": [
        "**Importer l'index des mots avec la méthode get_word_index de la classe imbd**"
      ]
    },
    {
      "cell_type": "code",
      "metadata": {
        "id": "fxYeadUz3Yil",
        "outputId": "c7178f70-63ce-418d-e631-d321dfb3ce5e",
        "colab": {
          "base_uri": "https://localhost:8080/",
          "height": 51
        }
      },
      "source": [
        "word_index = imdb.get_word_index()"
      ],
      "execution_count": null,
      "outputs": [
        {
          "output_type": "stream",
          "text": [
            "Downloading data from https://s3.amazonaws.com/text-datasets/imdb_word_index.json\n",
            "1646592/1641221 [==============================] - 1s 1us/step\n"
          ],
          "name": "stdout"
        }
      ]
    },
    {
      "cell_type": "markdown",
      "metadata": {
        "id": "G75cY5XmUQyY"
      },
      "source": [
        "**Afficher l'index des mots**"
      ]
    },
    {
      "cell_type": "code",
      "metadata": {
        "id": "CdEPV8Hy_YWl",
        "outputId": "b2e0b698-9b55-46a9-e63c-741da612305e",
        "colab": {
          "base_uri": "https://localhost:8080/",
          "height": 17034
        }
      },
      "source": [
        "word_index"
      ],
      "execution_count": null,
      "outputs": [
        {
          "output_type": "execute_result",
          "data": {
            "text/plain": [
              "{'fawn': 34701,\n",
              " 'tsukino': 52006,\n",
              " 'nunnery': 52007,\n",
              " 'sonja': 16816,\n",
              " 'vani': 63951,\n",
              " 'woods': 1408,\n",
              " 'spiders': 16115,\n",
              " 'hanging': 2345,\n",
              " 'woody': 2289,\n",
              " 'trawling': 52008,\n",
              " \"hold's\": 52009,\n",
              " 'comically': 11307,\n",
              " 'localized': 40830,\n",
              " 'disobeying': 30568,\n",
              " \"'royale\": 52010,\n",
              " \"harpo's\": 40831,\n",
              " 'canet': 52011,\n",
              " 'aileen': 19313,\n",
              " 'acurately': 52012,\n",
              " \"diplomat's\": 52013,\n",
              " 'rickman': 25242,\n",
              " 'arranged': 6746,\n",
              " 'rumbustious': 52014,\n",
              " 'familiarness': 52015,\n",
              " \"spider'\": 52016,\n",
              " 'hahahah': 68804,\n",
              " \"wood'\": 52017,\n",
              " 'transvestism': 40833,\n",
              " \"hangin'\": 34702,\n",
              " 'bringing': 2338,\n",
              " 'seamier': 40834,\n",
              " 'wooded': 34703,\n",
              " 'bravora': 52018,\n",
              " 'grueling': 16817,\n",
              " 'wooden': 1636,\n",
              " 'wednesday': 16818,\n",
              " \"'prix\": 52019,\n",
              " 'altagracia': 34704,\n",
              " 'circuitry': 52020,\n",
              " 'crotch': 11585,\n",
              " 'busybody': 57766,\n",
              " \"tart'n'tangy\": 52021,\n",
              " 'burgade': 14129,\n",
              " 'thrace': 52023,\n",
              " \"tom's\": 11038,\n",
              " 'snuggles': 52025,\n",
              " 'francesco': 29114,\n",
              " 'complainers': 52027,\n",
              " 'templarios': 52125,\n",
              " '272': 40835,\n",
              " '273': 52028,\n",
              " 'zaniacs': 52130,\n",
              " '275': 34706,\n",
              " 'consenting': 27631,\n",
              " 'snuggled': 40836,\n",
              " 'inanimate': 15492,\n",
              " 'uality': 52030,\n",
              " 'bronte': 11926,\n",
              " 'errors': 4010,\n",
              " 'dialogs': 3230,\n",
              " \"yomada's\": 52031,\n",
              " \"madman's\": 34707,\n",
              " 'dialoge': 30585,\n",
              " 'usenet': 52033,\n",
              " 'videodrome': 40837,\n",
              " \"kid'\": 26338,\n",
              " 'pawed': 52034,\n",
              " \"'girlfriend'\": 30569,\n",
              " \"'pleasure\": 52035,\n",
              " \"'reloaded'\": 52036,\n",
              " \"kazakos'\": 40839,\n",
              " 'rocque': 52037,\n",
              " 'mailings': 52038,\n",
              " 'brainwashed': 11927,\n",
              " 'mcanally': 16819,\n",
              " \"tom''\": 52039,\n",
              " 'kurupt': 25243,\n",
              " 'affiliated': 21905,\n",
              " 'babaganoosh': 52040,\n",
              " \"noe's\": 40840,\n",
              " 'quart': 40841,\n",
              " 'kids': 359,\n",
              " 'uplifting': 5034,\n",
              " 'controversy': 7093,\n",
              " 'kida': 21906,\n",
              " 'kidd': 23379,\n",
              " \"error'\": 52041,\n",
              " 'neurologist': 52042,\n",
              " 'spotty': 18510,\n",
              " 'cobblers': 30570,\n",
              " 'projection': 9878,\n",
              " 'fastforwarding': 40842,\n",
              " 'sters': 52043,\n",
              " \"eggar's\": 52044,\n",
              " 'etherything': 52045,\n",
              " 'gateshead': 40843,\n",
              " 'airball': 34708,\n",
              " 'unsinkable': 25244,\n",
              " 'stern': 7180,\n",
              " \"cervi's\": 52046,\n",
              " 'dnd': 40844,\n",
              " 'dna': 11586,\n",
              " 'insecurity': 20598,\n",
              " \"'reboot'\": 52047,\n",
              " 'trelkovsky': 11037,\n",
              " 'jaekel': 52048,\n",
              " 'sidebars': 52049,\n",
              " \"sforza's\": 52050,\n",
              " 'distortions': 17633,\n",
              " 'mutinies': 52051,\n",
              " 'sermons': 30602,\n",
              " '7ft': 40846,\n",
              " 'boobage': 52052,\n",
              " \"o'bannon's\": 52053,\n",
              " 'populations': 23380,\n",
              " 'chulak': 52054,\n",
              " 'mesmerize': 27633,\n",
              " 'quinnell': 52055,\n",
              " 'yahoo': 10307,\n",
              " 'meteorologist': 52057,\n",
              " 'beswick': 42577,\n",
              " 'boorman': 15493,\n",
              " 'voicework': 40847,\n",
              " \"ster'\": 52058,\n",
              " 'blustering': 22922,\n",
              " 'hj': 52059,\n",
              " 'intake': 27634,\n",
              " 'morally': 5621,\n",
              " 'jumbling': 40849,\n",
              " 'bowersock': 52060,\n",
              " \"'porky's'\": 52061,\n",
              " 'gershon': 16821,\n",
              " 'ludicrosity': 40850,\n",
              " 'coprophilia': 52062,\n",
              " 'expressively': 40851,\n",
              " \"india's\": 19500,\n",
              " \"post's\": 34710,\n",
              " 'wana': 52063,\n",
              " 'wang': 5283,\n",
              " 'wand': 30571,\n",
              " 'wane': 25245,\n",
              " 'edgeways': 52321,\n",
              " 'titanium': 34711,\n",
              " 'pinta': 40852,\n",
              " 'want': 178,\n",
              " 'pinto': 30572,\n",
              " 'whoopdedoodles': 52065,\n",
              " 'tchaikovsky': 21908,\n",
              " 'travel': 2103,\n",
              " \"'victory'\": 52066,\n",
              " 'copious': 11928,\n",
              " 'gouge': 22433,\n",
              " \"chapters'\": 52067,\n",
              " 'barbra': 6702,\n",
              " 'uselessness': 30573,\n",
              " \"wan'\": 52068,\n",
              " 'assimilated': 27635,\n",
              " 'petiot': 16116,\n",
              " 'most\\x85and': 52069,\n",
              " 'dinosaurs': 3930,\n",
              " 'wrong': 352,\n",
              " 'seda': 52070,\n",
              " 'stollen': 52071,\n",
              " 'sentencing': 34712,\n",
              " 'ouroboros': 40853,\n",
              " 'assimilates': 40854,\n",
              " 'colorfully': 40855,\n",
              " 'glenne': 27636,\n",
              " 'dongen': 52072,\n",
              " 'subplots': 4760,\n",
              " 'kiloton': 52073,\n",
              " 'chandon': 23381,\n",
              " \"effect'\": 34713,\n",
              " 'snugly': 27637,\n",
              " 'kuei': 40856,\n",
              " 'welcomed': 9092,\n",
              " 'dishonor': 30071,\n",
              " 'concurrence': 52075,\n",
              " 'stoicism': 23382,\n",
              " \"guys'\": 14896,\n",
              " \"beroemd'\": 52077,\n",
              " 'butcher': 6703,\n",
              " \"melfi's\": 40857,\n",
              " 'aargh': 30623,\n",
              " 'playhouse': 20599,\n",
              " 'wickedly': 11308,\n",
              " 'fit': 1180,\n",
              " 'labratory': 52078,\n",
              " 'lifeline': 40859,\n",
              " 'screaming': 1927,\n",
              " 'fix': 4287,\n",
              " 'cineliterate': 52079,\n",
              " 'fic': 52080,\n",
              " 'fia': 52081,\n",
              " 'fig': 34714,\n",
              " 'fmvs': 52082,\n",
              " 'fie': 52083,\n",
              " 'reentered': 52084,\n",
              " 'fin': 30574,\n",
              " 'doctresses': 52085,\n",
              " 'fil': 52086,\n",
              " 'zucker': 12606,\n",
              " 'ached': 31931,\n",
              " 'counsil': 52088,\n",
              " 'paterfamilias': 52089,\n",
              " 'songwriter': 13885,\n",
              " 'shivam': 34715,\n",
              " 'hurting': 9654,\n",
              " 'effects': 299,\n",
              " 'slauther': 52090,\n",
              " \"'flame'\": 52091,\n",
              " 'sommerset': 52092,\n",
              " 'interwhined': 52093,\n",
              " 'whacking': 27638,\n",
              " 'bartok': 52094,\n",
              " 'barton': 8775,\n",
              " 'frewer': 21909,\n",
              " \"fi'\": 52095,\n",
              " 'ingrid': 6192,\n",
              " 'stribor': 30575,\n",
              " 'approporiately': 52096,\n",
              " 'wobblyhand': 52097,\n",
              " 'tantalisingly': 52098,\n",
              " 'ankylosaurus': 52099,\n",
              " 'parasites': 17634,\n",
              " 'childen': 52100,\n",
              " \"jenkins'\": 52101,\n",
              " 'metafiction': 52102,\n",
              " 'golem': 17635,\n",
              " 'indiscretion': 40860,\n",
              " \"reeves'\": 23383,\n",
              " \"inamorata's\": 57781,\n",
              " 'brittannica': 52104,\n",
              " 'adapt': 7916,\n",
              " \"russo's\": 30576,\n",
              " 'guitarists': 48246,\n",
              " 'abbott': 10553,\n",
              " 'abbots': 40861,\n",
              " 'lanisha': 17649,\n",
              " 'magickal': 40863,\n",
              " 'mattter': 52105,\n",
              " \"'willy\": 52106,\n",
              " 'pumpkins': 34716,\n",
              " 'stuntpeople': 52107,\n",
              " 'estimate': 30577,\n",
              " 'ugghhh': 40864,\n",
              " 'gameplay': 11309,\n",
              " \"wern't\": 52108,\n",
              " \"n'sync\": 40865,\n",
              " 'sickeningly': 16117,\n",
              " 'chiara': 40866,\n",
              " 'disturbed': 4011,\n",
              " 'portmanteau': 40867,\n",
              " 'ineffectively': 52109,\n",
              " \"duchonvey's\": 82143,\n",
              " \"nasty'\": 37519,\n",
              " 'purpose': 1285,\n",
              " 'lazers': 52112,\n",
              " 'lightened': 28105,\n",
              " 'kaliganj': 52113,\n",
              " 'popularism': 52114,\n",
              " \"damme's\": 18511,\n",
              " 'stylistics': 30578,\n",
              " 'mindgaming': 52115,\n",
              " 'spoilerish': 46449,\n",
              " \"'corny'\": 52117,\n",
              " 'boerner': 34718,\n",
              " 'olds': 6792,\n",
              " 'bakelite': 52118,\n",
              " 'renovated': 27639,\n",
              " 'forrester': 27640,\n",
              " \"lumiere's\": 52119,\n",
              " 'gaskets': 52024,\n",
              " 'needed': 884,\n",
              " 'smight': 34719,\n",
              " 'master': 1297,\n",
              " \"edie's\": 25905,\n",
              " 'seeber': 40868,\n",
              " 'hiya': 52120,\n",
              " 'fuzziness': 52121,\n",
              " 'genesis': 14897,\n",
              " 'rewards': 12607,\n",
              " 'enthrall': 30579,\n",
              " \"'about\": 40869,\n",
              " \"recollection's\": 52122,\n",
              " 'mutilated': 11039,\n",
              " 'fatherlands': 52123,\n",
              " \"fischer's\": 52124,\n",
              " 'positively': 5399,\n",
              " '270': 34705,\n",
              " 'ahmed': 34720,\n",
              " 'zatoichi': 9836,\n",
              " 'bannister': 13886,\n",
              " 'anniversaries': 52127,\n",
              " \"helm's\": 30580,\n",
              " \"'work'\": 52128,\n",
              " 'exclaimed': 34721,\n",
              " \"'unfunny'\": 52129,\n",
              " '274': 52029,\n",
              " 'feeling': 544,\n",
              " \"wanda's\": 52131,\n",
              " 'dolan': 33266,\n",
              " '278': 52133,\n",
              " 'peacoat': 52134,\n",
              " 'brawny': 40870,\n",
              " 'mishra': 40871,\n",
              " 'worlders': 40872,\n",
              " 'protags': 52135,\n",
              " 'skullcap': 52136,\n",
              " 'dastagir': 57596,\n",
              " 'affairs': 5622,\n",
              " 'wholesome': 7799,\n",
              " 'hymen': 52137,\n",
              " 'paramedics': 25246,\n",
              " 'unpersons': 52138,\n",
              " 'heavyarms': 52139,\n",
              " 'affaire': 52140,\n",
              " 'coulisses': 52141,\n",
              " 'hymer': 40873,\n",
              " 'kremlin': 52142,\n",
              " 'shipments': 30581,\n",
              " 'pixilated': 52143,\n",
              " \"'00s\": 30582,\n",
              " 'diminishing': 18512,\n",
              " 'cinematic': 1357,\n",
              " 'resonates': 14898,\n",
              " 'simplify': 40874,\n",
              " \"nature'\": 40875,\n",
              " 'temptresses': 40876,\n",
              " 'reverence': 16822,\n",
              " 'resonated': 19502,\n",
              " 'dailey': 34722,\n",
              " '2\\x85': 52144,\n",
              " 'treize': 27641,\n",
              " 'majo': 52145,\n",
              " 'kiya': 21910,\n",
              " 'woolnough': 52146,\n",
              " 'thanatos': 39797,\n",
              " 'sandoval': 35731,\n",
              " 'dorama': 40879,\n",
              " \"o'shaughnessy\": 52147,\n",
              " 'tech': 4988,\n",
              " 'fugitives': 32018,\n",
              " 'teck': 30583,\n",
              " \"'e'\": 76125,\n",
              " 'doesn’t': 40881,\n",
              " 'purged': 52149,\n",
              " 'saying': 657,\n",
              " \"martians'\": 41095,\n",
              " 'norliss': 23418,\n",
              " 'dickey': 27642,\n",
              " 'dicker': 52152,\n",
              " \"'sependipity\": 52153,\n",
              " 'padded': 8422,\n",
              " 'ordell': 57792,\n",
              " \"sturges'\": 40882,\n",
              " 'independentcritics': 52154,\n",
              " 'tempted': 5745,\n",
              " \"atkinson's\": 34724,\n",
              " 'hounded': 25247,\n",
              " 'apace': 52155,\n",
              " 'clicked': 15494,\n",
              " \"'humor'\": 30584,\n",
              " \"martino's\": 17177,\n",
              " \"'supporting\": 52156,\n",
              " 'warmongering': 52032,\n",
              " \"zemeckis's\": 34725,\n",
              " 'lube': 21911,\n",
              " 'shocky': 52157,\n",
              " 'plate': 7476,\n",
              " 'plata': 40883,\n",
              " 'sturgess': 40884,\n",
              " \"nerds'\": 40885,\n",
              " 'plato': 20600,\n",
              " 'plath': 34726,\n",
              " 'platt': 40886,\n",
              " 'mcnab': 52159,\n",
              " 'clumsiness': 27643,\n",
              " 'altogether': 3899,\n",
              " 'massacring': 42584,\n",
              " 'bicenntinial': 52160,\n",
              " 'skaal': 40887,\n",
              " 'droning': 14360,\n",
              " 'lds': 8776,\n",
              " 'jaguar': 21912,\n",
              " \"cale's\": 34727,\n",
              " 'nicely': 1777,\n",
              " 'mummy': 4588,\n",
              " \"lot's\": 18513,\n",
              " 'patch': 10086,\n",
              " 'kerkhof': 50202,\n",
              " \"leader's\": 52161,\n",
              " \"'movie\": 27644,\n",
              " 'uncomfirmed': 52162,\n",
              " 'heirloom': 40888,\n",
              " 'wrangle': 47360,\n",
              " 'emotion\\x85': 52163,\n",
              " \"'stargate'\": 52164,\n",
              " 'pinoy': 40889,\n",
              " 'conchatta': 40890,\n",
              " 'broeke': 41128,\n",
              " 'advisedly': 40891,\n",
              " \"barker's\": 17636,\n",
              " 'descours': 52166,\n",
              " 'lots': 772,\n",
              " 'lotr': 9259,\n",
              " 'irs': 9879,\n",
              " 'lott': 52167,\n",
              " 'xvi': 40892,\n",
              " 'irk': 34728,\n",
              " 'irl': 52168,\n",
              " 'ira': 6887,\n",
              " 'belzer': 21913,\n",
              " 'irc': 52169,\n",
              " 'ire': 27645,\n",
              " 'requisites': 40893,\n",
              " 'discipline': 7693,\n",
              " 'lyoko': 52961,\n",
              " 'extend': 11310,\n",
              " 'nature': 873,\n",
              " \"'dickie'\": 52170,\n",
              " 'optimist': 40894,\n",
              " 'lapping': 30586,\n",
              " 'superficial': 3900,\n",
              " 'vestment': 52171,\n",
              " 'extent': 2823,\n",
              " 'tendons': 52172,\n",
              " \"heller's\": 52173,\n",
              " 'quagmires': 52174,\n",
              " 'miyako': 52175,\n",
              " 'moocow': 20601,\n",
              " \"coles'\": 52176,\n",
              " 'lookit': 40895,\n",
              " 'ravenously': 52177,\n",
              " 'levitating': 40896,\n",
              " 'perfunctorily': 52178,\n",
              " 'lookin': 30587,\n",
              " \"lot'\": 40898,\n",
              " 'lookie': 52179,\n",
              " 'fearlessly': 34870,\n",
              " 'libyan': 52181,\n",
              " 'fondles': 40899,\n",
              " 'gopher': 35714,\n",
              " 'wearying': 40901,\n",
              " \"nz's\": 52182,\n",
              " 'minuses': 27646,\n",
              " 'puposelessly': 52183,\n",
              " 'shandling': 52184,\n",
              " 'decapitates': 31268,\n",
              " 'humming': 11929,\n",
              " \"'nother\": 40902,\n",
              " 'smackdown': 21914,\n",
              " 'underdone': 30588,\n",
              " 'frf': 40903,\n",
              " 'triviality': 52185,\n",
              " 'fro': 25248,\n",
              " 'bothers': 8777,\n",
              " \"'kensington\": 52186,\n",
              " 'much': 73,\n",
              " 'muco': 34730,\n",
              " 'wiseguy': 22615,\n",
              " \"richie's\": 27648,\n",
              " 'tonino': 40904,\n",
              " 'unleavened': 52187,\n",
              " 'fry': 11587,\n",
              " \"'tv'\": 40905,\n",
              " 'toning': 40906,\n",
              " 'obese': 14361,\n",
              " 'sensationalized': 30589,\n",
              " 'spiv': 40907,\n",
              " 'spit': 6259,\n",
              " 'arkin': 7364,\n",
              " 'charleton': 21915,\n",
              " 'jeon': 16823,\n",
              " 'boardroom': 21916,\n",
              " 'doubts': 4989,\n",
              " 'spin': 3084,\n",
              " 'hepo': 53083,\n",
              " 'wildcat': 27649,\n",
              " 'venoms': 10584,\n",
              " 'misconstrues': 52191,\n",
              " 'mesmerising': 18514,\n",
              " 'misconstrued': 40908,\n",
              " 'rescinds': 52192,\n",
              " 'prostrate': 52193,\n",
              " 'majid': 40909,\n",
              " 'climbed': 16479,\n",
              " 'canoeing': 34731,\n",
              " 'majin': 52195,\n",
              " 'animie': 57804,\n",
              " 'sylke': 40910,\n",
              " 'conditioned': 14899,\n",
              " 'waddell': 40911,\n",
              " '3\\x85': 52196,\n",
              " 'hyperdrive': 41188,\n",
              " 'conditioner': 34732,\n",
              " 'bricklayer': 53153,\n",
              " 'hong': 2576,\n",
              " 'memoriam': 52198,\n",
              " 'inventively': 30592,\n",
              " \"levant's\": 25249,\n",
              " 'portobello': 20638,\n",
              " 'remand': 52200,\n",
              " 'mummified': 19504,\n",
              " 'honk': 27650,\n",
              " 'spews': 19505,\n",
              " 'visitations': 40912,\n",
              " 'mummifies': 52201,\n",
              " 'cavanaugh': 25250,\n",
              " 'zeon': 23385,\n",
              " \"jungle's\": 40913,\n",
              " 'viertel': 34733,\n",
              " 'frenchmen': 27651,\n",
              " 'torpedoes': 52202,\n",
              " 'schlessinger': 52203,\n",
              " 'torpedoed': 34734,\n",
              " 'blister': 69876,\n",
              " 'cinefest': 52204,\n",
              " 'furlough': 34735,\n",
              " 'mainsequence': 52205,\n",
              " 'mentors': 40914,\n",
              " 'academic': 9094,\n",
              " 'stillness': 20602,\n",
              " 'academia': 40915,\n",
              " 'lonelier': 52206,\n",
              " 'nibby': 52207,\n",
              " \"losers'\": 52208,\n",
              " 'cineastes': 40916,\n",
              " 'corporate': 4449,\n",
              " 'massaging': 40917,\n",
              " 'bellow': 30593,\n",
              " 'absurdities': 19506,\n",
              " 'expetations': 53241,\n",
              " 'nyfiken': 40918,\n",
              " 'mehras': 75638,\n",
              " 'lasse': 52209,\n",
              " 'visability': 52210,\n",
              " 'militarily': 33946,\n",
              " \"elder'\": 52211,\n",
              " 'gainsbourg': 19023,\n",
              " 'hah': 20603,\n",
              " 'hai': 13420,\n",
              " 'haj': 34736,\n",
              " 'hak': 25251,\n",
              " 'hal': 4311,\n",
              " 'ham': 4892,\n",
              " 'duffer': 53259,\n",
              " 'haa': 52213,\n",
              " 'had': 66,\n",
              " 'advancement': 11930,\n",
              " 'hag': 16825,\n",
              " \"hand'\": 25252,\n",
              " 'hay': 13421,\n",
              " 'mcnamara': 20604,\n",
              " \"mozart's\": 52214,\n",
              " 'duffel': 30731,\n",
              " 'haq': 30594,\n",
              " 'har': 13887,\n",
              " 'has': 44,\n",
              " 'hat': 2401,\n",
              " 'hav': 40919,\n",
              " 'haw': 30595,\n",
              " 'figtings': 52215,\n",
              " 'elders': 15495,\n",
              " 'underpanted': 52216,\n",
              " 'pninson': 52217,\n",
              " 'unequivocally': 27652,\n",
              " \"barbara's\": 23673,\n",
              " \"bello'\": 52219,\n",
              " 'indicative': 12997,\n",
              " 'yawnfest': 40920,\n",
              " 'hexploitation': 52220,\n",
              " \"loder's\": 52221,\n",
              " 'sleuthing': 27653,\n",
              " \"justin's\": 32622,\n",
              " \"'ball\": 52222,\n",
              " \"'summer\": 52223,\n",
              " \"'demons'\": 34935,\n",
              " \"mormon's\": 52225,\n",
              " \"laughton's\": 34737,\n",
              " 'debell': 52226,\n",
              " 'shipyard': 39724,\n",
              " 'unabashedly': 30597,\n",
              " 'disks': 40401,\n",
              " 'crowd': 2290,\n",
              " 'crowe': 10087,\n",
              " \"vancouver's\": 56434,\n",
              " 'mosques': 34738,\n",
              " 'crown': 6627,\n",
              " 'culpas': 52227,\n",
              " 'crows': 27654,\n",
              " 'surrell': 53344,\n",
              " 'flowless': 52229,\n",
              " 'sheirk': 52230,\n",
              " \"'three\": 40923,\n",
              " \"peterson'\": 52231,\n",
              " 'ooverall': 52232,\n",
              " 'perchance': 40924,\n",
              " 'bottom': 1321,\n",
              " 'chabert': 53363,\n",
              " 'sneha': 52233,\n",
              " 'inhuman': 13888,\n",
              " 'ichii': 52234,\n",
              " 'ursla': 52235,\n",
              " 'completly': 30598,\n",
              " 'moviedom': 40925,\n",
              " 'raddick': 52236,\n",
              " 'brundage': 51995,\n",
              " 'brigades': 40926,\n",
              " 'starring': 1181,\n",
              " \"'goal'\": 52237,\n",
              " 'caskets': 52238,\n",
              " 'willcock': 52239,\n",
              " \"threesome's\": 52240,\n",
              " \"mosque'\": 52241,\n",
              " \"cover's\": 52242,\n",
              " 'spaceships': 17637,\n",
              " 'anomalous': 40927,\n",
              " 'ptsd': 27655,\n",
              " 'shirdan': 52243,\n",
              " 'obscenity': 21962,\n",
              " 'lemmings': 30599,\n",
              " 'duccio': 30600,\n",
              " \"levene's\": 52244,\n",
              " \"'gorby'\": 52245,\n",
              " \"teenager's\": 25255,\n",
              " 'marshall': 5340,\n",
              " 'honeymoon': 9095,\n",
              " 'shoots': 3231,\n",
              " 'despised': 12258,\n",
              " 'okabasho': 52246,\n",
              " 'fabric': 8289,\n",
              " 'cannavale': 18515,\n",
              " 'raped': 3537,\n",
              " \"tutt's\": 52247,\n",
              " 'grasping': 17638,\n",
              " 'despises': 18516,\n",
              " \"thief's\": 40928,\n",
              " 'rapes': 8926,\n",
              " 'raper': 52248,\n",
              " \"eyre'\": 27656,\n",
              " 'walchek': 52249,\n",
              " \"elmo's\": 23386,\n",
              " 'perfumes': 40929,\n",
              " 'spurting': 21918,\n",
              " \"exposition'\\x85\": 52250,\n",
              " 'denoting': 52251,\n",
              " 'thesaurus': 34740,\n",
              " \"shoot'\": 40930,\n",
              " 'bonejack': 49759,\n",
              " 'simpsonian': 52253,\n",
              " 'hebetude': 30601,\n",
              " \"hallow's\": 34741,\n",
              " 'desperation\\x85': 52254,\n",
              " 'incinerator': 34742,\n",
              " 'congratulations': 10308,\n",
              " 'humbled': 52255,\n",
              " \"else's\": 5924,\n",
              " 'trelkovski': 40845,\n",
              " \"rape'\": 52256,\n",
              " \"'chapters'\": 59386,\n",
              " '1600s': 52257,\n",
              " 'martian': 7253,\n",
              " 'nicest': 25256,\n",
              " 'eyred': 52259,\n",
              " 'passenger': 9457,\n",
              " 'disgrace': 6041,\n",
              " 'moderne': 52260,\n",
              " 'barrymore': 5120,\n",
              " 'yankovich': 52261,\n",
              " 'moderns': 40931,\n",
              " 'studliest': 52262,\n",
              " 'bedsheet': 52263,\n",
              " 'decapitation': 14900,\n",
              " 'slurring': 52264,\n",
              " \"'nunsploitation'\": 52265,\n",
              " \"'character'\": 34743,\n",
              " 'cambodia': 9880,\n",
              " 'rebelious': 52266,\n",
              " 'pasadena': 27657,\n",
              " 'crowne': 40932,\n",
              " \"'bedchamber\": 52267,\n",
              " 'conjectural': 52268,\n",
              " 'appologize': 52269,\n",
              " 'halfassing': 52270,\n",
              " 'paycheque': 57816,\n",
              " 'palms': 20606,\n",
              " \"'islands\": 52271,\n",
              " 'hawked': 40933,\n",
              " 'palme': 21919,\n",
              " 'conservatively': 40934,\n",
              " 'larp': 64007,\n",
              " 'palma': 5558,\n",
              " 'smelling': 21920,\n",
              " 'aragorn': 12998,\n",
              " 'hawker': 52272,\n",
              " 'hawkes': 52273,\n",
              " 'explosions': 3975,\n",
              " 'loren': 8059,\n",
              " \"pyle's\": 52274,\n",
              " 'shootout': 6704,\n",
              " \"mike's\": 18517,\n",
              " \"driscoll's\": 52275,\n",
              " 'cogsworth': 40935,\n",
              " \"britian's\": 52276,\n",
              " 'childs': 34744,\n",
              " \"portrait's\": 52277,\n",
              " 'chain': 3626,\n",
              " 'whoever': 2497,\n",
              " 'puttered': 52278,\n",
              " 'childe': 52279,\n",
              " 'maywether': 52280,\n",
              " 'chair': 3036,\n",
              " \"rance's\": 52281,\n",
              " 'machu': 34745,\n",
              " 'ballet': 4517,\n",
              " 'grapples': 34746,\n",
              " 'summerize': 76152,\n",
              " 'freelance': 30603,\n",
              " \"andrea's\": 52283,\n",
              " '\\x91very': 52284,\n",
              " 'coolidge': 45879,\n",
              " 'mache': 18518,\n",
              " 'balled': 52285,\n",
              " 'grappled': 40937,\n",
              " 'macha': 18519,\n",
              " 'underlining': 21921,\n",
              " 'macho': 5623,\n",
              " 'oversight': 19507,\n",
              " 'machi': 25257,\n",
              " 'verbally': 11311,\n",
              " 'tenacious': 21922,\n",
              " 'windshields': 40938,\n",
              " 'paychecks': 18557,\n",
              " 'jerk': 3396,\n",
              " \"good'\": 11931,\n",
              " 'prancer': 34748,\n",
              " 'prances': 21923,\n",
              " 'olympus': 52286,\n",
              " 'lark': 21924,\n",
              " 'embark': 10785,\n",
              " 'gloomy': 7365,\n",
              " 'jehaan': 52287,\n",
              " 'turaqui': 52288,\n",
              " \"child'\": 20607,\n",
              " 'locked': 2894,\n",
              " 'pranced': 52289,\n",
              " 'exact': 2588,\n",
              " 'unattuned': 52290,\n",
              " 'minute': 783,\n",
              " 'skewed': 16118,\n",
              " 'hodgins': 40940,\n",
              " 'skewer': 34749,\n",
              " 'think\\x85': 52291,\n",
              " 'rosenstein': 38765,\n",
              " 'helmit': 52292,\n",
              " 'wrestlemanias': 34750,\n",
              " 'hindered': 16826,\n",
              " \"martha's\": 30604,\n",
              " 'cheree': 52293,\n",
              " \"pluckin'\": 52294,\n",
              " 'ogles': 40941,\n",
              " 'heavyweight': 11932,\n",
              " 'aada': 82190,\n",
              " 'chopping': 11312,\n",
              " 'strongboy': 61534,\n",
              " 'hegemonic': 41342,\n",
              " 'adorns': 40942,\n",
              " 'xxth': 41346,\n",
              " 'nobuhiro': 34751,\n",
              " 'capitães': 52298,\n",
              " 'kavogianni': 52299,\n",
              " 'antwerp': 13422,\n",
              " 'celebrated': 6538,\n",
              " 'roarke': 52300,\n",
              " 'baggins': 40943,\n",
              " 'cheeseburgers': 31270,\n",
              " 'matras': 52301,\n",
              " \"nineties'\": 52302,\n",
              " \"'craig'\": 52303,\n",
              " 'celebrates': 12999,\n",
              " 'unintentionally': 3383,\n",
              " 'drafted': 14362,\n",
              " 'climby': 52304,\n",
              " '303': 52305,\n",
              " 'oldies': 18520,\n",
              " 'climbs': 9096,\n",
              " 'honour': 9655,\n",
              " 'plucking': 34752,\n",
              " '305': 30074,\n",
              " 'address': 5514,\n",
              " 'menjou': 40944,\n",
              " \"'freak'\": 42592,\n",
              " 'dwindling': 19508,\n",
              " 'benson': 9458,\n",
              " 'white’s': 52307,\n",
              " 'shamelessness': 40945,\n",
              " 'impacted': 21925,\n",
              " 'upatz': 52308,\n",
              " 'cusack': 3840,\n",
              " \"flavia's\": 37567,\n",
              " 'effette': 52309,\n",
              " 'influx': 34753,\n",
              " 'boooooooo': 52310,\n",
              " 'dimitrova': 52311,\n",
              " 'houseman': 13423,\n",
              " 'bigas': 25259,\n",
              " 'boylen': 52312,\n",
              " 'phillipenes': 52313,\n",
              " 'fakery': 40946,\n",
              " \"grandpa's\": 27658,\n",
              " 'darnell': 27659,\n",
              " 'undergone': 19509,\n",
              " 'handbags': 52315,\n",
              " 'perished': 21926,\n",
              " 'pooped': 37778,\n",
              " 'vigour': 27660,\n",
              " 'opposed': 3627,\n",
              " 'etude': 52316,\n",
              " \"caine's\": 11799,\n",
              " 'doozers': 52317,\n",
              " 'photojournals': 34754,\n",
              " 'perishes': 52318,\n",
              " 'constrains': 34755,\n",
              " 'migenes': 40948,\n",
              " 'consoled': 30605,\n",
              " 'alastair': 16827,\n",
              " 'wvs': 52319,\n",
              " 'ooooooh': 52320,\n",
              " 'approving': 34756,\n",
              " 'consoles': 40949,\n",
              " 'disparagement': 52064,\n",
              " 'futureistic': 52322,\n",
              " 'rebounding': 52323,\n",
              " \"'date\": 52324,\n",
              " 'gregoire': 52325,\n",
              " 'rutherford': 21927,\n",
              " 'americanised': 34757,\n",
              " 'novikov': 82196,\n",
              " 'following': 1042,\n",
              " 'munroe': 34758,\n",
              " \"morita'\": 52326,\n",
              " 'christenssen': 52327,\n",
              " 'oatmeal': 23106,\n",
              " 'fossey': 25260,\n",
              " 'livered': 40950,\n",
              " 'listens': 13000,\n",
              " \"'marci\": 76164,\n",
              " \"otis's\": 52330,\n",
              " 'thanking': 23387,\n",
              " 'maude': 16019,\n",
              " 'extensions': 34759,\n",
              " 'ameteurish': 52332,\n",
              " \"commender's\": 52333,\n",
              " 'agricultural': 27661,\n",
              " 'convincingly': 4518,\n",
              " 'fueled': 17639,\n",
              " 'mahattan': 54014,\n",
              " \"paris's\": 40952,\n",
              " 'vulkan': 52336,\n",
              " 'stapes': 52337,\n",
              " 'odysessy': 52338,\n",
              " 'harmon': 12259,\n",
              " 'surfing': 4252,\n",
              " 'halloran': 23494,\n",
              " 'unbelieveably': 49580,\n",
              " \"'offed'\": 52339,\n",
              " 'quadrant': 30607,\n",
              " 'inhabiting': 19510,\n",
              " 'nebbish': 34760,\n",
              " 'forebears': 40953,\n",
              " 'skirmish': 34761,\n",
              " 'ocassionally': 52340,\n",
              " \"'resist\": 52341,\n",
              " 'impactful': 21928,\n",
              " 'spicier': 52342,\n",
              " 'touristy': 40954,\n",
              " \"'football'\": 52343,\n",
              " 'webpage': 40955,\n",
              " 'exurbia': 52345,\n",
              " 'jucier': 52346,\n",
              " 'professors': 14901,\n",
              " 'structuring': 34762,\n",
              " 'jig': 30608,\n",
              " 'overlord': 40956,\n",
              " 'disconnect': 25261,\n",
              " 'sniffle': 82201,\n",
              " 'slimeball': 40957,\n",
              " 'jia': 40958,\n",
              " 'milked': 16828,\n",
              " 'banjoes': 40959,\n",
              " 'jim': 1237,\n",
              " 'workforces': 52348,\n",
              " 'jip': 52349,\n",
              " 'rotweiller': 52350,\n",
              " 'mundaneness': 34763,\n",
              " \"'ninja'\": 52351,\n",
              " \"dead'\": 11040,\n",
              " \"cipriani's\": 40960,\n",
              " 'modestly': 20608,\n",
              " \"professor'\": 52352,\n",
              " 'shacked': 40961,\n",
              " 'bashful': 34764,\n",
              " 'sorter': 23388,\n",
              " 'overpowering': 16120,\n",
              " 'workmanlike': 18521,\n",
              " 'henpecked': 27662,\n",
              " 'sorted': 18522,\n",
              " \"jōb's\": 52354,\n",
              " \"'always\": 52355,\n",
              " \"'baptists\": 34765,\n",
              " 'dreamcatchers': 52356,\n",
              " \"'silence'\": 52357,\n",
              " 'hickory': 21929,\n",
              " 'fun\\x97yet': 52358,\n",
              " 'breakumentary': 52359,\n",
              " 'didn': 15496,\n",
              " 'didi': 52360,\n",
              " 'pealing': 52361,\n",
              " 'dispite': 40962,\n",
              " \"italy's\": 25262,\n",
              " 'instability': 21930,\n",
              " 'quarter': 6539,\n",
              " 'quartet': 12608,\n",
              " 'padmé': 52362,\n",
              " \"'bleedmedry\": 52363,\n",
              " 'pahalniuk': 52364,\n",
              " 'honduras': 52365,\n",
              " 'bursting': 10786,\n",
              " \"pablo's\": 41465,\n",
              " 'irremediably': 52367,\n",
              " 'presages': 40963,\n",
              " 'bowlegged': 57832,\n",
              " 'dalip': 65183,\n",
              " 'entering': 6260,\n",
              " 'newsradio': 76172,\n",
              " 'presaged': 54150,\n",
              " \"giallo's\": 27663,\n",
              " 'bouyant': 40964,\n",
              " 'amerterish': 52368,\n",
              " 'rajni': 18523,\n",
              " 'leeves': 30610,\n",
              " 'macauley': 34767,\n",
              " 'seriously': 612,\n",
              " 'sugercoma': 52369,\n",
              " 'grimstead': 52370,\n",
              " \"'fairy'\": 52371,\n",
              " 'zenda': 30611,\n",
              " \"'twins'\": 52372,\n",
              " 'realisation': 17640,\n",
              " 'highsmith': 27664,\n",
              " 'raunchy': 7817,\n",
              " 'incentives': 40965,\n",
              " 'flatson': 52374,\n",
              " 'snooker': 35097,\n",
              " 'crazies': 16829,\n",
              " 'crazier': 14902,\n",
              " 'grandma': 7094,\n",
              " 'napunsaktha': 52375,\n",
              " 'workmanship': 30612,\n",
              " 'reisner': 52376,\n",
              " \"sanford's\": 61306,\n",
              " '\\x91doña': 52377,\n",
              " 'modest': 6108,\n",
              " \"everything's\": 19153,\n",
              " 'hamer': 40966,\n",
              " \"couldn't'\": 52379,\n",
              " 'quibble': 13001,\n",
              " 'socking': 52380,\n",
              " 'tingler': 21931,\n",
              " 'gutman': 52381,\n",
              " 'lachlan': 40967,\n",
              " 'tableaus': 52382,\n",
              " 'headbanger': 52383,\n",
              " 'spoken': 2847,\n",
              " 'cerebrally': 34768,\n",
              " \"'road\": 23490,\n",
              " 'tableaux': 21932,\n",
              " \"proust's\": 40968,\n",
              " 'periodical': 40969,\n",
              " \"shoveller's\": 52385,\n",
              " 'tamara': 25263,\n",
              " 'affords': 17641,\n",
              " 'concert': 3249,\n",
              " \"yara's\": 87955,\n",
              " 'someome': 52386,\n",
              " 'lingering': 8424,\n",
              " \"abraham's\": 41511,\n",
              " 'beesley': 34769,\n",
              " 'cherbourg': 34770,\n",
              " 'kagan': 28624,\n",
              " 'snatch': 9097,\n",
              " \"miyazaki's\": 9260,\n",
              " 'absorbs': 25264,\n",
              " \"koltai's\": 40970,\n",
              " 'tingled': 64027,\n",
              " 'crossroads': 19511,\n",
              " 'rehab': 16121,\n",
              " 'falworth': 52389,\n",
              " 'sequals': 52390,\n",
              " ...}"
            ]
          },
          "metadata": {
            "tags": []
          },
          "execution_count": 14
        }
      ]
    },
    {
      "cell_type": "markdown",
      "metadata": {
        "id": "xouFVPW7GBE_"
      },
      "source": [
        "Ici on vient ajouter des items à notre dictionnaire afin de gérer la reconversion en phrases"
      ]
    },
    {
      "cell_type": "code",
      "metadata": {
        "id": "lJJIc41a3YlS"
      },
      "source": [
        "word_index = {k:(v+3) for k,v in word_index.items()} \n",
        "word_index[\"<PAD>\"] = 0\n",
        "word_index[\"<START>\"] = 1\n",
        "word_index[\"<UNK>\"] = 2\n",
        "word_index[\"<UNUSED>\"] = 3"
      ],
      "execution_count": null,
      "outputs": []
    },
    {
      "cell_type": "markdown",
      "metadata": {
        "id": "4QKrCdNPHL8H"
      },
      "source": [
        "**Créer un dictionaire qui est l'inverse de celui là afin de reconvertir les nombres en phrases**"
      ]
    },
    {
      "cell_type": "code",
      "metadata": {
        "id": "A9sJwY4I5RWU"
      },
      "source": [
        "reverse_word_index = dict([(value, key) for (key, value) in word_index.items()])"
      ],
      "execution_count": null,
      "outputs": []
    },
    {
      "cell_type": "markdown",
      "metadata": {
        "id": "4CIqCjwNHnVP"
      },
      "source": [
        "**Créer une fonction qui permet de décoder une phrase**"
      ]
    },
    {
      "cell_type": "code",
      "metadata": {
        "id": "_0WQT9-m5RZE"
      },
      "source": [
        "def decode_review(text):\n",
        "    return ' '.join([reverse_word_index.get(i, '?') for i in text])"
      ],
      "execution_count": null,
      "outputs": []
    },
    {
      "cell_type": "markdown",
      "metadata": {
        "id": "sKg79eatI-Eh"
      },
      "source": [
        "**Décoder la première phrase**"
      ]
    },
    {
      "cell_type": "code",
      "metadata": {
        "id": "d42ma4xO5RcH",
        "outputId": "ea2e4e0c-3654-4e21-a19f-aa04e226fad1",
        "colab": {
          "base_uri": "https://localhost:8080/",
          "height": 54
        }
      },
      "source": [
        "decode_review(x_train[0])"
      ],
      "execution_count": null,
      "outputs": [
        {
          "output_type": "execute_result",
          "data": {
            "text/plain": [
              "\"<START> this film was just brilliant casting location scenery story direction everyone's really suited the part they played and you could just imagine being there robert <UNK> is an amazing actor and now the same being director <UNK> father came from the same scottish island as myself so i loved the fact there was a real connection with this film the witty remarks throughout the film were great it was just brilliant so much that i bought the film as soon as it was released for <UNK> and would recommend it to everyone to watch and the fly fishing was amazing really cried at the end it was so sad and you know what they say if you cry at a film it must have been good and this definitely was also <UNK> to the two little boy's that played the <UNK> of norman and paul they were just brilliant children are often left out of the <UNK> list i think because the stars that play them all grown up are such a big profile for the whole film but these children are amazing and should be praised for what they have done don't you think the whole story was so lovely because it was true and was someone's life after all that was shared with us all\""
            ]
          },
          "metadata": {
            "tags": []
          },
          "execution_count": 18
        }
      ]
    },
    {
      "cell_type": "markdown",
      "metadata": {
        "id": "vKSHjXN-7UiF"
      },
      "source": [
        "## **3 - Préparation des données**"
      ]
    },
    {
      "cell_type": "markdown",
      "metadata": {
        "id": "ZpGBaurWJuUX"
      },
      "source": [
        "Les phrases doivent toutes être de la même longueur en entrée du réseau de neurones.\n",
        "\n",
        "Pour cela nous utilisons la fonction pad_sequences provenant du sous modules preprocessing.sequence de keras"
      ]
    },
    {
      "cell_type": "markdown",
      "metadata": {
        "id": "gyClWA6QMXl2"
      },
      "source": [
        "**Importer la fonction pad_sequences**"
      ]
    },
    {
      "cell_type": "code",
      "metadata": {
        "id": "FuV9e9hZ7bA7"
      },
      "source": [
        "from tensorflow.keras.preprocessing.sequence import pad_sequences"
      ],
      "execution_count": null,
      "outputs": []
    },
    {
      "cell_type": "markdown",
      "metadata": {
        "id": "ZPLG-bbyMce7"
      },
      "source": [
        "**Utiliser la fonction afin de transformer le jeu d'entrainement et le jeu de test**\n",
        "\n",
        "On veut avoir une taille max des arrays de 256 et rajouter des 0 à la fin si la phrase est plus courte"
      ]
    },
    {
      "cell_type": "code",
      "metadata": {
        "id": "CwRtspVj7bD7"
      },
      "source": [
        "X_train = pad_sequences(x_train,\n",
        "                        value=word_index[\"<PAD>\"],\n",
        "                        padding='pre',\n",
        "                        maxlen=256)\n",
        "\n",
        "X_test = pad_sequences(x_test,\n",
        "                       value=word_index[\"<PAD>\"],\n",
        "                       padding='pre',\n",
        "                       maxlen=256)"
      ],
      "execution_count": null,
      "outputs": []
    },
    {
      "cell_type": "markdown",
      "metadata": {
        "id": "hwEsrTq6Nkzy"
      },
      "source": [
        "**Afficher la taille du jeu d'entrainement **"
      ]
    },
    {
      "cell_type": "code",
      "metadata": {
        "id": "JVnx0pnS7bHl",
        "outputId": "d586c478-38a3-4c3b-8e20-3e5d0a694c0f",
        "colab": {
          "base_uri": "https://localhost:8080/",
          "height": 34
        }
      },
      "source": [
        "X_train.shape"
      ],
      "execution_count": null,
      "outputs": [
        {
          "output_type": "execute_result",
          "data": {
            "text/plain": [
              "(25000, 256)"
            ]
          },
          "metadata": {
            "tags": []
          },
          "execution_count": 21
        }
      ]
    },
    {
      "cell_type": "markdown",
      "metadata": {
        "id": "E-mvakkDN12g"
      },
      "source": [
        "**Que remarque-t-on ?**\n",
        "\n",
        "---\n",
        "\n"
      ]
    },
    {
      "cell_type": "markdown",
      "metadata": {
        "id": "YOR3a56usujT"
      },
      "source": [
        "*On a cette fois ci la deuxième dimension de la taille de notre array qui s'affiche ce qui veut dire qu'on a une taille fixe pour cette dimension.*"
      ]
    },
    {
      "cell_type": "markdown",
      "metadata": {
        "id": "gvSYuPYmOCxC"
      },
      "source": [
        "**Afficher maintenant la première phrase**"
      ]
    },
    {
      "cell_type": "code",
      "metadata": {
        "id": "6_8M38iM_4J9",
        "outputId": "571d61d5-5e7c-48b9-a09b-616e5c1c4432",
        "colab": {
          "base_uri": "https://localhost:8080/",
          "height": 425
        }
      },
      "source": [
        "X_train[0]"
      ],
      "execution_count": null,
      "outputs": [
        {
          "output_type": "execute_result",
          "data": {
            "text/plain": [
              "array([   0,    0,    0,    0,    0,    0,    0,    0,    0,    0,    0,\n",
              "          0,    0,    0,    0,    0,    0,    0,    0,    0,    0,    0,\n",
              "          0,    0,    0,    0,    0,    0,    0,    0,    0,    0,    0,\n",
              "          0,    0,    0,    0,    0,    1,   14,   22,   16,   43,  530,\n",
              "        973, 1622, 1385,   65,  458, 4468,   66, 3941,    4,  173,   36,\n",
              "        256,    5,   25,  100,   43,  838,  112,   50,  670,    2,    9,\n",
              "         35,  480,  284,    5,  150,    4,  172,  112,  167,    2,  336,\n",
              "        385,   39,    4,  172, 4536, 1111,   17,  546,   38,   13,  447,\n",
              "          4,  192,   50,   16,    6,  147, 2025,   19,   14,   22,    4,\n",
              "       1920, 4613,  469,    4,   22,   71,   87,   12,   16,   43,  530,\n",
              "         38,   76,   15,   13, 1247,    4,   22,   17,  515,   17,   12,\n",
              "         16,  626,   18,    2,    5,   62,  386,   12,    8,  316,    8,\n",
              "        106,    5,    4, 2223, 5244,   16,  480,   66, 3785,   33,    4,\n",
              "        130,   12,   16,   38,  619,    5,   25,  124,   51,   36,  135,\n",
              "         48,   25, 1415,   33,    6,   22,   12,  215,   28,   77,   52,\n",
              "          5,   14,  407,   16,   82,    2,    8,    4,  107,  117, 5952,\n",
              "         15,  256,    4,    2,    7, 3766,    5,  723,   36,   71,   43,\n",
              "        530,  476,   26,  400,  317,   46,    7,    4,    2, 1029,   13,\n",
              "        104,   88,    4,  381,   15,  297,   98,   32, 2071,   56,   26,\n",
              "        141,    6,  194, 7486,   18,    4,  226,   22,   21,  134,  476,\n",
              "         26,  480,    5,  144,   30, 5535,   18,   51,   36,   28,  224,\n",
              "         92,   25,  104,    4,  226,   65,   16,   38, 1334,   88,   12,\n",
              "         16,  283,    5,   16, 4472,  113,  103,   32,   15,   16, 5345,\n",
              "         19,  178,   32], dtype=int32)"
            ]
          },
          "metadata": {
            "tags": []
          },
          "execution_count": 22
        }
      ]
    },
    {
      "cell_type": "markdown",
      "metadata": {
        "id": "MsLTOmLPOH7Q"
      },
      "source": [
        "**Que remarque-t-on ?**\n",
        "\n",
        "---\n",
        "\n"
      ]
    },
    {
      "cell_type": "markdown",
      "metadata": {
        "id": "ThONxfdDtVPa"
      },
      "source": [
        "*Les zeros à la fin de notre array afin de compléter la taille de la phrase.*"
      ]
    },
    {
      "cell_type": "markdown",
      "metadata": {
        "id": "J6LWjGbeALUA"
      },
      "source": [
        "## **4. Définition du modèle**"
      ]
    },
    {
      "cell_type": "markdown",
      "metadata": {
        "id": "T6-GIygoO2JB"
      },
      "source": [
        "**Importer les classes et fonctions nécessaire à la construction d'un modèle**"
      ]
    },
    {
      "cell_type": "code",
      "metadata": {
        "id": "ReKE_TjXBAu8"
      },
      "source": [
        "from tensorflow.keras.models import Sequential\n",
        "from tensorflow.keras.layers import Embedding, LSTM, Dense\n",
        "from tensorflow.keras.optimizers import Adam"
      ],
      "execution_count": null,
      "outputs": []
    },
    {
      "cell_type": "markdown",
      "metadata": {
        "id": "azFr-7TcPzAG"
      },
      "source": [
        "**Faire une fonction permetant de créer un modèle**\n",
        "\n",
        "Nous sommes ici dans un cas de classification binaire il faut donc choisir la fonction de coût et la fonction d'activation de la dernière couche qui correspond au problème."
      ]
    },
    {
      "cell_type": "code",
      "metadata": {
        "id": "KiaI_RPnBDQj"
      },
      "source": [
        "def create_model():\n",
        "  \n",
        "  num_words = 10000\n",
        "  \n",
        "  model = Sequential()\n",
        "  model.add(Embedding(num_words, 32, input_length=256))\n",
        "  model.add(LSTM(128))\n",
        "  model.add(Dense(1, activation='sigmoid'))\n",
        "  \n",
        "  opt = Adam(lr=0.001)\n",
        "  \n",
        "  model.compile(loss='binary_crossentropy',\n",
        "                optimizer=opt,\n",
        "                metrics=['accuracy'])\n",
        "  \n",
        "  return model"
      ],
      "execution_count": null,
      "outputs": []
    },
    {
      "cell_type": "markdown",
      "metadata": {
        "id": "QgfsiH1yQb5B"
      },
      "source": [
        "**Afficher un résumé de votre modèle**"
      ]
    },
    {
      "cell_type": "code",
      "metadata": {
        "id": "3mtZSMT4_6bM",
        "outputId": "fef76db0-fabf-4ac0-a722-184a9ea845fe",
        "colab": {
          "base_uri": "https://localhost:8080/",
          "height": 238
        }
      },
      "source": [
        "model = create_model()\n",
        "model.summary()"
      ],
      "execution_count": null,
      "outputs": [
        {
          "output_type": "stream",
          "text": [
            "_________________________________________________________________\n",
            "Layer (type)                 Output Shape              Param #   \n",
            "=================================================================\n",
            "embedding_1 (Embedding)      (None, 256, 32)           320000    \n",
            "_________________________________________________________________\n",
            "lstm_1 (LSTM)                (None, 128)               82432     \n",
            "_________________________________________________________________\n",
            "dense_1 (Dense)              (None, 1)                 129       \n",
            "=================================================================\n",
            "Total params: 402,561\n",
            "Trainable params: 402,561\n",
            "Non-trainable params: 0\n",
            "_________________________________________________________________\n"
          ],
          "name": "stdout"
        }
      ]
    },
    {
      "cell_type": "markdown",
      "metadata": {
        "id": "q1znN_MsQxz7"
      },
      "source": [
        "**Entrainer le modèle**\n",
        "\n",
        "On va conserver l'historique de l'entrainement du modèle afin d'evaluer sa progression par la suite.\n",
        "\n",
        "On utilisera un jeu de validation correspondant à la moitié du jeu d'entrainement."
      ]
    },
    {
      "cell_type": "code",
      "metadata": {
        "id": "ScyUL7laDsup",
        "outputId": "ef81ae00-a086-49bf-c602-df578eae78df",
        "colab": {
          "base_uri": "https://localhost:8080/",
          "height": 374
        }
      },
      "source": [
        "history = model.fit(X_train, y_train,\n",
        "                    batch_size=256,\n",
        "                    epochs=10,\n",
        "                    validation_split=0.5,\n",
        "                    shuffle=True)"
      ],
      "execution_count": null,
      "outputs": [
        {
          "output_type": "stream",
          "text": [
            "Train on 12500 samples, validate on 12500 samples\n",
            "Epoch 1/10\n",
            "12500/12500 [==============================] - 38s 3ms/step - loss: 0.6818 - acc: 0.5502 - val_loss: 0.6650 - val_acc: 0.5842\n",
            "Epoch 2/10\n",
            "12500/12500 [==============================] - 37s 3ms/step - loss: 0.6333 - acc: 0.6946 - val_loss: 0.6132 - val_acc: 0.6776\n",
            "Epoch 3/10\n",
            "12500/12500 [==============================] - 37s 3ms/step - loss: 0.5277 - acc: 0.7678 - val_loss: 0.4500 - val_acc: 0.7949\n",
            "Epoch 4/10\n",
            "12500/12500 [==============================] - 37s 3ms/step - loss: 0.3210 - acc: 0.8647 - val_loss: 0.3713 - val_acc: 0.8429\n",
            "Epoch 5/10\n",
            "12500/12500 [==============================] - 36s 3ms/step - loss: 0.2274 - acc: 0.9139 - val_loss: 0.3508 - val_acc: 0.8546\n",
            "Epoch 6/10\n",
            "12500/12500 [==============================] - 37s 3ms/step - loss: 0.1713 - acc: 0.9412 - val_loss: 0.3589 - val_acc: 0.8583\n",
            "Epoch 7/10\n",
            "12500/12500 [==============================] - 36s 3ms/step - loss: 0.1267 - acc: 0.9579 - val_loss: 0.3918 - val_acc: 0.8634\n",
            "Epoch 8/10\n",
            "12500/12500 [==============================] - 37s 3ms/step - loss: 0.0986 - acc: 0.9701 - val_loss: 0.3978 - val_acc: 0.8589\n",
            "Epoch 9/10\n",
            "12500/12500 [==============================] - 37s 3ms/step - loss: 0.0825 - acc: 0.9768 - val_loss: 0.4582 - val_acc: 0.8598\n",
            "Epoch 10/10\n",
            "12500/12500 [==============================] - 37s 3ms/step - loss: 0.0607 - acc: 0.9855 - val_loss: 0.4906 - val_acc: 0.8596\n"
          ],
          "name": "stdout"
        }
      ]
    },
    {
      "cell_type": "markdown",
      "metadata": {
        "id": "TRrElNhaG1vT"
      },
      "source": [
        "**Evaluer le modèle sur le jeu de test**\n",
        "\n",
        "Afficher la loss et l'accuracy du modèle"
      ]
    },
    {
      "cell_type": "code",
      "metadata": {
        "id": "SdR2hnHUGy7B",
        "outputId": "6d76ae90-ccc5-4152-f9e4-80936fcd306e",
        "colab": {
          "base_uri": "https://localhost:8080/",
          "height": 68
        }
      },
      "source": [
        "scores = model.evaluate(X_test, y_test, batch_size=512, verbose=1, )\n",
        "print('Test loss:', scores[0])\n",
        "print('Test accuracy:', scores[1])"
      ],
      "execution_count": null,
      "outputs": [
        {
          "output_type": "stream",
          "text": [
            "25000/25000 [==============================] - 7s 284us/step\n",
            "Test loss: 0.51286800989151\n",
            "Test accuracy: 0.8471999995231628\n"
          ],
          "name": "stdout"
        }
      ]
    },
    {
      "cell_type": "markdown",
      "metadata": {
        "id": "V7t3wB2KRxcx"
      },
      "source": [
        "**Quelle accuracy obtenez-vous ?**\n",
        "\n",
        "---\n",
        "\n"
      ]
    },
    {
      "cell_type": "markdown",
      "metadata": {
        "id": "oOJTY58QvNCu"
      },
      "source": [
        "*85% d'accuracy*"
      ]
    },
    {
      "cell_type": "markdown",
      "metadata": {
        "id": "_Lyote3uHP5H"
      },
      "source": [
        "**Afficher les courbes de loss**"
      ]
    },
    {
      "cell_type": "code",
      "metadata": {
        "id": "5mONGLu8G_nK",
        "outputId": "2dfe1610-2564-467b-9e5b-8c48e00e70cf",
        "colab": {
          "base_uri": "https://localhost:8080/",
          "height": 361
        }
      },
      "source": [
        "plt.plot(history.history['loss'], label='loss')\n",
        "plt.plot(history.history['val_loss'], label='val_loss')\n",
        "plt.xlabel('epoch')\n",
        "plt.ylabel('loss')\n",
        "plt.legend();"
      ],
      "execution_count": null,
      "outputs": [
        {
          "output_type": "display_data",
          "data": {
            "image/png": "[encoded data removed]",
            "text/plain": [
              "<matplotlib.figure.Figure at 0x7fbe2728eeb8>"
            ]
          },
          "metadata": {
            "tags": []
          }
        }
      ]
    },
    {
      "cell_type": "markdown",
      "metadata": {
        "id": "el8AkguIHKZm"
      },
      "source": [
        "## **5 - Visualisation des prédictions**"
      ]
    },
    {
      "cell_type": "markdown",
      "metadata": {
        "id": "mX9dSOahlAT7"
      },
      "source": [
        "**Effectuer les prédictions du modèle sur le jeu de test**"
      ]
    },
    {
      "cell_type": "code",
      "metadata": {
        "id": "-UP6-i8iHJ5C",
        "outputId": "3135be14-6a25-4dc4-caf2-ff1e120f75a9",
        "colab": {
          "base_uri": "https://localhost:8080/",
          "height": 34
        }
      },
      "source": [
        "y_pred = model.predict(X_test, batch_size=512, verbose=1)"
      ],
      "execution_count": null,
      "outputs": [
        {
          "output_type": "stream",
          "text": [
            "25000/25000 [==============================] - 7s 289us/step\n"
          ],
          "name": "stdout"
        }
      ]
    },
    {
      "cell_type": "markdown",
      "metadata": {
        "id": "fCg2BA6olQSL"
      },
      "source": [
        "**Afficher les prédictions**"
      ]
    },
    {
      "cell_type": "code",
      "metadata": {
        "id": "2-s05Hz8HJ8C",
        "outputId": "01deb6bf-36ec-4b4d-f894-e5a2fd36baae",
        "colab": {
          "base_uri": "https://localhost:8080/",
          "height": 136
        }
      },
      "source": [
        "y_pred"
      ],
      "execution_count": null,
      "outputs": [
        {
          "output_type": "execute_result",
          "data": {
            "text/plain": [
              "array([[0.05476511],\n",
              "       [0.9991611 ],\n",
              "       [0.98707926],\n",
              "       ...,\n",
              "       [0.02147439],\n",
              "       [0.05483437],\n",
              "       [0.992388  ]], dtype=float32)"
            ]
          },
          "metadata": {
            "tags": []
          },
          "execution_count": 30
        }
      ]
    },
    {
      "cell_type": "markdown",
      "metadata": {
        "id": "4IZpOkZGmEyx"
      },
      "source": [
        "**Que remarque-t-on ?**\n",
        "\n",
        "---\n",
        "\n"
      ]
    },
    {
      "cell_type": "markdown",
      "metadata": {
        "id": "saZGeQdV7-58"
      },
      "source": [
        "*On obtient des probabilités en prediction.*"
      ]
    },
    {
      "cell_type": "markdown",
      "metadata": {
        "id": "ikW9Fse5lhv8"
      },
      "source": [
        "**Transformer les prédicitions**"
      ]
    },
    {
      "cell_type": "markdown",
      "metadata": {
        "id": "Mik3Oj0nmDNh"
      },
      "source": [
        "Transformons les prédictions afin de ne plus avoir la probabilité mais si un commentaire est bon ou mauvais"
      ]
    },
    {
      "cell_type": "code",
      "metadata": {
        "id": "77L0TjetHJ_a"
      },
      "source": [
        "Y_pred = np.where(y_pred > 0.5, 1, 0)"
      ],
      "execution_count": null,
      "outputs": []
    },
    {
      "cell_type": "markdown",
      "metadata": {
        "id": "_hxpXg2IlkxO"
      },
      "source": [
        "**Afficher 10 predictions aléatoirement choisies**\n",
        "\n",
        "Affichons les 10 phrases et la prédiction pour chacune"
      ]
    },
    {
      "cell_type": "code",
      "metadata": {
        "id": "N_AuQHOcJEOF",
        "outputId": "221d4db1-5fe5-4455-c5b9-4735f5d7fcd2",
        "colab": {
          "base_uri": "https://localhost:8080/",
          "height": 547
        }
      },
      "source": [
        "for i in range(10):\n",
        "  ix = np.random.choice(len(Y_pred))\n",
        "  pred = Y_pred[ix]\n",
        "  pred = (lambda x: 'Bon commentaire' if x == 1 else 'Mauvais commentaire')(pred)\n",
        "  phrase = x_test[ix]\n",
        "  phrase = decode_review(phrase)\n",
        "  print(pred)\n",
        "  print(phrase)\n",
        "  print('---------------------------------')"
      ],
      "execution_count": null,
      "outputs": [
        {
          "output_type": "stream",
          "text": [
            "Bon commentaire\n",
            "<START> if it had been made 2 years later it would have been banned the number one must see recommendation of the day the best <UNK> film i have seen this far have but have not yet seen j h br br there's no wonder why this film got less than 200 votes a bigger that could not care less about what's proper would not be seen again until the 60's as morally ambiguous and dark as 70's <UNK> but with a certain charm as well of course this had to lay low in the later 30's and sadly it does not appear to have been re discovered br br seriously this got it all great actors gary cooper sylvia sidney and the this time not so lovable guy <UNK> and a mighty good director this far i haven't been biggest fans but i have liked his films a lot and with this he steps into a new league one of the best 30's films i have ever seen this is something i never thought even existed 9 5 10\n",
            "---------------------------------\n",
            "Mauvais commentaire\n",
            "<START> you see a movie titled what are you going to think space battles with cool as heck explosions and everyone shooting at each other what do you get with this movie well you do get some space battle goodness but for a great majority of the time it's just stupid people wandering around doing almost nothing no one talks what is this nonsense we get a <UNK> and a ton of british computers but thats about it the main protagonist must be the worst one i have ever seen as she doesn't even have any dialog and <UNK> though scenes some of the things happening are just stupid like they use a rocket like to go to space for basic <UNK> planet side why not just use one of those nifty space ships in any case the music is almost non existent with a few boring dull lifeless <UNK> but the main thing you will notice is the <UNK> sound effects the ships use you have got to be kidding me i can also tell that the budget was low because everything looks fake which is not what you would expect from a movie especially what should be a super cool space battle movie i seriously think the budget must have been in the double <UNK> it is so bad making you laugh more than you should at how plain bad it is i am starting to think that they paid the actors based on how much dialog they had because their is very little here if you can't tell already that is my main <UNK> here as i probably said that like 3 times already\n",
            "---------------------------------\n",
            "Bon commentaire\n",
            "<START> the four la cops in <UNK> driving around in a big black <UNK> look <UNK> absurd and even more ridiculous when it turns out that nick nolte the dumbest looking of the lot is in charge the writer never manages to create a spirit of <UNK> among the squad members and the director fails to <UNK> out of the man mountain nolte questioning anyone <UNK> character lights a gets mad and beats <UNK> to a pulp his methods get him nowhere until at one point in the action he is wandering from tossed <UNK> to tossed <UNK> with his mouth open and his brain shut he <UNK> up an fbi squad and throws two military officers out of a plane in flight with only a vague report of anger at <UNK> and no punishment at all at the end of the film he is as <UNK> and muscle bound as he was at the outset how he managed to get a beautiful whore to fall deeply in love with him is a mystery as is the eternal devotion and tragic sense of betrayal expressed by his <UNK> wife two interesting shots in the picture one of an atomic explosion the other of a gigantic <UNK> ostensibly caused by a bomb it's almost as <UNK> and <UNK> as <UNK> face\n",
            "---------------------------------\n",
            "Mauvais commentaire\n",
            "<START> what the heck is this about kelly jennifer seems to drop all moral behavior as soon as she arrives to the island she finds this juan p <UNK> existing and exotic though she witnessed when he slapped his ex in the face which he also justify later on in the movie right or wrong these two guys are the first to find each other on the island kelly are totally lost in every sense and the great juan p can fish and built a somewhat house mr <UNK> they seem to have a great time then billy zane jack characters husband shows up and of course two days without knowing what his wife has been doing <UNK> this gorgeous juan p he is a little bit jealous billy z is the stereotype rich guy and maybe not the <UNK> man in the world he <UNK> juan p for hitting his girlfriend at the <UNK> who can blame him hes also is arrogant but he paid loads of money to rent that boat and juan p who is the <UNK> everything cant even <UNK> him a beer <UNK> in 20 min wouldn't you be upset yet billy is probably the guy you want to punch in the face if you meet him but at the same time he is not to be blamed for suspicious about the <UNK> <UNK> <UNK> has kelly and billy just lost some dear friends how convenient he just happens to have them no matter what however for some strange reason kelly likes this girl hitting <UNK> and starts to hate billy for being jealous ok billy is <UNK> thats for sure but kelly isn't doing much to convince him either she spends more time with juan p and even wants him to sleep with them since hes been so nice and even though <UNK> <UNK> at her and calling her things for asking him some intimate questions but kelly is so <UNK> yeah right and then she starts to have sex with this juan p it should be said that kelly and billy seems to have a working relationship before this island incident at least they have intimate sex on the boat and talks like people do when they like each other now you can think that this scenario is possible but for real is it are you cheating your husband after two days on a <UNK> island just because hes jealous and acts like a drunk in the bar i wouldn't disagree if there relationship was really bad but the director doesn't give much hints if thats the case for christ sake juan p hasn't really shown himself being a good person catching some fish and built a wood house to get into <UNK> <UNK> is that showing a good side not trying to <UNK> husband in anyway which would be very simple by letting them be alone most of the island time simply be respect he doesn't care about their relationship and kelly cant figure that one out he just want to have sex with kelly character is just not <UNK> if she was stranded with billy and another attractive girl wouldn't she be upset or what or maybe she is billy zane plays a not very nice person and juan p isn't actually much better if you really think about it and poor kelly is so confused and believes having sex with juan p will solve everything because her husband is so strange and so aggressive towards poor juan p so for all of you who reads this what do you think about it if you where the kelly character would you consider cheating on your husband knowing one day you'll be back in real life and all of a sudden <UNK> maybe not that horrible person after all hes just too jealous and if you where <UNK> character what do you say is he totally wrong in his behavior and juan p character what do you guys really think of him one thing is for sure exist ps the voodoo thing is so totally wrong here what the heck was that about seriously anyone tell me\n",
            "---------------------------------\n",
            "Bon commentaire\n",
            "<START> black dragons 1942 william <UNK> bela lugosi joan <UNK> <UNK> moore br br just prior to the start of world war ii dr bela lugosi a world famous surgeon is brought in by <UNK> black dragon society as part of a secret plan dr <UNK> on six black dragon society <UNK> and transforms them into exact <UNK> of 6 high <UNK> american <UNK> who are replaced by these look with their <UNK> in place the black dragon <UNK> plan to <UNK> the american war effort appears to be set but the f b i chief and an agent begin to piece together the clues that hopefully <UNK> this sinister plot according to the dvd <UNK> synopsis br br that synopsis gives away the entire ending which in this case might be a good thing black dragons is an incredible wildly inconsistent <UNK> a <UNK> course of action would have been to stay with the <UNK> supernatural angle in early scenes mr lugosi as <UNK> <UNK> is effectively creepy confusing joan <UNK> as alice <UNK> future lone ranger <UNK> moore as dick martin along with a cast of old stage and silent veterans do the best they can with a story that looks as if filmmakers were making it up as they went along\n",
            "---------------------------------\n",
            "Bon commentaire\n",
            "<START> <UNK> is not for an <UNK> adventure seeking audience there are no explosions nor is the drama straightforward like the films of <UNK> <UNK> the director is working more deeply with mood than with storytelling in a manner that is effective and incredibly moving because it does not rely on gratuitous nudity or superficial pop cult story lines this is quite frankly one of the best gay foreign film i have seen also see <UNK> <UNK> <UNK> <UNK> nicolas <UNK> don't look now gets a lot of bad press because it is sold as a horror film that film like <UNK> is more than what the box might lead you to believe if you are in the mood to sit back and be absorbed by the subtle transformed powers of cinema you'll love this movie\n",
            "---------------------------------\n",
            "Mauvais commentaire\n",
            "<START> snakes on a train 2006 <UNK> the brothers a zombie curse is placed upon a woman which causes her to have living snakes inside her <UNK> who is looking after her attempts to take her to los angeles on the train after several <UNK> on the train collection of snakes manage to separate themselves from their owner and go on the hunt whilst all this is happening normal everyday passengers are relaxing what is unknown to them is that something deadly is heading their way and that their is no were out br br after watching the wonderfully fun <UNK> on a <UNK> i had to check this out i knew it was going to be a rip off and that the film will look cheap but what i found was worst to watch the whole curse plot was silly and should never have been included the special effects aren't terrible but are not the best looking i did not have a clue about the ending it was silly to watch and pathetic the acting was absolutely terrible and looked bad they just could not act to save their lives if you want a great laugh watch this otherwise you should really avoid this br br we have a runaway train i repeat we have a runaway train conductor stephen a f day\n",
            "---------------------------------\n",
            "Mauvais commentaire\n",
            "<START> this stinker is in <UNK> frequent <UNK> on one channel here and i've found myself watching in horror again and again the script is like something one would come up with friends over several too many drinks and the production values match admirably br br it's meant to be a children's movie but features a grotesque and poorly explained kidnapping scene the star dog has a lack of star quality <UNK> only by the other actors and it in general has the look of being filmed in someone's backyard the climactic soccer game features no more than three dozen extras sadly cheering in the background br br it even all <UNK> up with a budget ran out voice over sequence when the story to one's relief simply stops the high <UNK> here must be either the producers or the majority of the extras from the soccer game\n",
            "---------------------------------\n",
            "Bon commentaire\n",
            "<START> wow fantastic film in my opinion i wasn't expecting it to be this good i was captivated from start to finish it's a very well made and educational film that really gives us a fascinating insight into the trials <UNK> had to go through in order to convey his ideas to the world <UNK> his life as he writes origin of the species fighting both personal demons as well as the ignorant society of the time in order to do so he struggles hard with his mind body and soul as personal matters get to breaking point and even his family seems to slip away whilst the rest of the world stand against him as he knows that his <UNK> literally shake the very <UNK> of their lives culture and meaning of existence it's a subtle movie not over exaggerated in any way in that typical hollywood way this is a bbc produced british film yet thankfully very powerful in meaning and this is thanks to the amazing well directed scenes as well as the superb acting by <UNK> <UNK> acts as more of a light supporting role but i did enjoy her in this and she's as good as to be expected as always her chemistry alongside her husband was definitely strong and endearing you could feel the connection and their real life husband wife bond definitely shines through their performances but the star of the show is definitely <UNK> and he does a brilliant job a very touching performance i both understood and <UNK> with him as he <UNK> his own <UNK> health and impending insanity to try to understand what he has <UNK> and come to terms with what it all really is and means as he found his thinking <UNK> his feelings and found himself losing it all including his wife who of course was a firm believer in religion and a strict christian whilst he was in the realm of science two worlds which could not see eye to eye so their relationship was at stake too br br anyway a really very good well acted emotional drama and dare i say i did shed a tear during the tragic climax which was truly heartbreaking as well as beautifully poignant and moving the film is symbolic and very intellectually artistic as well in fact i can't wait to watch it again as there was a lot to take in first time round which i missed easily one of the best films i've seen this year\n",
            "---------------------------------\n",
            "Bon commentaire\n",
            "<START> there has been a political documentary of recent vintage called why we fight which tries to examine the infamous military industrial complex and its grip on this nation it is considered both <UNK> and <UNK> in making its case against both that complex and the war fiasco we are currently involved in in iraq yet a far more famous series of films with the same name was made during world war two by hollywood director frank <UNK> although considered documentaries and having won oscars in that category this series of seven films is really and truly mere <UNK> more in the vein of <UNK> <UNK> triumph of the will scenes of which <UNK> <UNK> for his own purposes that said that fact does not mean it does not have vital information that subsequent generations of world war two documentaries such as the <UNK> <UNK> the world at war lacked nor does that mean that its value as a primary source is any the less valuable they are <UNK> made and after recently <UNK> some used dvds at a <UNK> store i found myself with the opportunity to <UNK> a free dvd with my purchase i chose <UNK> dvd's four dvd collection of the series br br rarely has something free been so worth <UNK> while there are no extras on the dvds and the sound quality of the <UNK> <UNK> these films provide insight into the minds of americans two thirds of a century ago when racism was overt as in many of the classic warner brothers pro war cartoons of the era and there was nothing wrong with blatant <UNK> of facts the seven films produced between 1942 and 1945 are <UNK> to war the nazis strike <UNK> and <UNK> the battle of britain the battle of russia the battle of china and war comes to america br br overall the film series is well worth watching not only for the obvious reasons but for the subtle things it reveals such as the use of the <UNK> for terms like x millions when referring to dollars rather than the modern <UNK> or the most <UNK> graphic in the whole series a japanese sword <UNK> the center of <UNK> yet it also shows the <UNK> of trying to apply past standards to current wars the lesson of world war one avoid foreign <UNK> was not <UNK> to world war two whose own lesson act early against <UNK> has not been <UNK> in the three major wars america has fought since korea vietnam nor iraq the fact that much of this series <UNK> on the <UNK> of the times it was made in only <UNK> its historic value in today's information <UNK> times it may not help you sort out the truth from the lies and propaganda of today but at least you'll realize you are not the first to be in such a <UNK> position nor will you be the last\n",
            "---------------------------------\n"
          ],
          "name": "stdout"
        }
      ]
    },
    {
      "cell_type": "markdown",
      "metadata": {
        "id": "U15PG_NhNGNg"
      },
      "source": [
        "**Afficher 10 predictions où le modèle s'est trompé**\n",
        "\n",
        "Affichons 10 phrases et la prédiction pour chacune"
      ]
    },
    {
      "cell_type": "code",
      "metadata": {
        "id": "PD1jGZAr8W3a"
      },
      "source": [
        "Y_pred = np.hstack(Y_pred)"
      ],
      "execution_count": null,
      "outputs": []
    },
    {
      "cell_type": "code",
      "metadata": {
        "id": "r1tuD4IkItgI"
      },
      "source": [
        "ix_wrong_pred = np.where(Y_pred != y_test)[0]"
      ],
      "execution_count": null,
      "outputs": []
    },
    {
      "cell_type": "code",
      "metadata": {
        "id": "teElzlIMNYh9",
        "outputId": "2b52a486-86e1-4e1f-c277-f5b2abea5892",
        "colab": {
          "base_uri": "https://localhost:8080/",
          "height": 34
        }
      },
      "source": [
        "ix_wrong_pred.shape"
      ],
      "execution_count": null,
      "outputs": [
        {
          "output_type": "execute_result",
          "data": {
            "text/plain": [
              "(3820,)"
            ]
          },
          "metadata": {
            "tags": []
          },
          "execution_count": 35
        }
      ]
    },
    {
      "cell_type": "code",
      "metadata": {
        "id": "4Fn5jJ20ItjT",
        "outputId": "72f80bf2-2453-4c53-e174-5397294b2c38",
        "colab": {
          "base_uri": "https://localhost:8080/",
          "height": 547
        }
      },
      "source": [
        "for i in range(10):\n",
        "  ix = np.random.choice(ix_wrong_pred)\n",
        "  pred = Y_pred[ix]\n",
        "  pred = (lambda x: 'Bon commentaire' if x == 1 else 'Mauvais commentaire')(pred)\n",
        "  ground_truth = y_test[ix]\n",
        "  ground_truth = (lambda x: 'Bon commentaire' if x == 1 else 'Mauvais commentaire')(ground_truth)\n",
        "  phrase = x_test[ix]\n",
        "  phrase = decode_review(phrase)\n",
        "  print('Ground truth :',ground_truth, '| Prediction :', pred)\n",
        "  print(phrase)\n",
        "  print('---------------------------------')"
      ],
      "execution_count": null,
      "outputs": [
        {
          "output_type": "stream",
          "text": [
            "Ground truth : Mauvais commentaire | Prediction : Bon commentaire\n",
            "<START> i've been a classic horror fan my entire life many nights stretched until the early hours of the morning watching the universal films on horror <UNK> and creature feature night sadly i viewed this film in the early evening and yet it still almost put me to sleep br br i don't think i've ever seen a horror picture where everything was so matter of fact dr doesn't seem to believe in the supernatural yet before long he's <UNK> treating dracula and watching larry <UNK> change into the <UNK> while hardly <UNK> an eye he and <UNK> discover the frankenstein monster like it's an everyday <UNK> is all fired up to bring the monster back to life but after <UNK> and nina protest he's like <UNK> you're right no big deal after realizing <UNK> <UNK> he opens the <UNK> coffin to <UNK> and <UNK> he's gone just like that br br the only person who didn't appear to just be <UNK> in her lines was jane adams as nina her reward is getting <UNK> off the <UNK> in her back into a pit by the frankenstein monster at the end of the film and no one even tries to rescue her she dr and the monster all <UNK> while <UNK> and casually leave the castle br br definitely the low point for universal during it's classic horror years\n",
            "---------------------------------\n",
            "Ground truth : Mauvais commentaire | Prediction : Bon commentaire\n",
            "<START> as a fan of nearly any period drama and at that a huge jane austen fan i was horrified by this adaption as a fan of the 1999 version of <UNK> park i was constantly comparing the two and this fell far short it felt hugely rushed and very one dimensional so that it became boring very quickly there seemed to be no subtly to the relationships particularly that of <UNK> and edmund and little atmosphere despite being set in a beautiful location despite having looked forward to the jane austen season since christmas i turned this off after an hour and went to bed i will be interested to watch the adaptations of <UNK> and <UNK> <UNK> of which i have no much loved version to see if they still manage to bore me in such a manner\n",
            "---------------------------------\n",
            "Ground truth : Bon commentaire | Prediction : Mauvais commentaire\n",
            "<START> i was trying to work out why i enjoyed this film its not because of money spent on it that's for sure did i see a painted water pistol in there maybe they don't have the same sort of visual effects houses in the scotland or maybe they just didn't have any money the making of clearly shows a gang of very <UNK> guys making a movie against the odds awesome but what i really liked was the <UNK> of the performances mike <UNK> and patrick white play the lead parts like 2 normal guys no hollywood <UNK> here br br ok so the effects work isn't very good the <UNK> just don't look as good as they should in todays fx world and i've seen much better free stuff on youtube but the film holds together very well once they get to the planet was this filmed in scotland or just by a scottish crew or is it just better effects work did they edit out the water by the end i kinda loved this film and was disappointed when they all died\n",
            "---------------------------------\n",
            "Ground truth : Mauvais commentaire | Prediction : Bon commentaire\n",
            "<START> as a young <UNK> beautiful joan <UNK> as rita adams was <UNK> after her <UNK> <UNK> father was shot to death as a young woman ms <UNK> finds herself struggling to keep a job as her murdered father's ex convict status makes <UNK> a bad business risk <UNK> rooms with understanding linda <UNK> as donna andrews who <UNK> <UNK> to get in touch with old <UNK> friends john archer as bob elliott and jack la <UNK> as mickey roman but none of her friends can help when <UNK> is the victim of a <UNK> which lands her in prison upon release <UNK> decides to give the male <UNK> a run for their <UNK> br br re titled gangs inc this is an obviously weak cheap mobster melodrama still it's a lot of fun to watch <UNK> work wonders with inferior material she plays the innocent growing more sophisticated rita quite convincingly and she <UNK> in a great bit as a blonde hooker <UNK> must be added to the list of unfortunately <UNK> hollywood actresses of the past paper bullets also features an early alan <UNK> as jimmy kelly aka bill <UNK> ms <UNK> who sang the hit an apple for the teacher with bing crosby sings a couple of fair <UNK> numbers nicely but mainly it's show br br paper bullets 1941 phil <UNK> joan <UNK> linda <UNK> alan <UNK>\n",
            "---------------------------------\n",
            "Ground truth : Bon commentaire | Prediction : Mauvais commentaire\n",
            "<START> i watch a lot of movies a lot of movies getting a graduate degree in film forces one to watch 2 3 flicks a day for years it all gets very <UNK> mostly because i feel i have seen it all so rare is it when i get surprised by something mostly i hope to see something as good as i expect it to be br br death bed is so unlike anything i have ever experienced i actually had to stop the dvd in order to rant about its genius br br the rhythm of the piece is psychotic it's structured in a way that forces the viewer to stay outside of the frame it's not like something like halloween with all its snappy editing and <UNK> shots death bed actually comes across as kind of dreamy the most pretentious way i can phrase it is this is samuel <UNK> making a haunted house movie i mean it's a manic <UNK> bed that eats people and fried chicken out in the middle of nowhere and there's bone hands i can barely <UNK> my feelings about this film and yeah <UNK> to liking this will open you up to <UNK> but things get real same y after awhile its hard to be a <UNK> and consistently stay engaged i can honestly say this is a fully unique film up and down from what it is to how its put together we need films like that movies that shake us out of our <UNK> consider it like existential camp it's fun and it's stupid but also brilliant in its weird little way the worst horror villain of all time maybe but at least it isn't a guy in a mask\n",
            "---------------------------------\n",
            "Ground truth : Bon commentaire | Prediction : Mauvais commentaire\n",
            "<START> the marriage of an <UNK> new york city couple with child falls apart when the wife wants out it took a lot of courage for her to walk out that door a neighbor tells us the busy distracted husband takes on the <UNK> <UNK> and grows closer to his son but soon the wife returns highly manipulative picture doesn't give us a very realistic <UNK> unit with young justin henry certainly not resembling the product of a marriage between dustin hoffman and meryl streep but the dynamics are intriguing and involving and director robert <UNK> keeps the pace popping with lots of <UNK> marvelous classical music <UNK> editing and <UNK> bits of humor <UNK> character is designed to be a cold self centered witch but i was ready to feel a lot more for her than <UNK> probably wanted it all has to be painted in terms of black and white good and bad with hoffman learning how hard his wife had it and getting a second chance at being a good parent the film never <UNK> from its <UNK> path and very fine acting nearly saves it but i'm not sure where <UNK> was <UNK> the film in the final act and the closing scene is awfully abrupt from\n",
            "---------------------------------\n",
            "Ground truth : Mauvais commentaire | Prediction : Bon commentaire\n",
            "<START> <UNK> i think i'll be the only one who's saying this but yes i was a <UNK> bored during the film not to say that this is a bad movie in fact it's a very good attempt at portraying the <UNK> emotions dilemma sorrow love <UNK> it's the director's debut read from somewhere is it true i felt that <UNK> not quite right maybe it's just me i'm not drawn to the characters enough to <UNK> me in their world this is a simple story about ordinary people ordinary lives through simple and short dialogs the director tries to relate a simple guy's life and how <UNK> with the news of his illness by laughing it away every time oh ya his laughter was kinda cute at first but gradually it gets to me such a deep <UNK> <UNK> for a gentle man i must say i didn't feel the impact that most readers felt in fact i was more drawn to the trivial scenarios like spitting of <UNK> <UNK> with his <UNK> that clearly shows that they're comfortable with each other the <UNK> who came back for another shot this is kinda <UNK> the thoughtful gesture of writing down the <UNK> for his dad hmm but this is predictable don't misunderstood that i'm an action lover independent films are my cup of tea perhaps i just have a really high expectation after watching many deep films that have stronger imagery some asian films worth the watch br br tony depicts loneliness <UNK> cloud only 1 dialog my sassy girl i like it 4 30 loneliness as well 15 gangsters lives in local setting before sunrise and before sunset i just have to mention these even though they are not asian films fans will understand\n",
            "---------------------------------\n",
            "Ground truth : Mauvais commentaire | Prediction : Bon commentaire\n",
            "<START> hey all i just wanted to give you all a few crazy facts about this movie i was actually one of the make up fx artists that help create the beast for this movie and i have to tell you the original creature looked absolutely amazing i remember when we got the first photos back from the set we were all talking about how much of a shame it was that this creature was in a movie that would probably be pretty poor br br what actually happened though was that jason <UNK> did the original make up for the sasquatch but for some reason they had to go back and re shoot much of the creature the sad part was that jason passed away a few weeks before that and so the re done creature was no where near as awesome as the original one br br for me it was quite sad because this was <UNK> final movie and he sort of got cheated out of his final fame due to the bad re shoots anyway i thought you guys may find that a tad and if you would like you can head over to com and check out some behind the scenes photos br br later jeff\n",
            "---------------------------------\n",
            "Ground truth : Mauvais commentaire | Prediction : Bon commentaire\n",
            "<START> br br i was fascinated to read the range of opinions on <UNK> from awesome breathtaking and most things between right down to golden turkey <UNK> i find myself in the latter camp br br the producers obviously thought that if they mixed plenty of over the top violence with <UNK> of four letter <UNK> they'd have another lock stock and two smoking <UNK> on their hands a pity that they forgot to include wit style charm and flair and it was certainly a mistake to feature a visit to welles' classic the lady from <UNK> thus serving to remind us how much better cinema can be br br john hannah gets his shirt off at every opportunity a huge american drives around in a mini minor as <UNK> <UNK> <UNK> for cult status and even the beautiful amanda <UNK> can't add any class to these proceedings br br if you want to see a good brit film try the sublime <UNK>\n",
            "---------------------------------\n",
            "Ground truth : Bon commentaire | Prediction : Mauvais commentaire\n",
            "<START> film follows a bunch of students in the nyc high school of the performing arts there's <UNK> irene <UNK> a black singer who will make it to the top despite everything she's helped by bruno lee a white musician then there's doris maureen who wants to be an actress but she's shy and scared she becomes friends with paul <UNK> the only gay student in the school and is <UNK> by <UNK> barry miller then there's <UNK> gene anthony ray who sadly died in 2003 who's homeless and a great dancer but can't read then there's various teachers albert <UNK> anne <UNK> stand out trying to teach the kids br br the songs are great the title tune and out here on my own were nominated for best song fame won the dances are energetic and the young cast shows plenty of ambition and talent but this film misses the boat in the drama department many plot lines are brought up and completely left open ended by the end of the movie why did <UNK> do a porno did doris and <UNK> remain together <UNK> did either make it how about <UNK> what happened to him and did <UNK> ever graduate and how there are too many long speeches <UNK> has two and moments that just lead to nothing i'm assuming there were cuts in the script i can't believe the movie just left all this open br br still it's worth seeing for the acting and again the music there's basically not one bad song and the dances go full force and at one point stop traffic literally my favorites are fame out here and i sing the body electric which is a great closing song so i recommend it but can only give it a 7 the script really needed to tie up loose ends and it didn't br br trivia they wanted to shot this film at the actual school for performing arts but couldn't get <UNK> the dean of the school read the script and said there was way too much swearing in the film that is true there is a lot of foul language but that's how high school kids talk avoid the tv version which <UNK> <UNK> it\n",
            "---------------------------------\n"
          ],
          "name": "stdout"
        }
      ]
    },
    {
      "cell_type": "markdown",
      "metadata": {
        "id": "34NFgCI9mfh3"
      },
      "source": [
        "# Fin"
      ]
    }
  ]
}