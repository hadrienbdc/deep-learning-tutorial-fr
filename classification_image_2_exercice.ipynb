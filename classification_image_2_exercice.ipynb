{
  "nbformat": 4,
  "nbformat_minor": 0,
  "metadata": {
    "colab": {
      "name": "classification_image_2_exercice.ipynb",
      "provenance": [],
      "collapsed_sections": [],
      "include_colab_link": true
    },
    "kernelspec": {
      "name": "python3",
      "display_name": "Python 3"
    },
    "accelerator": "GPU"
  },
  "cells": [
    {
      "cell_type": "markdown",
      "metadata": {
        "id": "view-in-github",
        "colab_type": "text"
      },
      "source": [
        "<a href=\"https://colab.research.google.com/github/hbaflast/deep-learning-tutorial-fr/blob/main/classification_image_2_exercice.ipynb\" target=\"_parent\"><img src=\"https://colab.research.google.com/assets/colab-badge.svg\" alt=\"Open In Colab\"/></a>"
      ]
    },
    {
      "cell_type": "markdown",
      "metadata": {
        "id": "6UzG0RrGsNQ_"
      },
      "source": [
        "#**Classification d'images - CIFAR10**\n",
        "\n",
        "Dans cet exercice vous apprenez à utiliser des réseaux de neurones convolutifs afin de classifier des images de chiffres.\n",
        "\n",
        "Pour cela on utilise la librairie de deep learning Keras, et la base de données CIFAR10 qui est une base de données très connue dans le monde du deep learning. Cette base de données contient des images de différentes catégories comme des chats ou des voitures, nous sommes donc dans le cas d'une classification multi classes. Ce problème est plus complexe que celui de MNIST, cela est du à la grande variété possible d'images."
      ]
    },
    {
      "cell_type": "markdown",
      "metadata": {
        "id": "tPjcNwGhIwzr"
      },
      "source": [
        "## **1 - Importation de module**"
      ]
    },
    {
      "cell_type": "markdown",
      "metadata": {
        "id": "1pAgLFL5D4v-"
      },
      "source": [
        "**Importer les modules Tensorflow, Numpy, Matplotlib et pylot de Matplotlib**"
      ]
    },
    {
      "cell_type": "code",
      "metadata": {
        "id": "aRc_qlZuzBQO"
      },
      "source": [
        "# import ..."
      ],
      "execution_count": null,
      "outputs": []
    },
    {
      "cell_type": "code",
      "metadata": {
        "id": "qUJUIntRPap4"
      },
      "source": [
        "mpl.rcParams['axes.grid'] = False # On enlève les grilles des figure matplotlib pour le style"
      ],
      "execution_count": null,
      "outputs": []
    },
    {
      "cell_type": "markdown",
      "metadata": {
        "id": "wW2-HGuoJAmN"
      },
      "source": [
        " **Afficher le GPU de la machine**\n",
        " \n",
        " Vérifions que le GPU de l'environnement de travail est bien activé"
      ]
    },
    {
      "cell_type": "code",
      "metadata": {
        "id": "prU0m7T2GR_I"
      },
      "source": [
        "# !"
      ],
      "execution_count": null,
      "outputs": []
    },
    {
      "cell_type": "markdown",
      "metadata": {
        "id": "JI5vEeXNM7fN"
      },
      "source": [
        "## 2 - **Importation et Exploration des données**"
      ]
    },
    {
      "cell_type": "markdown",
      "metadata": {
        "id": "gZCpRQQREkWH"
      },
      "source": [
        "**Importer le jeu de données depuis Keras**\n",
        "\n",
        "Le jeu de données CIFAR10 est directement téléchargable via Keras, car comme dit précédement il fait partie des jeux de données les plus connus en reconnaisance d'images."
      ]
    },
    {
      "cell_type": "code",
      "metadata": {
        "id": "F-ele5DYEN2E"
      },
      "source": [
        "# from tensorflow.keras.datasets ..."
      ],
      "execution_count": null,
      "outputs": []
    },
    {
      "cell_type": "markdown",
      "metadata": {
        "id": "NcJNCAC6EqXR"
      },
      "source": [
        "**Afficher de quel type sont les données et leurs labels**"
      ]
    },
    {
      "cell_type": "code",
      "metadata": {
        "id": "9ThSr9dFEq_P"
      },
      "source": [
        "# print(\"Les données sont de type ...\n",
        "# print(\"Les labels sont de type ..."
      ],
      "execution_count": null,
      "outputs": []
    },
    {
      "cell_type": "markdown",
      "metadata": {
        "id": "c6vDT00nErWh"
      },
      "source": [
        "**Afficher les dimensions des données et de leurs labels**\n",
        "\n",
        "Du jeu d'entrainement"
      ]
    },
    {
      "cell_type": "code",
      "metadata": {
        "id": "QGedtTu6EOAA"
      },
      "source": [
        "# ..."
      ],
      "execution_count": null,
      "outputs": []
    },
    {
      "cell_type": "markdown",
      "metadata": {
        "id": "cUakgyzpEt_g"
      },
      "source": [
        "Du jeu de test"
      ]
    },
    {
      "cell_type": "code",
      "metadata": {
        "id": "rR9NTOR5N0Xt"
      },
      "source": [
        "# ..."
      ],
      "execution_count": null,
      "outputs": []
    },
    {
      "cell_type": "markdown",
      "metadata": {
        "id": "aqb1RQAgE1Lt"
      },
      "source": [
        "**Quelle est la résolution des images ?**\n",
        "\n",
        "---\n",
        "\n"
      ]
    },
    {
      "cell_type": "markdown",
      "metadata": {
        "id": "GMU2kiKoE1UT"
      },
      "source": [
        "*Réponse : ...*\n",
        "\n"
      ]
    },
    {
      "cell_type": "markdown",
      "metadata": {
        "id": "o2axfMueVs8x"
      },
      "source": [
        "**Visualiser une image**"
      ]
    },
    {
      "cell_type": "code",
      "metadata": {
        "id": "KZdTxGp-EOCo"
      },
      "source": [
        "# plt. ..."
      ],
      "execution_count": null,
      "outputs": []
    },
    {
      "cell_type": "markdown",
      "metadata": {
        "id": "HOc0ZkKUFrNI"
      },
      "source": [
        "**Que représente l'image ?**\n",
        "\n",
        "---\n",
        "\n"
      ]
    },
    {
      "cell_type": "markdown",
      "metadata": {
        "id": "OMMiU27CFrsO"
      },
      "source": [
        "*Réponse : ...*"
      ]
    },
    {
      "cell_type": "markdown",
      "metadata": {
        "id": "N11CPK0iVyIc"
      },
      "source": [
        "**Visualiser cette image sous son format de matrice**"
      ]
    },
    {
      "cell_type": "code",
      "metadata": {
        "id": "pH0hUHraToAO"
      },
      "source": [
        "# ..."
      ],
      "execution_count": null,
      "outputs": []
    },
    {
      "cell_type": "markdown",
      "metadata": {
        "id": "HpEaMSFg8i5H"
      },
      "source": [
        "**Afficher la liste des labels**"
      ]
    },
    {
      "cell_type": "code",
      "metadata": {
        "id": "rpbzJxHd81C5"
      },
      "source": [
        "# ..."
      ],
      "execution_count": null,
      "outputs": []
    },
    {
      "cell_type": "markdown",
      "metadata": {
        "id": "nMeZWsBDGCUU"
      },
      "source": [
        "**Afficher la distribution des labels**\n",
        "\n",
        "Du jeu d'entrainement"
      ]
    },
    {
      "cell_type": "code",
      "metadata": {
        "id": "Nk1aQgoq7DCl"
      },
      "source": [
        "# plt. ..."
      ],
      "execution_count": null,
      "outputs": []
    },
    {
      "cell_type": "markdown",
      "metadata": {
        "id": "f4vxCYSTGrXK"
      },
      "source": [
        "Du jeu de test"
      ]
    },
    {
      "cell_type": "code",
      "metadata": {
        "id": "fCP9zUgM8ZJ0"
      },
      "source": [
        "# plt. ..."
      ],
      "execution_count": null,
      "outputs": []
    },
    {
      "cell_type": "markdown",
      "metadata": {
        "id": "lKqdpB0lGtvB"
      },
      "source": [
        "**Que remarque-t-on ?**\n",
        "\n",
        "---\n",
        "\n"
      ]
    },
    {
      "cell_type": "markdown",
      "metadata": {
        "id": "r91fCKunGtxo"
      },
      "source": [
        "*Réponse : ...*"
      ]
    },
    {
      "cell_type": "markdown",
      "metadata": {
        "id": "0XFjKVgcV9Ga"
      },
      "source": [
        "**Classe du jeu de données**"
      ]
    },
    {
      "cell_type": "code",
      "metadata": {
        "id": "xkP7Eq8hI_xG"
      },
      "source": [
        "dict_conversion_classe = {  # dictionnaire de l'équivalence des classes des labels\n",
        "           0: 'avion',\n",
        "           1: 'voiture',\n",
        "           2: 'oiseau',\n",
        "           3: 'chat',\n",
        "           4: 'cerf',\n",
        "           5: 'chien',\n",
        "           6: 'grenouille',\n",
        "           7: 'cheval',\n",
        "           8: 'bateau',\n",
        "           9: 'camion',\n",
        "}"
      ],
      "execution_count": null,
      "outputs": []
    },
    {
      "cell_type": "markdown",
      "metadata": {
        "id": "bGLeSRMrH1pt"
      },
      "source": [
        "**Afficher pour chaque classe du jeu de données une image lui correspondant**"
      ]
    },
    {
      "cell_type": "code",
      "metadata": {
        "id": "c5zmP8VwRc96"
      },
      "source": [
        "# for i in range(10):\n",
        "#   ..."
      ],
      "execution_count": null,
      "outputs": []
    },
    {
      "cell_type": "markdown",
      "metadata": {
        "id": "llk9Ya3wGfeE"
      },
      "source": [
        "## **3 - Préparation des données**"
      ]
    },
    {
      "cell_type": "markdown",
      "metadata": {
        "id": "ytRUSBqyIEw-"
      },
      "source": [
        "**Changer le data type des arrays en float32**"
      ]
    },
    {
      "cell_type": "code",
      "metadata": {
        "id": "MFMvGI-uIGAO"
      },
      "source": [
        "# X_train = ...\n",
        "# X_test = ..."
      ],
      "execution_count": null,
      "outputs": []
    },
    {
      "cell_type": "markdown",
      "metadata": {
        "id": "faNBD1QTIFVX"
      },
      "source": [
        "**Normaliser les données afin que les pixels soient compris entre 0 et 1**"
      ]
    },
    {
      "cell_type": "code",
      "metadata": {
        "id": "NoZSQOCIIGat"
      },
      "source": [
        "# ...\n",
        "# ..."
      ],
      "execution_count": null,
      "outputs": []
    },
    {
      "cell_type": "markdown",
      "metadata": {
        "id": "mBrVAZLNIS1B"
      },
      "source": [
        "**Effectuer un One-hot encodage des labels**\n",
        "\n",
        "On a besoin d'encoder nos labels afin d'en obtenir une meilleur représentation et de ne pas avoir de notion d'ordre\n",
        "\n",
        "On va pour cela utiliser une fonction de la librairie de machine learning scikit-learn"
      ]
    },
    {
      "cell_type": "code",
      "metadata": {
        "id": "G6zae0NWHEoQ"
      },
      "source": [
        "# from sklearn.preprocessing ..."
      ],
      "execution_count": null,
      "outputs": []
    },
    {
      "cell_type": "code",
      "metadata": {
        "id": "kpHsPslcHHJX"
      },
      "source": [
        "# enc = ..."
      ],
      "execution_count": null,
      "outputs": []
    },
    {
      "cell_type": "code",
      "metadata": {
        "id": "1ggrn7IUG2hr"
      },
      "source": [
        "# Y_train = ...\n",
        "# Y_test = ..."
      ],
      "execution_count": null,
      "outputs": []
    },
    {
      "cell_type": "markdown",
      "metadata": {
        "id": "6Xn8RdclIZzF"
      },
      "source": [
        "**Afficher maintenant les dimensions des labels**"
      ]
    },
    {
      "cell_type": "code",
      "metadata": {
        "id": "Xe4Ngw0FHf_6"
      },
      "source": [
        "# ..."
      ],
      "execution_count": null,
      "outputs": []
    },
    {
      "cell_type": "markdown",
      "metadata": {
        "id": "TEkt4wmPIh7a"
      },
      "source": [
        "**Que remarque-t-on ?**\n",
        "\n",
        "---"
      ]
    },
    {
      "cell_type": "markdown",
      "metadata": {
        "id": "ISBMePFjIql9"
      },
      "source": [
        "*Les arrays des labels ont maintenant une taille de 10 pour la deuxième dimension*"
      ]
    },
    {
      "cell_type": "markdown",
      "metadata": {
        "id": "hbuPqWSdIiPR"
      },
      "source": [
        "**Afficher un label non encodé et son équivalent encodé**"
      ]
    },
    {
      "cell_type": "code",
      "metadata": {
        "id": "3cW979MkH_5s"
      },
      "source": [
        "# print(\"Label non encodé ...\n",
        "# print('Label encodé ..."
      ],
      "execution_count": null,
      "outputs": []
    },
    {
      "cell_type": "markdown",
      "metadata": {
        "id": "1CrGQhEWEP3K"
      },
      "source": [
        "## **4 - Definition du modèle**\n"
      ]
    },
    {
      "cell_type": "code",
      "metadata": {
        "id": "5baSJgmnE0xC"
      },
      "source": [
        "# from tensorflow.keras.models import ...\n",
        "# from tensorflow.keras.layers import ...\n",
        "# from tensorflow.keras.optimizers import .."
      ],
      "execution_count": null,
      "outputs": []
    },
    {
      "cell_type": "markdown",
      "metadata": {
        "id": "BfKqHOqTI72D"
      },
      "source": [
        "**Faire une fonction permettant de créer un modèle**\n",
        "\n",
        "Nous sommes ici dans un cas de classification multi classes il faut donc choisir la fonction de coût et la fonction d'activation de la dernière couche qui correspond au problème."
      ]
    },
    {
      "cell_type": "code",
      "metadata": {
        "id": "XeYtO5HhB7-K"
      },
      "source": [
        "# def create_model():\n",
        "#   ..."
      ],
      "execution_count": null,
      "outputs": []
    },
    {
      "cell_type": "markdown",
      "metadata": {
        "id": "_BkrhPNGJF65"
      },
      "source": [
        "**Afficher un résumé de votre modèle**"
      ]
    },
    {
      "cell_type": "code",
      "metadata": {
        "id": "ctKos7G0FZ4J"
      },
      "source": [
        "# ..."
      ],
      "execution_count": null,
      "outputs": []
    },
    {
      "cell_type": "markdown",
      "metadata": {
        "id": "IX77cfMXJIVp"
      },
      "source": [
        "**Entrainer le modèle**\n",
        "\n",
        "On va conserver l'historique de l'entrainement du modèle afin d'evaluer sa progression par la suite.\n",
        "\n",
        "On utilisera un jeu de validation correspondant à un cinquième du jeu d'entrainement."
      ]
    },
    {
      "cell_type": "code",
      "metadata": {
        "id": "fNehuJl3RdA6"
      },
      "source": [
        "# history = ..."
      ],
      "execution_count": null,
      "outputs": []
    },
    {
      "cell_type": "markdown",
      "metadata": {
        "id": "GcK4i8TsJK0Z"
      },
      "source": [
        "**Evaluer le modèle sur le jeu de test**\n",
        "\n",
        "Afficher la loss et l'accuracy du modèle"
      ]
    },
    {
      "cell_type": "code",
      "metadata": {
        "id": "gVWHCN20Ivfi"
      },
      "source": [
        "# scores = ...\n",
        "# print(...)\n",
        "# print(...)"
      ],
      "execution_count": null,
      "outputs": []
    },
    {
      "cell_type": "markdown",
      "metadata": {
        "id": "GVH3nCzINoBg"
      },
      "source": [
        "**Quelle accuracy obtenez-vous ?**\n",
        "\n",
        "---\n",
        "\n"
      ]
    },
    {
      "cell_type": "markdown",
      "metadata": {
        "id": "S4a4P1vONonA"
      },
      "source": [
        "*Réponse : ...*"
      ]
    },
    {
      "cell_type": "markdown",
      "metadata": {
        "id": "qt1I_wmEHCql"
      },
      "source": [
        "**Afficher les courbes de loss**"
      ]
    },
    {
      "cell_type": "code",
      "metadata": {
        "id": "H0YpHB_oHC1o"
      },
      "source": [
        "# plt.plot( ...\n",
        "# plt.plot( ..."
      ],
      "execution_count": null,
      "outputs": []
    },
    {
      "cell_type": "markdown",
      "metadata": {
        "id": "a1MNYnh-PDVf"
      },
      "source": [
        "## **5 - Visualisation des prédictions**"
      ]
    },
    {
      "cell_type": "markdown",
      "metadata": {
        "id": "Fjl1m8kjJcqq"
      },
      "source": [
        "**Effectuer les prédictions du modèle sur le jeu de test**"
      ]
    },
    {
      "cell_type": "code",
      "metadata": {
        "id": "XmAqe5WmPDbw"
      },
      "source": [
        "# Y_pred = ..."
      ],
      "execution_count": null,
      "outputs": []
    },
    {
      "cell_type": "markdown",
      "metadata": {
        "id": "b9IiwgznJgzB"
      },
      "source": [
        "**Afficher les prédictions**"
      ]
    },
    {
      "cell_type": "code",
      "metadata": {
        "id": "rJ55EGbRPYEN"
      },
      "source": [
        "# ..."
      ],
      "execution_count": null,
      "outputs": []
    },
    {
      "cell_type": "markdown",
      "metadata": {
        "id": "ZnRlVy17Jlr9"
      },
      "source": [
        "**Afficher les dimensions de l'array des précisions**"
      ]
    },
    {
      "cell_type": "code",
      "metadata": {
        "id": "V4gS-l87JudS"
      },
      "source": [
        "# ..."
      ],
      "execution_count": null,
      "outputs": []
    },
    {
      "cell_type": "markdown",
      "metadata": {
        "id": "R05CeHBPJpAE"
      },
      "source": [
        "**Que remarque-t-on ?**\n",
        "\n",
        "\n",
        "---"
      ]
    },
    {
      "cell_type": "markdown",
      "metadata": {
        "id": "jM4_3M7-JpDM"
      },
      "source": [
        "*Réponse : ...*"
      ]
    },
    {
      "cell_type": "markdown",
      "metadata": {
        "id": "RyHfGK4LJzho"
      },
      "source": [
        "**Transformer les précisions**\n",
        "\n",
        "Afin d'obternir la classe que le modèle prédit"
      ]
    },
    {
      "cell_type": "code",
      "metadata": {
        "id": "HpkM3CFQPYG2"
      },
      "source": [
        "# y_pred = ..."
      ],
      "execution_count": null,
      "outputs": []
    },
    {
      "cell_type": "markdown",
      "metadata": {
        "id": "9dhkgXCOKHa5"
      },
      "source": [
        "**Afficher les prédictions transformées**"
      ]
    },
    {
      "cell_type": "code",
      "metadata": {
        "id": "PyYT0McwPrma"
      },
      "source": [
        "# ..."
      ],
      "execution_count": null,
      "outputs": []
    },
    {
      "cell_type": "markdown",
      "metadata": {
        "id": "jAIyV221KQJ2"
      },
      "source": [
        "**Afficher 10 predictions où le modèle s'est trompé**\n",
        "\n",
        "Afficher les images, leurs labels et leurs prédictions"
      ]
    },
    {
      "cell_type": "code",
      "metadata": {
        "id": "_JyHiNl0Prpo"
      },
      "source": [
        "# ..."
      ],
      "execution_count": null,
      "outputs": []
    },
    {
      "cell_type": "code",
      "metadata": {
        "id": "FqgjoyGhVeXf"
      },
      "source": [
        "# ..."
      ],
      "execution_count": null,
      "outputs": []
    },
    {
      "cell_type": "code",
      "metadata": {
        "id": "PosMtAYgR2Im"
      },
      "source": [
        "# for i in range(10):\n",
        "#   ..."
      ],
      "execution_count": null,
      "outputs": []
    },
    {
      "cell_type": "markdown",
      "metadata": {
        "id": "dV9-q4WdAv1r"
      },
      "source": [
        "## **6 - Prediction sur une nouvelle image**\n",
        "\n",
        "On utilise la librairie PIL afin de traiter nos images"
      ]
    },
    {
      "cell_type": "code",
      "metadata": {
        "id": "MVKoEuLq9iA_"
      },
      "source": [
        "import urllib.request # permet de télécharger des images depuis internet"
      ],
      "execution_count": null,
      "outputs": []
    },
    {
      "cell_type": "code",
      "metadata": {
        "id": "tu3BLJU8A4g_"
      },
      "source": [
        "urllib.request.urlretrieve(\"http://ekladata.com/8qVY7jLrhi1P_aqf2mCZKynK4JM.jpg\", \"img_grenouille\") #lien de l'image sur internet"
      ],
      "execution_count": null,
      "outputs": []
    },
    {
      "cell_type": "markdown",
      "metadata": {
        "id": "wD6w50UdK14N"
      },
      "source": [
        "**Import le module Image de la librairie PIL**"
      ]
    },
    {
      "cell_type": "code",
      "metadata": {
        "id": "ZU74LC8X9iD1"
      },
      "source": [
        "# from PIL "
      ],
      "execution_count": null,
      "outputs": []
    },
    {
      "cell_type": "markdown",
      "metadata": {
        "id": "9ZD9AL9MeJdU"
      },
      "source": [
        "**Lire l'image importée**"
      ]
    },
    {
      "cell_type": "code",
      "metadata": {
        "id": "Rs6d0VFECiPd"
      },
      "source": [
        "# img = ..."
      ],
      "execution_count": null,
      "outputs": []
    },
    {
      "cell_type": "markdown",
      "metadata": {
        "id": "n8k5wy9ZeLgp"
      },
      "source": [
        "**Afficher l'image**"
      ]
    },
    {
      "cell_type": "code",
      "metadata": {
        "id": "HURIgcIvCiSp"
      },
      "source": [
        "# plt. ..."
      ],
      "execution_count": null,
      "outputs": []
    },
    {
      "cell_type": "markdown",
      "metadata": {
        "id": "3dwtQrhKeN3A"
      },
      "source": [
        "**Définir une fonction permettant de faire une prédiction sur une image**"
      ]
    },
    {
      "cell_type": "code",
      "metadata": {
        "id": "lD8nWbp1CyLz"
      },
      "source": [
        "#def prediction(image):\n",
        "#  ..."
      ],
      "execution_count": null,
      "outputs": []
    },
    {
      "cell_type": "markdown",
      "metadata": {
        "id": "ujVEKg3beQVM"
      },
      "source": [
        "**Effectuer une prédiction de l'image**"
      ]
    },
    {
      "cell_type": "code",
      "metadata": {
        "id": "TO0p8ggnCyOu"
      },
      "source": [
        "# print(\"Prediction de l'image ..."
      ],
      "execution_count": null,
      "outputs": []
    },
    {
      "cell_type": "markdown",
      "metadata": {
        "id": "k8MSr0NSLHt_"
      },
      "source": [
        "## **7 - Amélioration des résultats**"
      ]
    },
    {
      "cell_type": "markdown",
      "metadata": {
        "id": "5jqp90vtLH_n"
      },
      "source": [
        "Deux méthodes permettent d'améliorer le résultat précedent "
      ]
    },
    {
      "cell_type": "markdown",
      "metadata": {
        "id": "lkEbZb9LLdkE"
      },
      "source": [
        "## 7.1 - Augmentation de données"
      ]
    },
    {
      "cell_type": "markdown",
      "metadata": {
        "id": "eP2FQ8zwAdB9"
      },
      "source": [
        "Pour faire notre augmentation de données nous utilisons la classe ImageDataGenerator qui permet de créer un générateur python qui fait des transformations aléatoires sur les images."
      ]
    },
    {
      "cell_type": "markdown",
      "metadata": {
        "id": "Xm4E9ZcqBF1h"
      },
      "source": [
        "**Import la classe ImageDataGenerator de la librairie Keras**"
      ]
    },
    {
      "cell_type": "code",
      "metadata": {
        "id": "bllb2GPXLvsP"
      },
      "source": [
        "# from tensorflow.keras.preprocessing.image ..."
      ],
      "execution_count": null,
      "outputs": []
    },
    {
      "cell_type": "markdown",
      "metadata": {
        "id": "YuUyNKSVBRnH"
      },
      "source": [
        "**Créer un générateur d'augmentation de données à partir de cette classe**"
      ]
    },
    {
      "cell_type": "code",
      "metadata": {
        "id": "ZT6HjHf1Lvvy"
      },
      "source": [
        "# datagen = ..."
      ],
      "execution_count": null,
      "outputs": []
    },
    {
      "cell_type": "markdown",
      "metadata": {
        "id": "ZGbJa7sjBln9"
      },
      "source": [
        "**Re-créer votre modèle et afficher son résumé**\n",
        "\n",
        "On recrée un nouveau modèle afin de reinitialiser les poids et de pouvoir comparer les performances"
      ]
    },
    {
      "cell_type": "code",
      "metadata": {
        "id": "qLJy4z0lMbrN"
      },
      "source": [
        "# ..."
      ],
      "execution_count": null,
      "outputs": []
    },
    {
      "cell_type": "markdown",
      "metadata": {
        "id": "bhXggiioCM__"
      },
      "source": [
        "**Créer un nouveau jeu de données de validation à partir du jeu d'entrainement**\n",
        "\n",
        "\n",
        "Il faut créer un jeu de validation à part qui n'est pas affecté par l'augmentation de données du générateur\n",
        "\n",
        "On utilise la fonction train_test_split de scikit-learn"
      ]
    },
    {
      "cell_type": "code",
      "metadata": {
        "id": "SQ3LlNwmNvr2"
      },
      "source": [
        "# from sklearn.model_selection ..."
      ],
      "execution_count": null,
      "outputs": []
    },
    {
      "cell_type": "code",
      "metadata": {
        "id": "iwQ6pqIvNvvA"
      },
      "source": [
        "# X_train_2, X_val, Y_train_2, Y_val = ..."
      ],
      "execution_count": null,
      "outputs": []
    },
    {
      "cell_type": "markdown",
      "metadata": {
        "id": "umzC1WEsDDYp"
      },
      "source": [
        "**Entrainer le modèle**\n",
        "\n",
        "\n",
        "On utilise la méthode fit_generator cette fois-ci au lieu de fit."
      ]
    },
    {
      "cell_type": "code",
      "metadata": {
        "id": "2-HqfW87Mapy"
      },
      "source": [
        "# history = ..."
      ],
      "execution_count": null,
      "outputs": []
    },
    {
      "cell_type": "markdown",
      "metadata": {
        "id": "gvyb2gtbDqlE"
      },
      "source": [
        "**Evaluer le modèle sur le jeu de test**\n",
        "\n",
        "Afficher la loss et l'accuracy du modèle"
      ]
    },
    {
      "cell_type": "code",
      "metadata": {
        "id": "AWO_FeRgg8mI"
      },
      "source": [
        "# scores = ...\n",
        "# print(...)\n",
        "# print(...)"
      ],
      "execution_count": null,
      "outputs": []
    },
    {
      "cell_type": "markdown",
      "metadata": {
        "id": "BdSXCkwjOCOM"
      },
      "source": [
        "**Quelle accuracy obtenez-vous ?**\n",
        "\n",
        "---\n",
        "\n"
      ]
    },
    {
      "cell_type": "markdown",
      "metadata": {
        "id": "FigcRGLSOCSC"
      },
      "source": [
        "*77% d'accuracy*"
      ]
    },
    {
      "cell_type": "markdown",
      "metadata": {
        "id": "wCW0DxZDDrU9"
      },
      "source": [
        "**Afficher les courbes de loss**"
      ]
    },
    {
      "cell_type": "code",
      "metadata": {
        "id": "Czy62VIO6zcS"
      },
      "source": [
        "# plt.plot( ...\n",
        "# plt.plot( ..."
      ],
      "execution_count": null,
      "outputs": []
    },
    {
      "cell_type": "markdown",
      "metadata": {
        "id": "bmLK8bF3Dvac"
      },
      "source": [
        "**Que peut-on en conclure ?**\n",
        "\n",
        "---\n",
        "\n"
      ]
    },
    {
      "cell_type": "markdown",
      "metadata": {
        "id": "IraDF9ZzD3n_"
      },
      "source": [
        "*On obtient un meilleur résulat.*\n",
        "\n",
        "*Le modèle met plus de temps à s'entrainer et on sur apprend moins.*"
      ]
    },
    {
      "cell_type": "markdown",
      "metadata": {
        "id": "MZfz4FKSO6q-"
      },
      "source": [
        "## 7.2 - Transfer Learning"
      ]
    },
    {
      "cell_type": "markdown",
      "metadata": {
        "id": "NvjZz53tEYZ-"
      },
      "source": [
        "Pour effecteur notre transfer learning on part d'un modèle VGG16 pré-entrainé sur le jeu de données ImageNet.\n",
        "\n",
        "L'architecture et les poids du modèle se trouvent aussi dans Keras."
      ]
    },
    {
      "cell_type": "markdown",
      "metadata": {
        "id": "AETvA1nbE5j5"
      },
      "source": [
        "**Importer la fonction VGG16 de la librairie Keras**\n",
        "\n",
        "Importer aussi la classe Model qui permet de créer un nouveau modèle à partir d'un modèle existant."
      ]
    },
    {
      "cell_type": "code",
      "metadata": {
        "id": "hl4vMp4hPtQI"
      },
      "source": [
        "# from tensorflow.keras.models import ...\n",
        "# from tensorflow.keras.applications import ..."
      ],
      "execution_count": null,
      "outputs": []
    },
    {
      "cell_type": "markdown",
      "metadata": {
        "id": "L8lh850GFEhw"
      },
      "source": [
        "**Faire une fonction qui permet de créer notre modèle à partir du modèle pré-entrainé**"
      ]
    },
    {
      "cell_type": "code",
      "metadata": {
        "id": "Vvo-kofXO6Z-"
      },
      "source": [
        "#def create_model_transfer():\n",
        "#  ..."
      ],
      "execution_count": null,
      "outputs": []
    },
    {
      "cell_type": "markdown",
      "metadata": {
        "id": "AykXhugVFtqJ"
      },
      "source": [
        "**Afficher un résumé de votre modèle**"
      ]
    },
    {
      "cell_type": "code",
      "metadata": {
        "id": "WUZtpc2WMatD"
      },
      "source": [
        "# ..."
      ],
      "execution_count": null,
      "outputs": []
    },
    {
      "cell_type": "markdown",
      "metadata": {
        "id": "BEtmUqPJF2ip"
      },
      "source": [
        "**Quel est le problème si on indique la taille des images en entrée du réseau ?**\n",
        "\n",
        "---\n",
        "\n"
      ]
    },
    {
      "cell_type": "markdown",
      "metadata": {
        "id": "YOF2X1cXF2zT"
      },
      "source": [
        "*Réponse : ...*"
      ]
    },
    {
      "cell_type": "markdown",
      "metadata": {
        "id": "svxXTQCsGsdk"
      },
      "source": [
        "**Faire une fonction permettant de doubler la taille de nos images dans notre jeu de données**"
      ]
    },
    {
      "cell_type": "code",
      "metadata": {
        "id": "yXeA4Z39VP_P"
      },
      "source": [
        "from tqdm import tqdm # Utile pour suivre la progression de notre fonction"
      ],
      "execution_count": null,
      "outputs": []
    },
    {
      "cell_type": "code",
      "metadata": {
        "id": "YbgsNLyyUQ-L"
      },
      "source": [
        "#def upscaling_dataset(dataset):\n",
        "#  ..."
      ],
      "execution_count": null,
      "outputs": []
    },
    {
      "cell_type": "code",
      "metadata": {
        "id": "z-gXyf_FUsXg"
      },
      "source": [
        "# X_train_3 = ...\n",
        "# X_test_3 = ..."
      ],
      "execution_count": null,
      "outputs": []
    },
    {
      "cell_type": "markdown",
      "metadata": {
        "id": "hcjPbreQHgQl"
      },
      "source": [
        "**Re-changer le data type des données en float32**"
      ]
    },
    {
      "cell_type": "code",
      "metadata": {
        "id": "Df1b_yVgV8r9"
      },
      "source": [
        "# X_train_3 = ...\n",
        "# X_test_3 = ..."
      ],
      "execution_count": null,
      "outputs": []
    },
    {
      "cell_type": "markdown",
      "metadata": {
        "id": "kROoX9w5HUPM"
      },
      "source": [
        "**Re-normaliser les données afin que les pixels soient compris entre 0 et 1**"
      ]
    },
    {
      "cell_type": "code",
      "metadata": {
        "id": "mwEi7eU_dFxm"
      },
      "source": [
        "# ...\n",
        "# ..."
      ],
      "execution_count": null,
      "outputs": []
    },
    {
      "cell_type": "markdown",
      "metadata": {
        "id": "vCX66ndYHr8L"
      },
      "source": [
        "**Entrainer le nouveau modèle**"
      ]
    },
    {
      "cell_type": "code",
      "metadata": {
        "id": "huev4hMKQCwe"
      },
      "source": [
        "# history = ..."
      ],
      "execution_count": null,
      "outputs": []
    },
    {
      "cell_type": "markdown",
      "metadata": {
        "id": "97F03sPCIEFD"
      },
      "source": [
        "**Evaluer le modèle sur le jeu de test**\n",
        "\n",
        "Afficher la loss et l'accuracy du modèle"
      ]
    },
    {
      "cell_type": "code",
      "metadata": {
        "id": "IcrOwtUtZ5sE"
      },
      "source": [
        "# scores = ...\n",
        "# print(...)\n",
        "# print(...)"
      ],
      "execution_count": null,
      "outputs": []
    },
    {
      "cell_type": "markdown",
      "metadata": {
        "id": "297Lp2jJOJGy"
      },
      "source": [
        "**Quelle accuracy obtenez-vous ?**\n",
        "\n",
        "---\n",
        "\n"
      ]
    },
    {
      "cell_type": "markdown",
      "metadata": {
        "id": "7rZ2uThpOJKk"
      },
      "source": [
        "*Réponse : ...*"
      ]
    },
    {
      "cell_type": "markdown",
      "metadata": {
        "id": "J6G1PY2sIFjB"
      },
      "source": [
        "**Que peut-on en conclure ? **\n",
        "\n",
        "---\n",
        "\n"
      ]
    },
    {
      "cell_type": "markdown",
      "metadata": {
        "id": "yte00zA1IkO3"
      },
      "source": [
        "*Réponse : ...*"
      ]
    },
    {
      "cell_type": "markdown",
      "metadata": {
        "id": "EfYqcWSyOQCC"
      },
      "source": [
        "# Fin"
      ]
    }
  ]
}